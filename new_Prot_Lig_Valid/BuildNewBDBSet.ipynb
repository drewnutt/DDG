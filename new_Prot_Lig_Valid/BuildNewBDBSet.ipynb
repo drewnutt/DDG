{
 "cells": [
  {
   "cell_type": "code",
   "execution_count": 2,
   "metadata": {},
   "outputs": [],
   "source": [
    "import pandas as pd\n",
    "from glob import glob\n",
    "from matplotlib import pyplot as plt\n",
    "import os\n",
    "import re\n",
    "import numpy as np\n",
    "from itertools import permutations\n",
    "import requests\n",
    "from matplotlib_venn import venn3, venn3_circles\n",
    "import shutil\n",
    "from plumbum.cmd import obabel\n",
    "from rdkit import Chem, DataStructs\n",
    "import math\n",
    "import requests\n",
    "from bs4 import BeautifulSoup\n",
    "%matplotlib inline"
   ]
  },
  {
   "cell_type": "code",
   "execution_count": 2,
   "metadata": {},
   "outputs": [],
   "source": [
    "docked_dir = glob('BDB_docked/*/')"
   ]
  },
  {
   "cell_type": "code",
   "execution_count": 3,
   "metadata": {},
   "outputs": [
    {
     "name": "stdout",
     "output_type": "stream",
     "text": [
      "number docked directories:\t1597\n"
     ]
    }
   ],
   "source": [
    "print(f'number docked directories:\\t{len(docked_dir)}')"
   ]
  },
  {
   "cell_type": "code",
   "execution_count": 4,
   "metadata": {},
   "outputs": [],
   "source": [
    "full_docked_df = pd.DataFrame(columns=['Compound', 'Structure File', 'Surflex Score', 'Ki(nM)', 'IC50(nM)',\n",
    "       'Kd(nM)'])\n",
    "bad_prots = []\n",
    "for dd in docked_dir:\n",
    "    protein = dd.split('/')[-2].split('_')[0]\n",
    "    if os.path.isfile(f'{dd}{protein}.csv'):  \n",
    "        full_docked_df = full_docked_df.append(pd.read_csv(f'{dd}{protein}.csv'),ignore_index=True)\n",
    "    else:\n",
    "        bad_prots.append(f'{dd}{protein}.csv')"
   ]
  },
  {
   "cell_type": "code",
   "execution_count": 5,
   "metadata": {},
   "outputs": [],
   "source": [
    "full_docked_df['Receptor'] = full_docked_df['Structure File'].apply(lambda x: re.findall('(?<=surflex/)[A-Z\\d]{4}(?=_)',x)[0])\n",
    "full_docked_df['Ligand ID'] = full_docked_df['Structure File'].apply(lambda x: x.split('.')[-2].split('_')[-1])\n",
    "full_docked_df['rec_ligscaff'] = full_docked_df['Structure File'].apply(lambda x: x.split('/')[-2])"
   ]
  },
  {
   "cell_type": "markdown",
   "metadata": {},
   "source": [
    "### IC50 is most prevalent\n",
    "Therefore we subset the whole frame to those ligands with IC50 measurements"
   ]
  },
  {
   "cell_type": "code",
   "execution_count": 6,
   "metadata": {},
   "outputs": [],
   "source": [
    "ic50_avail_df = full_docked_df[full_docked_df['IC50(nM)'].notna()]"
   ]
  },
  {
   "cell_type": "code",
   "execution_count": 7,
   "metadata": {},
   "outputs": [
    {
     "name": "stdout",
     "output_type": "stream",
     "text": [
      "971 unique receptors\n",
      "6602 unique recptor-ligand pairs\n"
     ]
    }
   ],
   "source": [
    "print('{} unique receptors'.format(len(ic50_avail_df['Receptor'].unique())))\n",
    "print('{} unique recptor-ligand pairs'.format(len(ic50_avail_df.drop_duplicates(subset=['Receptor','Ligand ID']))))"
   ]
  },
  {
   "cell_type": "code",
   "execution_count": 8,
   "metadata": {},
   "outputs": [
    {
     "data": {
      "text/plain": [
       "<matplotlib.legend.Legend at 0x7f8bce333c50>"
      ]
     },
     "execution_count": 8,
     "metadata": {},
     "output_type": "execute_result"
    },
    {
     "data": {
      "image/png": "[encoded data removed]",
      "text/plain": [
       "<Figure size 432x288 with 1 Axes>"
      ]
     },
     "metadata": {
      "needs_background": "light"
     },
     "output_type": "display_data"
    }
   ],
   "source": [
    "ic50_rm_lig_gp = ic50_avail_df.groupby('Receptor')\n",
    "lig_counts = ic50_rm_lig_gp.count()['Ligand ID']\n",
    "plt.hist(lig_counts,bins=np.arange(1,max(lig_counts),1),align='left')\n",
    "plt.axvline(x=np.mean(lig_counts),label=f'Average={np.mean(lig_counts):.3f}',color='k',linestyle='--')\n",
    "plt.xlabel('Ligands in Series')\n",
    "plt.xlim([1,max(lig_counts)])\n",
    "plt.ylabel('Frequency')\n",
    "plt.legend()"
   ]
  },
  {
   "cell_type": "code",
   "execution_count": 9,
   "metadata": {},
   "outputs": [],
   "source": [
    "more_than_one_IC50_bool = ic50_avail_df['IC50(nM)'].apply(lambda x: len(str(x).split(';')) > 1)\n",
    "ic50_rm_mt1_meas = ic50_avail_df[~more_than_one_IC50_bool].copy()\n",
    "ic50_rm_mt1_meas['IC50(nM)'] = ic50_rm_mt1_meas['IC50(nM)'].apply(lambda x: float(x.strip('><')) if isinstance(x,str) else x)\n",
    "ic50_mt1_meas = (ic50_avail_df[more_than_one_IC50_bool].reset_index())\n",
    "\n",
    "## Getting the median \n",
    "ic50_mt1_meas['IC50(nM)'] = ic50_mt1_meas['IC50(nM)'].apply(lambda x: np.median([float(val.strip('><')) for val in x.split(';')]))"
   ]
  },
  {
   "cell_type": "code",
   "execution_count": 10,
   "metadata": {},
   "outputs": [],
   "source": [
    "all_ic50_meas = ic50_rm_mt1_meas.append(ic50_mt1_meas)\n",
    "all_ic50_gp = all_ic50_meas.groupby('rec_ligscaff')\n",
    "all_ic50_final = all_ic50_gp.filter(lambda x: len(x['Ligand ID'].unique()) > 1) ## remove groups with less than 2 ligands"
   ]
  },
  {
   "cell_type": "code",
   "execution_count": 11,
   "metadata": {},
   "outputs": [
    {
     "data": {
      "text/plain": [
       "Text(0.5, 0, 'pIC50')"
      ]
     },
     "execution_count": 11,
     "metadata": {},
     "output_type": "execute_result"
    },
    {
     "data": {
      "image/png": "[encoded data removed]",
      "text/plain": [
       "<Figure size 432x288 with 1 Axes>"
      ]
     },
     "metadata": {
      "needs_background": "light"
     },
     "output_type": "display_data"
    }
   ],
   "source": [
    "plt.hist(-np.log10(all_ic50_meas['IC50(nM)']*(1E-9)))\n",
    "plt.xlabel('pIC50')"
   ]
  },
  {
   "cell_type": "code",
   "execution_count": 12,
   "metadata": {},
   "outputs": [
    {
     "data": {
      "text/plain": [
       "<matplotlib.legend.Legend at 0x7f8bca143ad0>"
      ]
     },
     "execution_count": 12,
     "metadata": {},
     "output_type": "execute_result"
    },
    {
     "data": {
      "image/png": "[encoded data removed]",
      "text/plain": [
       "<Figure size 432x288 with 1 Axes>"
      ]
     },
     "metadata": {
      "needs_background": "light"
     },
     "output_type": "display_data"
    }
   ],
   "source": [
    "ic50_rm_lig_gp = all_ic50_final.groupby('Receptor')\n",
    "lig_counts = ic50_rm_lig_gp.count()['Ligand ID']\n",
    "plt.hist(lig_counts,bins=np.arange(1,max(lig_counts),1),align='left')\n",
    "plt.axvline(x=np.mean(lig_counts),label=f'Average={np.mean(lig_counts):.3f}',color='k',linestyle='--')\n",
    "plt.xlabel('Ligands in Series')\n",
    "plt.xlim([0,max(lig_counts)])\n",
    "plt.ylabel('Frequency')\n",
    "plt.legend()"
   ]
  },
  {
   "cell_type": "markdown",
   "metadata": {},
   "source": [
    "### Ki is next most prevalent\n",
    "Therefore we subset the whole frame to those ligands with Ki measurements"
   ]
  },
  {
   "cell_type": "code",
   "execution_count": 13,
   "metadata": {},
   "outputs": [],
   "source": [
    "ki_avail_df = full_docked_df[full_docked_df['Ki(nM)'].notna()]"
   ]
  },
  {
   "cell_type": "code",
   "execution_count": 14,
   "metadata": {},
   "outputs": [
    {
     "name": "stdout",
     "output_type": "stream",
     "text": [
      "474 unique receptors\n",
      "2415 unique recptor-ligand pairs\n"
     ]
    }
   ],
   "source": [
    "print('{} unique receptors'.format(len(ki_avail_df['Receptor'].unique())))\n",
    "print('{} unique recptor-ligand pairs'.format(len(ki_avail_df.drop_duplicates(subset=['Receptor','Ligand ID']))))"
   ]
  },
  {
   "cell_type": "code",
   "execution_count": 15,
   "metadata": {},
   "outputs": [
    {
     "data": {
      "text/plain": [
       "<matplotlib.legend.Legend at 0x7f8bca062c10>"
      ]
     },
     "execution_count": 15,
     "metadata": {},
     "output_type": "execute_result"
    },
    {
     "data": {
      "image/png": "[encoded data removed]",
      "text/plain": [
       "<Figure size 432x288 with 1 Axes>"
      ]
     },
     "metadata": {
      "needs_background": "light"
     },
     "output_type": "display_data"
    }
   ],
   "source": [
    "ki_avail_df_gp = ki_avail_df.groupby('rec_ligscaff')\n",
    "lig_counts = ki_avail_df_gp.count()['Ligand ID']\n",
    "plt.hist(lig_counts,bins=np.arange(1,max(lig_counts),1),align='left')\n",
    "plt.axvline(x=np.mean(lig_counts),label=f'Average={np.mean(lig_counts):.3f}',color='k',linestyle='--')\n",
    "plt.xlabel('Ligands in Series')\n",
    "plt.xlim([0,max(lig_counts)])\n",
    "plt.ylabel('Frequency')\n",
    "plt.legend()"
   ]
  },
  {
   "cell_type": "code",
   "execution_count": 16,
   "metadata": {},
   "outputs": [],
   "source": [
    "# ki_mt1_meas = ki_rm_lig['Ki(nM)'].apply(lambda x: np.median([float(val.strip('><')) for val in x.split(';')] if isinstance(x,str) else x ))\n",
    "more_than_one_KI_bool = ki_avail_df['Ki(nM)'].apply(lambda x: len(str(x).split(';')) > 1)\n",
    "ki_rm_mt1_meas = ki_avail_df[~more_than_one_KI_bool].copy()\n",
    "ki_rm_mt1_meas['Ki(nM)'] = ki_rm_mt1_meas['Ki(nM)'].apply(lambda x: float(x.strip('><')) if isinstance(x,str) else x)\n",
    "ki_mt1_meas = (ki_avail_df[more_than_one_KI_bool].reset_index())\n",
    "\n",
    "## Getting the median \n",
    "ki_mt1_meas['Ki(nM)'] = ki_mt1_meas['Ki(nM)'].apply(lambda x: np.median([float(val.strip('><')) for val in x.split(';')]))"
   ]
  },
  {
   "cell_type": "code",
   "execution_count": 17,
   "metadata": {},
   "outputs": [],
   "source": [
    "all_ki_meas = ki_rm_mt1_meas.append(ki_mt1_meas)\n",
    "all_ki_meas = all_ki_meas.drop(all_ki_meas[all_ki_meas['Ki(nM)'] == 0].index)\n",
    "all_ki_gp = all_ki_meas.groupby('rec_ligscaff')\n",
    "all_ki_final = all_ki_gp.filter(lambda x: len(x['Ligand ID'].unique()) > 1) ## remove groups with less than 2 ligands"
   ]
  },
  {
   "cell_type": "code",
   "execution_count": 18,
   "metadata": {},
   "outputs": [
    {
     "name": "stdout",
     "output_type": "stream",
     "text": [
      "-1.2786700047745363 11.0\n"
     ]
    }
   ],
   "source": [
    "print(min(-np.log10(all_ki_meas['Ki(nM)']*(1E-9))),max(-np.log10(all_ki_meas['Ki(nM)']*(1E-9))))"
   ]
  },
  {
   "cell_type": "code",
   "execution_count": 19,
   "metadata": {},
   "outputs": [
    {
     "data": {
      "text/plain": [
       "Text(0.5, 0, 'pKi')"
      ]
     },
     "execution_count": 19,
     "metadata": {},
     "output_type": "execute_result"
    },
    {
     "data": {
      "image/png": "[encoded data removed]",
      "text/plain": [
       "<Figure size 432x288 with 1 Axes>"
      ]
     },
     "metadata": {
      "needs_background": "light"
     },
     "output_type": "display_data"
    }
   ],
   "source": [
    "plt.hist(-np.log10(all_ki_meas['Ki(nM)']*(1E-9)))\n",
    "plt.xlabel('pKi')"
   ]
  },
  {
   "cell_type": "code",
   "execution_count": 20,
   "metadata": {},
   "outputs": [
    {
     "data": {
      "text/plain": [
       "<matplotlib.legend.Legend at 0x7f8bc9f2a7d0>"
      ]
     },
     "execution_count": 20,
     "metadata": {},
     "output_type": "execute_result"
    },
    {
     "data": {
      "image/png": "[encoded data removed]",
      "text/plain": [
       "<Figure size 432x288 with 1 Axes>"
      ]
     },
     "metadata": {
      "needs_background": "light"
     },
     "output_type": "display_data"
    }
   ],
   "source": [
    "ki_avail_df_gp = all_ki_final.groupby('rec_ligscaff')\n",
    "lig_counts = ki_avail_df_gp.count()['Ligand ID']\n",
    "plt.hist(lig_counts,bins=np.arange(1,max(lig_counts),1),align='left')\n",
    "plt.axvline(x=np.mean(lig_counts),label=f'Average={np.mean(lig_counts):.3f}',color='k',linestyle='--')\n",
    "plt.xlabel('Ligands in Series')\n",
    "plt.xlim([0,max(lig_counts)])\n",
    "plt.ylabel('Frequency')\n",
    "plt.legend()"
   ]
  },
  {
   "cell_type": "markdown",
   "metadata": {},
   "source": [
    "### Kd is the least prevalent\n",
    "Therefore we subset the whole frame to those ligands with Kd measurements"
   ]
  },
  {
   "cell_type": "code",
   "execution_count": 21,
   "metadata": {},
   "outputs": [],
   "source": [
    "kd_avail_df = full_docked_df[full_docked_df['Kd(nM)'].notna()]"
   ]
  },
  {
   "cell_type": "code",
   "execution_count": 22,
   "metadata": {},
   "outputs": [
    {
     "name": "stdout",
     "output_type": "stream",
     "text": [
      "218 unique receptors\n",
      "662 unique recptor-ligand pairs\n"
     ]
    }
   ],
   "source": [
    "print('{} unique receptors'.format(len(kd_avail_df['Receptor'].unique())))\n",
    "print('{} unique recptor-ligand pairs'.format(len(kd_avail_df.drop_duplicates(subset=['Receptor','Ligand ID']))))"
   ]
  },
  {
   "cell_type": "code",
   "execution_count": 23,
   "metadata": {},
   "outputs": [
    {
     "data": {
      "text/plain": [
       "<matplotlib.legend.Legend at 0x7f8bc9eb6b90>"
      ]
     },
     "execution_count": 23,
     "metadata": {},
     "output_type": "execute_result"
    },
    {
     "data": {
      "image/png": "[encoded data removed]",
      "text/plain": [
       "<Figure size 432x288 with 1 Axes>"
      ]
     },
     "metadata": {
      "needs_background": "light"
     },
     "output_type": "display_data"
    }
   ],
   "source": [
    "kd_rm_lig_gp = kd_avail_df.groupby('rec_ligscaff')\n",
    "lig_counts = kd_rm_lig_gp.count()['Ligand ID']\n",
    "plt.hist(lig_counts,bins=np.arange(1,max(lig_counts),1),align='left')\n",
    "plt.axvline(x=np.mean(lig_counts),label=f'Average={np.mean(lig_counts):.3f}',color='k',linestyle='--')\n",
    "plt.xlabel('Ligands in Series')\n",
    "plt.xlim([1,max(lig_counts)])\n",
    "plt.ylabel('Frequency')\n",
    "plt.legend()"
   ]
  },
  {
   "cell_type": "code",
   "execution_count": 24,
   "metadata": {},
   "outputs": [],
   "source": [
    "more_than_one_KD_bool = kd_avail_df['Kd(nM)'].apply(lambda x: len(str(x).split(';')) > 1)\n",
    "kd_rm_mt1_meas = kd_avail_df[~more_than_one_KD_bool].copy()\n",
    "kd_rm_mt1_meas['Kd(nM)'] = kd_rm_mt1_meas['Kd(nM)'].apply(lambda x: float(x.strip('><')) if isinstance(x,str) else x)\n",
    "kd_mt1_meas = (kd_avail_df[more_than_one_KD_bool].reset_index())\n",
    "\n",
    "## Getting the median \n",
    "kd_mt1_meas['Kd(nM)'] = kd_mt1_meas['Kd(nM)'].apply(lambda x: np.median([float(val.strip('><')) for val in x.split(';')]))"
   ]
  },
  {
   "cell_type": "code",
   "execution_count": 25,
   "metadata": {},
   "outputs": [],
   "source": [
    "all_kd_meas = kd_rm_mt1_meas.append(kd_mt1_meas)\n",
    "all_kd_meas = all_kd_meas.drop(all_kd_meas[all_kd_meas['Kd(nM)'] == 0].index)\n",
    "all_kd_gp = all_kd_meas.groupby('rec_ligscaff')\n",
    "all_kd_final = all_kd_gp.filter(lambda x: len(x['Ligand ID'].unique()) > 1) ## remove groups with less than 2 ligands\n"
   ]
  },
  {
   "cell_type": "code",
   "execution_count": 26,
   "metadata": {},
   "outputs": [
    {
     "name": "stdout",
     "output_type": "stream",
     "text": [
      "1.6882461389442456 11.0\n"
     ]
    }
   ],
   "source": [
    "print(min(-np.log10(all_kd_meas['Kd(nM)']*(1E-9))),max(-np.log10(all_kd_meas['Kd(nM)']*(1E-9))))"
   ]
  },
  {
   "cell_type": "code",
   "execution_count": 27,
   "metadata": {
    "scrolled": true
   },
   "outputs": [
    {
     "data": {
      "text/plain": [
       "Text(0.5, 0, 'pKd')"
      ]
     },
     "execution_count": 27,
     "metadata": {},
     "output_type": "execute_result"
    },
    {
     "data": {
      "image/png": "[encoded data removed]",
      "text/plain": [
       "<Figure size 432x288 with 1 Axes>"
      ]
     },
     "metadata": {
      "needs_background": "light"
     },
     "output_type": "display_data"
    }
   ],
   "source": [
    "plt.hist(-np.log10(all_kd_meas['Kd(nM)']*(1E-9)))\n",
    "plt.xlabel('pKd')"
   ]
  },
  {
   "cell_type": "code",
   "execution_count": 28,
   "metadata": {},
   "outputs": [
    {
     "data": {
      "text/plain": [
       "<matplotlib.legend.Legend at 0x7f8bc9dddd10>"
      ]
     },
     "execution_count": 28,
     "metadata": {},
     "output_type": "execute_result"
    },
    {
     "data": {
      "image/png": "[encoded data removed]",
      "text/plain": [
       "<Figure size 432x288 with 1 Axes>"
      ]
     },
     "metadata": {
      "needs_background": "light"
     },
     "output_type": "display_data"
    }
   ],
   "source": [
    "kd_rm_lig_gp = all_kd_final.groupby('rec_ligscaff')\n",
    "lig_counts = kd_rm_lig_gp.count()['Ligand ID']\n",
    "plt.hist(lig_counts,bins=np.arange(1,max(lig_counts),1),align='left')\n",
    "plt.axvline(x=np.mean(lig_counts),label=f'Average={np.mean(lig_counts):.3f}',color='k',linestyle='--')\n",
    "plt.xlabel('Ligands in Series')\n",
    "plt.xlim([1,max(lig_counts)])\n",
    "plt.ylabel('Frequency')\n",
    "plt.legend()"
   ]
  },
  {
   "cell_type": "code",
   "execution_count": 29,
   "metadata": {},
   "outputs": [],
   "source": [
    "## SEtting up the list of dataframes/measurments\n",
    "meas_dfs= [(all_ic50_final,'IC50(nM)'),(all_ki_final,'Ki(nM)'),(all_kd_final,'Kd(nM)')]"
   ]
  },
  {
   "cell_type": "markdown",
   "metadata": {},
   "source": [
    "## What about Receptors:\n",
    "Only including receptors that have more than 1 ligand"
   ]
  },
  {
   "cell_type": "code",
   "execution_count": 30,
   "metadata": {},
   "outputs": [],
   "source": [
    "meas_r_list = []\n",
    "for df,meas in meas_dfs:\n",
    "    meas_r_list.append(df['Receptor'].nunique())\n",
    "#     print(f'Non-Nan {meas}:{meas_r_list[-1]}')"
   ]
  },
  {
   "cell_type": "code",
   "execution_count": 31,
   "metadata": {},
   "outputs": [
    {
     "data": {
      "text/plain": [
       "Text(0.5, -0.5, 'Covers 980 unique PDB IDs')"
      ]
     },
     "execution_count": 31,
     "metadata": {},
     "output_type": "execute_result"
    },
    {
     "data": {
      "image/png": "[encoded data removed]",
      "text/plain": [
       "<Figure size 432x288 with 1 Axes>"
      ]
     },
     "metadata": {},
     "output_type": "display_data"
    }
   ],
   "source": [
    "meas_recs = dict()\n",
    "for df,meas in meas_dfs:\n",
    "    meas_recs[meas]=set(df[df[meas].notna()].apply(lambda row: '{}'.format(row['Receptor']), axis=1).values.tolist())\n",
    "total_overlap = len(meas_recs['Ki(nM)'].intersection(meas_recs['IC50(nM)'],meas_recs['Kd(nM)']))\n",
    "ki_ic50_overlap = len(meas_recs['Ki(nM)'].intersection(meas_recs['IC50(nM)']))\n",
    "ki_kd_overlap = len(meas_recs['Ki(nM)'].intersection(meas_recs['Kd(nM)']))\n",
    "ic50_kd_overlap = len(meas_recs['Kd(nM)'].intersection(meas_recs['IC50(nM)']))\n",
    "\n",
    "venn3(subsets = (meas_r_list[0], meas_r_list[1], ki_ic50_overlap, meas_r_list[2], ki_kd_overlap, ic50_kd_overlap, total_overlap), set_labels = ('Ki(nM)', 'IC50(nM)','Kd(nM)'), alpha = 0.5)\n",
    "plt.annotate(f\"Covers {len(meas_recs['Ki(nM)'].union(meas_recs['IC50(nM)'],meas_recs['Kd(nM)']))} unique PDB IDs\",xy=(0.5,-0.5))"
   ]
  },
  {
   "cell_type": "markdown",
   "metadata": {},
   "source": [
    "### Number of Ligands with each type of Measurement\n",
    "Again only considering ligands of proteins that have more than 1 ligand associated"
   ]
  },
  {
   "cell_type": "code",
   "execution_count": 32,
   "metadata": {},
   "outputs": [],
   "source": [
    "meas_list = []\n",
    "for df,meas in meas_dfs:\n",
    "    meas_list.append(len(df.drop_duplicates(subset=['Receptor','Ligand ID'])))\n",
    "#     print(f'Non-Nan {meas}:{meas_list[-1]}')"
   ]
  },
  {
   "cell_type": "code",
   "execution_count": 33,
   "metadata": {},
   "outputs": [
    {
     "data": {
      "text/plain": [
       "Text(0.5, -0.5, 'Covers 8879 protein-ligand pairs')"
      ]
     },
     "execution_count": 33,
     "metadata": {},
     "output_type": "execute_result"
    },
    {
     "data": {
      "image/png": "[encoded data removed]",
      "text/plain": [
       "<Figure size 432x288 with 1 Axes>"
      ]
     },
     "metadata": {},
     "output_type": "display_data"
    }
   ],
   "source": [
    "meas_ligs = dict()\n",
    "for df,meas in meas_dfs:\n",
    "    meas_ligs[meas]=set(df.apply(lambda row: '{}_{}'.format(row['Receptor'],row['Ligand ID']), axis=1).values.tolist())\n",
    "total_overlap = len(meas_ligs['Ki(nM)'].intersection(meas_ligs['IC50(nM)'],meas_ligs['Kd(nM)']))\n",
    "ki_ic50_overlap = len(meas_ligs['Ki(nM)'].intersection(meas_ligs['IC50(nM)']))\n",
    "ki_kd_overlap = len(meas_ligs['Ki(nM)'].intersection(meas_ligs['Kd(nM)']))\n",
    "ic50_kd_overlap = len(meas_ligs['Kd(nM)'].intersection(meas_ligs['IC50(nM)']))\n",
    "\n",
    "venn3(subsets = (meas_list[0], meas_list[1], ki_ic50_overlap, meas_list[2], ki_kd_overlap, ic50_kd_overlap, total_overlap), set_labels = ('Ki(nM)', 'IC50(nM)','Kd(nM)'), alpha = 0.5)\n",
    "plt.annotate(f\"Covers {len(meas_ligs['Ki(nM)'].union(meas_ligs['IC50(nM)'],meas_ligs['Kd(nM)']))} protein-ligand pairs\",xy=(0.5,-0.5))"
   ]
  },
  {
   "cell_type": "markdown",
   "metadata": {},
   "source": [
    "### Number of Congeneric Series with each type of Measurement\n",
    "Again only considering ligands of proteins that have more than 1 ligand associated"
   ]
  },
  {
   "cell_type": "code",
   "execution_count": 34,
   "metadata": {},
   "outputs": [],
   "source": [
    "meas_s_list = []\n",
    "for df,meas in meas_dfs:\n",
    "    meas_s_list.append(df['rec_ligscaff'].nunique())\n",
    "#     print(f'Non-Nan {meas}:{meas_list[-1]}')"
   ]
  },
  {
   "cell_type": "code",
   "execution_count": 35,
   "metadata": {},
   "outputs": [
    {
     "data": {
      "text/plain": [
       "Text(0.5, -0.5, 'Covers 986 congeneric series')"
      ]
     },
     "execution_count": 35,
     "metadata": {},
     "output_type": "execute_result"
    },
    {
     "data": {
      "image/png": "[encoded data removed]",
      "text/plain": [
       "<Figure size 432x288 with 1 Axes>"
      ]
     },
     "metadata": {},
     "output_type": "display_data"
    }
   ],
   "source": [
    "meas_series = dict()\n",
    "for df,meas in meas_dfs:\n",
    "    meas_series[meas]=set(df[df[meas].notna()].apply(lambda row: '{}'.format(row['rec_ligscaff']), axis=1).values.tolist())\n",
    "total_overlap = len(meas_series['Ki(nM)'].intersection(meas_series['IC50(nM)'],meas_series['Kd(nM)']))\n",
    "ki_ic50_overlap = len(meas_series['Ki(nM)'].intersection(meas_series['IC50(nM)']))\n",
    "ki_kd_overlap = len(meas_series['Ki(nM)'].intersection(meas_series['Kd(nM)']))\n",
    "ic50_kd_overlap = len(meas_series['Kd(nM)'].intersection(meas_series['IC50(nM)']))\n",
    "\n",
    "venn3(subsets = (meas_s_list[0], meas_s_list[1], ki_ic50_overlap, meas_s_list[2], ki_kd_overlap, ic50_kd_overlap, total_overlap), set_labels = ('Ki(nM)', 'IC50(nM)','Kd(nM)'), alpha = 0.5)\n",
    "plt.annotate(f\"Covers {len(meas_series['Ki(nM)'].union(meas_series['IC50(nM)'],meas_series['Kd(nM)']))} congeneric series\",xy=(0.5,-0.5))"
   ]
  },
  {
   "cell_type": "code",
   "execution_count": 36,
   "metadata": {},
   "outputs": [
    {
     "data": {
      "text/plain": [
       "1128"
      ]
     },
     "execution_count": 36,
     "metadata": {},
     "output_type": "execute_result"
    }
   ],
   "source": [
    "sum(meas_s_list)"
   ]
  },
  {
   "cell_type": "markdown",
   "metadata": {},
   "source": [
    "# Dealing with values with more than 1 IC50 measurement\n",
    "If we just toss them all out:"
   ]
  },
  {
   "cell_type": "code",
   "execution_count": null,
   "metadata": {},
   "outputs": [],
   "source": [
    "more_than_one_IC50_bool = ic50_rm_lig['IC50(nM)'].apply(lambda x: len(str(x).split(';')) > 1)\n",
    "ic50_rm_lig['IC50(nM)'] = ic50_rm_lig['IC50(nM)'].apply(lambda x: x.strip('><') if type(x) is str else x)\n",
    "ic50_rm_mt1_meas = ic50_rm_lig[~more_than_one_IC50_bool].copy()\n",
    "ic50_rm_mt1_meas['IC50(nM)'] = ic50_rm_mt1_meas['IC50(nM)'].astype(float)\n",
    "ic50_rm_mt1_meas_gp = ic50_rm_mt1_meas.groupby('Receptor')\n",
    "ic50_rm_lig_and_mt1 = ic50_rm_mt1_meas_gp.filter(lambda x: len(x) > 1) ## remove groups with less than 2 ligands\n",
    "print('{} unique PDBIDs with greater than 1 ligand'.format(len(ic50_rm_lig_and_mt1['Receptor'].unique())))\n",
    "print('{} unique receptor-ligand pairs'.format(len(ic50_rm_lig_and_mt1.drop_duplicates(subset=['Receptor','Ligand ID']))))"
   ]
  },
  {
   "cell_type": "code",
   "execution_count": null,
   "metadata": {},
   "outputs": [],
   "source": [
    "print(f'{more_than_one_IC50_bool.sum()} ligands with multiple IC50 values')"
   ]
  },
  {
   "cell_type": "code",
   "execution_count": null,
   "metadata": {},
   "outputs": [],
   "source": [
    "ic50_fin_gp = ic50_rm_lig_and_mt1.groupby('Receptor')\n",
    "lig_counts = ic50_fin_gp.count()['Ligand ID']\n",
    "plt.hist(lig_counts,bins=np.arange(1,max(lig_counts),1),align='left')\n",
    "plt.axvline(x=np.mean(lig_counts),label=f'Average={np.mean(lig_counts):.3f}',color='k',linestyle='--')\n",
    "plt.xlabel('Ligands in Series')\n",
    "plt.xlim([1.5,max(lig_counts)])\n",
    "plt.ylabel('Frequency')\n",
    "plt.legend()"
   ]
  },
  {
   "cell_type": "code",
   "execution_count": null,
   "metadata": {},
   "outputs": [],
   "source": [
    "ic50_range = -np.log10(ic50_fin_gp['IC50(nM)'].max()*(1E-9)) + np.log(ic50_fin_gp['IC50(nM)'].min()*(1E-9))\n",
    "plt.hist(ic50_range,align='left')\n",
    "plt.axvline(x=np.mean(ic50_range),label=f'Average={np.mean(ic50_range):.3f}',color='k',linestyle='--')\n",
    "plt.xlabel('$pIC_{50}$ Range in Each Congeneric Series (nM)')\n",
    "plt.xlim([1.5,max(ic50_range)])\n",
    "plt.ylabel('Frequency')\n",
    "plt.legend()"
   ]
  },
  {
   "cell_type": "code",
   "execution_count": null,
   "metadata": {},
   "outputs": [],
   "source": [
    "import matplotlib.colors as mcolors \n",
    "ic50_mt1_meas = (ic50_rm_lig[more_than_one_IC50_bool].reset_index())\n",
    "ic50_mt1_meas['split IC50(nM)'] = ic50_mt1_meas['IC50(nM)'].apply(lambda x: [float(val.strip('><')) for val in x.split(';')])\n",
    "fig = plt.figure(figsize=[15,8])\n",
    "colors = list(mcolors.BASE_COLORS.keys())\n",
    "sum_range = 0\n",
    "val_ranges = []\n",
    "for idx, row in ic50_mt1_meas.iterrows():\n",
    "    c = colors[idx % len(colors)]\n",
    "    val_range=max(row['split IC50(nM)'])-min(row['split IC50(nM)'])\n",
    "    plt.bar(idx,val_range,color=c)\n",
    "    val_ranges.append(val_range)\n",
    "    sum_range+= val_range\n",
    "plt.hlines(sum_range/idx,0,idx,linestyles='--')\n",
    "plt.annotate(f'{sum_range/idx:.2f}',(idx,sum_range/idx))\n",
    "plt.ylabel('Range of $IC_{50}$ values (nM)')"
   ]
  },
  {
   "cell_type": "code",
   "execution_count": null,
   "metadata": {},
   "outputs": [],
   "source": [
    "plt.hist([vals for vals in val_ranges if vals < 1E3 ],bins=100)"
   ]
  },
  {
   "cell_type": "code",
   "execution_count": null,
   "metadata": {},
   "outputs": [],
   "source": [
    "len(val_ranges)"
   ]
  },
  {
   "cell_type": "code",
   "execution_count": null,
   "metadata": {},
   "outputs": [],
   "source": [
    "for num in range(1,9):\n",
    "    print(f'{len([vals for vals in val_ranges if vals < 1*10**(num)])}')"
   ]
  },
  {
   "cell_type": "code",
   "execution_count": null,
   "metadata": {},
   "outputs": [],
   "source": [
    "sum_lens = 0\n",
    "number_vals = [len(list_vals) for list_vals in ic50_mt1_meas['split IC50(nM)'].values.tolist()]\n",
    "print(f'Avg Number of IC50 vals:{np.mean(number_vals)}\\nMedian number:\\t\\t{np.median(number_vals)}\\nMaximum number:\\t\\t{max(number_vals)}')\n",
    "plt.hist(number_vals)\n",
    "plt.xlabel('Number of $IC_{50}$ measurements for a protein-ligand pair')\n",
    "plt.ylabel('Number of protein-ligand pairs')"
   ]
  },
  {
   "cell_type": "markdown",
   "metadata": {},
   "source": [
    "# Setting up the dataset"
   ]
  },
  {
   "cell_type": "code",
   "execution_count": 9,
   "metadata": {},
   "outputs": [],
   "source": [
    "receptors = set()\n",
    "cong_series=set()\n",
    "comparisons=0\n",
    "ligands_per_series = []\n",
    "range_of_series = []\n",
    "dg_values = []\n",
    "for ms_df,measurement in meas_dfs:\n",
    "    receptors = receptors.union(set(ms_df['Receptor'].unique().tolist()))\n",
    "    ligands_per_series += ms_df.groupby('rec_ligscaff')['Ligand ID'].count().tolist()\n",
    "    dg_values += (-np.log10(ms_df[measurement]*1E-9)).tolist()\n",
    "    range_of_series += (-np.log10(ms_df.groupby('rec_ligscaff')[measurement].min().values*1E-9)+np.log10(ms_df.groupby('rec_ligscaff')[measurement].max().values*1E-9)).tolist()\n",
    "    cong_series = cong_series.union(set([f\"{val}_{measurement}\" for val in ms_df['rec_ligscaff'].unique().tolist()]))\n",
    "    comparisons += ms_df.groupby('rec_ligscaff')['Structure File'].count().apply(lambda x: math.factorial(x)/math.factorial(x-2) if x>=2 else 0).sum()"
   ]
  },
  {
   "cell_type": "code",
   "execution_count": 143,
   "metadata": {},
   "outputs": [
    {
     "data": {
      "image/png": "[encoded data removed]",
      "text/plain": [
       "<Figure size 576x432 with 1 Axes>"
      ]
     },
     "metadata": {
      "needs_background": "light"
     },
     "output_type": "display_data"
    }
   ],
   "source": [
    "plt.figure(figsize=[8,6])\n",
    "plt.hist(ligands_per_series,bins=np.arange(min(ligands_per_series), max(ligands_per_series) + 1, 1),align='left')\n",
    "plt.xticks(np.arange(min(ligands_per_series), max(ligands_per_series) + 1, 1))\n",
    "plt.xlabel('Number of ligands per congeneric series',size=15)\n",
    "plt.ylabel('Count',size=15)\n",
    "plt.axvline(x=np.mean(ligands_per_series),label=f'Average={np.mean(ligands_per_series):.3f}',color='k',linestyle='--')\n",
    "plt.legend()\n",
    "plt.savefig('congeneric_series_counts.png',dpi=300,transparent=True)"
   ]
  },
  {
   "cell_type": "code",
   "execution_count": 144,
   "metadata": {},
   "outputs": [
    {
     "data": {
      "image/png": "[encoded data removed]",
      "text/plain": [
       "<Figure size 576x432 with 1 Axes>"
      ]
     },
     "metadata": {
      "needs_background": "light"
     },
     "output_type": "display_data"
    }
   ],
   "source": [
    "plt.figure(figsize=[8,6])\n",
    "plt.hist(range_of_series,bins=np.arange(min(range_of_series), max(range_of_series) + 0.5, 0.5),align='left')\n",
    "plt.xticks(np.arange(min(range_of_series), max(range_of_series) + 0.5, 0.5))\n",
    "plt.xlabel('Range of pK per congeneric series',size=15)\n",
    "plt.ylabel('Count',size=15)\n",
    "plt.axvline(x=np.mean(range_of_series),label=f'Average={np.mean(range_of_series):.3f}',color='k',linestyle='--')\n",
    "plt.legend()\n",
    "plt.savefig('congeneric_series_range.png',dpi=300,transparent=True)"
   ]
  },
  {
   "cell_type": "code",
   "execution_count": 145,
   "metadata": {},
   "outputs": [
    {
     "name": "stdout",
     "output_type": "stream",
     "text": [
      "6.488909053427511 2.8247806828788975\n"
     ]
    }
   ],
   "source": [
    "print(np.mean(dg_values),np.var(dg_values))"
   ]
  },
  {
   "cell_type": "code",
   "execution_count": 100,
   "metadata": {},
   "outputs": [
    {
     "name": "stdout",
     "output_type": "stream",
     "text": [
      "980 1128 91352.0\n"
     ]
    }
   ],
   "source": [
    "print(len(receptors),len(cong_series),comparisons)"
   ]
  },
  {
   "cell_type": "code",
   "execution_count": null,
   "metadata": {
    "scrolled": true
   },
   "outputs": [],
   "source": [
    "## copy over the receptor file and ligand file\n",
    "bad_files = []\n",
    "for ms_df,measurement in meas_dfs:\n",
    "    ms_df['Reference'] = 0\n",
    "    ms_df['local file'] = ''\n",
    "    for recdir, group in ms_df.groupby('rec_ligscaff'):\n",
    "        max_tan = 0\n",
    "        sf = None\n",
    "        if not os.path.isdir(f\"ddg_dataset/{recdir}\"):\n",
    "            os.mkdir(f\"ddg_dataset/{recdir}\")\n",
    "        shutil.copyfile(f\"BDB_docked/{recdir}/{recdir.split('_')[0]}.mol2\",f\"ddg_dataset/{recdir}/{recdir.split('_')[0]}.mol2\")\n",
    "        refmol = Chem.MolFromMolFile(f\"BDB_docked/{recdir}/{recdir.split('_')[1]}.sdf\",sanitize=False)\n",
    "        if refmol is None:\n",
    "            print(recdir)\n",
    "            (obabel[f\"BDB_docked/{recdir}/{recdir.split('_')[1]}.sdf\",\"-O\",f\"BDB_docked/{recdir}/{recdir.split('_')[1]}_ob.sdf\"])()\n",
    "            refmol = Chem.MolFromMol2File(f\"BDB_docked/{recdir}/{recdir.split('_')[1]}_ob.sdf\",sanitize=False)\n",
    "        ref_fp = Chem.RDKFingerprint(refmol)\n",
    "        for idx, row in group.iterrows():\n",
    "            filename = row['Structure File'].split('/')[-1]\n",
    "            if os.path.isfile(f\"BDB_docked/{recdir}/{filename}\"):\n",
    "                shutil.copyfile(f\"BDB_docked/{recdir}/{filename}\",f\"ddg_dataset/{recdir}/{filename}\")\n",
    "            else:\n",
    "                print(f\"BDB_docked/{recdir}/{filename}\")\n",
    "                bad_files.append(row['Structure File'])\n",
    "            compmol = Chem.MolFromMol2File(f\"ddg_dataset/{recdir}/{filename}\",sanitize=False)\n",
    "            comp_fp = Chem.RDKFingerprint(compmol)\n",
    "            Tan = DataStructs.TanimotoSimilarity(ref_fp,comp_fp)\n",
    "            if Tan > max_tan: ## assigning the reference to the molecule with the highest Tanimoto Sim to the molecule used in the fragment docking\n",
    "                max_tan = Tan\n",
    "                sf = row['Structure File']\n",
    "#         print(max_tan,ref_idx)\n",
    "        ms_df.loc[ms_df['Structure File'] == sf,'Reference'] = 1"
   ]
  },
  {
   "cell_type": "code",
   "execution_count": 38,
   "metadata": {
    "scrolled": true
   },
   "outputs": [
    {
     "name": "stderr",
     "output_type": "stream",
     "text": [
      "RDKit WARNING: [12:57:35] BindingDB_26991: Warning - no explicit hydrogens in mol2 file but needed for formal charge estimation.\n",
      "RDKit WARNING: [12:57:35] BindingDB_50278322: Warning - no explicit hydrogens in mol2 file but needed for formal charge estimation.\n",
      "RDKit WARNING: [12:57:35] BindingDB_26991: Warning - no explicit hydrogens in mol2 file but needed for formal charge estimation.\n",
      "RDKit WARNING: [12:57:35] BindingDB_50278322: Warning - no explicit hydrogens in mol2 file but needed for formal charge estimation.\n",
      "RDKit WARNING: [12:57:35] BindingDB_26991: Warning - no explicit hydrogens in mol2 file but needed for formal charge estimation.\n",
      "RDKit WARNING: [12:57:35] BindingDB_50278322: Warning - no explicit hydrogens in mol2 file but needed for formal charge estimation.\n",
      "RDKit WARNING: [12:57:35] BindingDB_26992: Warning - no explicit hydrogens in mol2 file but needed for formal charge estimation.\n",
      "RDKit WARNING: [12:57:35] BindingDB_26991: Warning - no explicit hydrogens in mol2 file but needed for formal charge estimation.\n",
      "RDKit WARNING: [12:57:35] BindingDB_50278322: Warning - no explicit hydrogens in mol2 file but needed for formal charge estimation.\n",
      "RDKit WARNING: [12:57:35] BindingDB_26992: Warning - no explicit hydrogens in mol2 file but needed for formal charge estimation.\n",
      "RDKit WARNING: [12:57:36] BindingDB_26991: Warning - no explicit hydrogens in mol2 file but needed for formal charge estimation.\n",
      "RDKit WARNING: [12:57:36] BindingDB_50278322: Warning - no explicit hydrogens in mol2 file but needed for formal charge estimation.\n",
      "RDKit WARNING: [12:57:36] BindingDB_26991: Warning - no explicit hydrogens in mol2 file but needed for formal charge estimation.\n",
      "RDKit WARNING: [12:57:36] BindingDB_50278322: Warning - no explicit hydrogens in mol2 file but needed for formal charge estimation.\n",
      "RDKit WARNING: [12:57:36] BindingDB_26992: Warning - no explicit hydrogens in mol2 file but needed for formal charge estimation.\n",
      "RDKit WARNING: [12:57:39] BindingDB_26991: Warning - no explicit hydrogens in mol2 file but needed for formal charge estimation.\n",
      "RDKit WARNING: [12:57:39] BindingDB_50278322: Warning - no explicit hydrogens in mol2 file but needed for formal charge estimation.\n",
      "RDKit WARNING: [12:57:39] BindingDB_26992: Warning - no explicit hydrogens in mol2 file but needed for formal charge estimation.\n",
      "RDKit WARNING: [12:57:43] BindingDB_26991: Warning - no explicit hydrogens in mol2 file but needed for formal charge estimation.\n",
      "RDKit WARNING: [12:57:43] BindingDB_26992: Warning - no explicit hydrogens in mol2 file but needed for formal charge estimation.\n"
     ]
    }
   ],
   "source": [
    "## Don't need to run this if you have already run the last cell\n",
    "bad_files = []\n",
    "for ms_df,measurement in meas_dfs:\n",
    "    ms_df['Reference'] = 0\n",
    "    ms_df['local file'] = ''\n",
    "    for recdir, group in ms_df.groupby('rec_ligscaff'):\n",
    "        max_tan = 0\n",
    "        sf = None\n",
    "        refmol = Chem.MolFromMolFile(f\"BDB_docked/{recdir}/{recdir.split('_')[1]}.sdf\",sanitize=False)\n",
    "        if refmol is None:\n",
    "            print(recdir)\n",
    "            (obabel[f\"BDB_docked/{recdir}/{recdir.split('_')[1]}.sdf\",\"-O\",f\"BDB_docked/{recdir}/{recdir.split('_')[1]}_ob.sdf\"])()\n",
    "            refmol = Chem.MolFromMol2File(f\"BDB_docked/{recdir}/{recdir.split('_')[1]}_ob.sdf\",sanitize=False)\n",
    "        ref_fp = Chem.RDKFingerprint(refmol)\n",
    "        for idx, row in group.iterrows():\n",
    "            filename = row['Structure File'].split('/')[-1]\n",
    "            compmol = Chem.MolFromMol2File(f\"ddg_dataset/{recdir}/{filename}\",sanitize=False)\n",
    "            comp_fp = Chem.RDKFingerprint(compmol)\n",
    "            Tan = DataStructs.TanimotoSimilarity(ref_fp,comp_fp)\n",
    "            if Tan > max_tan: ## assigning the reference to the molecule with the highest Tanimoto Sim to the molecule used in the fragment docking\n",
    "                max_tan = Tan\n",
    "                sf = row['Structure File']\n",
    "#         print(max_tan,ref_idx)\n",
    "        ms_df.loc[ms_df['Structure File'] == sf,'Reference'] = 1"
   ]
  },
  {
   "cell_type": "markdown",
   "metadata": {},
   "source": [
    "No bad files!"
   ]
  },
  {
   "cell_type": "code",
   "execution_count": 39,
   "metadata": {},
   "outputs": [
    {
     "data": {
      "text/html": [
       "<div>\n",
       "<style scoped>\n",
       "    .dataframe tbody tr th:only-of-type {\n",
       "        vertical-align: middle;\n",
       "    }\n",
       "\n",
       "    .dataframe tbody tr th {\n",
       "        vertical-align: top;\n",
       "    }\n",
       "\n",
       "    .dataframe thead th {\n",
       "        text-align: right;\n",
       "    }\n",
       "</style>\n",
       "<table border=\"1\" class=\"dataframe\">\n",
       "  <thead>\n",
       "    <tr style=\"text-align: right;\">\n",
       "      <th></th>\n",
       "      <th>Compound</th>\n",
       "      <th>Structure File</th>\n",
       "      <th>Surflex Score</th>\n",
       "      <th>Ki(nM)</th>\n",
       "      <th>IC50(nM)</th>\n",
       "      <th>Kd(nM)</th>\n",
       "      <th>Receptor</th>\n",
       "      <th>Ligand ID</th>\n",
       "      <th>rec_ligscaff</th>\n",
       "      <th>index</th>\n",
       "      <th>Reference</th>\n",
       "      <th>local file</th>\n",
       "    </tr>\n",
       "  </thead>\n",
       "  <tbody>\n",
       "    <tr>\n",
       "      <th>0</th>\n",
       "      <td>http://www.bindingdb.org/bind/chemsearch/marvi...</td>\n",
       "      <td>http://www.bindingdb.org/data/surflex/4ABV_FT2...</td>\n",
       "      <td>0.8705</td>\n",
       "      <td>NaN</td>\n",
       "      <td>NaN</td>\n",
       "      <td>144000.0</td>\n",
       "      <td>4ABV</td>\n",
       "      <td>8726</td>\n",
       "      <td>4ABV_FT2</td>\n",
       "      <td>NaN</td>\n",
       "      <td>1</td>\n",
       "      <td></td>\n",
       "    </tr>\n",
       "    <tr>\n",
       "      <th>1</th>\n",
       "      <td>http://www.bindingdb.org/bind/chemsearch/marvi...</td>\n",
       "      <td>http://www.bindingdb.org/data/surflex/4ABV_FT2...</td>\n",
       "      <td>2.4598</td>\n",
       "      <td>NaN</td>\n",
       "      <td>1360</td>\n",
       "      <td>0.3</td>\n",
       "      <td>4ABV</td>\n",
       "      <td>50225216</td>\n",
       "      <td>4ABV_FT2</td>\n",
       "      <td>NaN</td>\n",
       "      <td>0</td>\n",
       "      <td></td>\n",
       "    </tr>\n",
       "    <tr>\n",
       "      <th>3</th>\n",
       "      <td>http://www.bindingdb.org/bind/chemsearch/marvi...</td>\n",
       "      <td>http://www.bindingdb.org/data/surflex/4ABV_FT2...</td>\n",
       "      <td>2.3189</td>\n",
       "      <td>NaN</td>\n",
       "      <td>1310</td>\n",
       "      <td>88.0</td>\n",
       "      <td>4ABV</td>\n",
       "      <td>50225219</td>\n",
       "      <td>4ABV_FT2</td>\n",
       "      <td>NaN</td>\n",
       "      <td>0</td>\n",
       "      <td></td>\n",
       "    </tr>\n",
       "    <tr>\n",
       "      <th>4</th>\n",
       "      <td>http://www.bindingdb.org/bind/chemsearch/marvi...</td>\n",
       "      <td>http://www.bindingdb.org/data/surflex/4ABV_FT2...</td>\n",
       "      <td>1.5354</td>\n",
       "      <td>NaN</td>\n",
       "      <td>520</td>\n",
       "      <td>14.0</td>\n",
       "      <td>4ABV</td>\n",
       "      <td>50225224</td>\n",
       "      <td>4ABV_FT2</td>\n",
       "      <td>NaN</td>\n",
       "      <td>0</td>\n",
       "      <td></td>\n",
       "    </tr>\n",
       "    <tr>\n",
       "      <th>6</th>\n",
       "      <td>http://www.bindingdb.org/bind/chemsearch/marvi...</td>\n",
       "      <td>http://www.bindingdb.org/data/surflex/4ABV_FT2...</td>\n",
       "      <td>0.4257</td>\n",
       "      <td>NaN</td>\n",
       "      <td>NaN</td>\n",
       "      <td>0.2</td>\n",
       "      <td>4ABV</td>\n",
       "      <td>50225226</td>\n",
       "      <td>4ABV_FT2</td>\n",
       "      <td>NaN</td>\n",
       "      <td>0</td>\n",
       "      <td></td>\n",
       "    </tr>\n",
       "    <tr>\n",
       "      <th>...</th>\n",
       "      <td>...</td>\n",
       "      <td>...</td>\n",
       "      <td>...</td>\n",
       "      <td>...</td>\n",
       "      <td>...</td>\n",
       "      <td>...</td>\n",
       "      <td>...</td>\n",
       "      <td>...</td>\n",
       "      <td>...</td>\n",
       "      <td>...</td>\n",
       "      <td>...</td>\n",
       "      <td>...</td>\n",
       "    </tr>\n",
       "    <tr>\n",
       "      <th>199</th>\n",
       "      <td>http://www.bindingdb.org/bind/chemsearch/marvi...</td>\n",
       "      <td>http://www.bindingdb.org/data/surflex/3MHL_J71...</td>\n",
       "      <td>6.6708</td>\n",
       "      <td>NaN</td>\n",
       "      <td>NaN</td>\n",
       "      <td>53.0</td>\n",
       "      <td>3MHL</td>\n",
       "      <td>50329770</td>\n",
       "      <td>3MHL_J71</td>\n",
       "      <td>8820.0</td>\n",
       "      <td>1</td>\n",
       "      <td></td>\n",
       "    </tr>\n",
       "    <tr>\n",
       "      <th>200</th>\n",
       "      <td>http://www.bindingdb.org/bind/chemsearch/marvi...</td>\n",
       "      <td>http://www.bindingdb.org/data/surflex/3MHL_J71...</td>\n",
       "      <td>5.1871</td>\n",
       "      <td>NaN</td>\n",
       "      <td>NaN</td>\n",
       "      <td>110.0</td>\n",
       "      <td>3MHL</td>\n",
       "      <td>50329771</td>\n",
       "      <td>3MHL_J71</td>\n",
       "      <td>8821.0</td>\n",
       "      <td>0</td>\n",
       "      <td></td>\n",
       "    </tr>\n",
       "    <tr>\n",
       "      <th>203</th>\n",
       "      <td>http://www.bindingdb.org/bind/chemsearch/marvi...</td>\n",
       "      <td>http://www.bindingdb.org/data/surflex/2NNO_M28...</td>\n",
       "      <td>3.6009</td>\n",
       "      <td>NaN</td>\n",
       "      <td>NaN</td>\n",
       "      <td>4.0</td>\n",
       "      <td>2NNO</td>\n",
       "      <td>10859</td>\n",
       "      <td>2NNO_M28</td>\n",
       "      <td>9297.0</td>\n",
       "      <td>1</td>\n",
       "      <td></td>\n",
       "    </tr>\n",
       "    <tr>\n",
       "      <th>204</th>\n",
       "      <td>http://www.bindingdb.org/bind/chemsearch/marvi...</td>\n",
       "      <td>http://www.bindingdb.org/data/surflex/2NNO_M28...</td>\n",
       "      <td>4.0219</td>\n",
       "      <td>125;125000;110;2;50;500034535;9090756;10997652...</td>\n",
       "      <td>NaN</td>\n",
       "      <td>410300.0</td>\n",
       "      <td>2NNO</td>\n",
       "      <td>10877</td>\n",
       "      <td>2NNO_M28</td>\n",
       "      <td>9301.0</td>\n",
       "      <td>0</td>\n",
       "      <td></td>\n",
       "    </tr>\n",
       "    <tr>\n",
       "      <th>205</th>\n",
       "      <td>http://www.bindingdb.org/bind/chemsearch/marvi...</td>\n",
       "      <td>http://www.bindingdb.org/data/surflex/2NNO_M28...</td>\n",
       "      <td>4.6320</td>\n",
       "      <td>0.05;109</td>\n",
       "      <td>NaN</td>\n",
       "      <td>111850.0</td>\n",
       "      <td>2NNO</td>\n",
       "      <td>50415863</td>\n",
       "      <td>2NNO_M28</td>\n",
       "      <td>9306.0</td>\n",
       "      <td>0</td>\n",
       "      <td></td>\n",
       "    </tr>\n",
       "  </tbody>\n",
       "</table>\n",
       "<p>535 rows × 12 columns</p>\n",
       "</div>"
      ],
      "text/plain": [
       "                                              Compound  \\\n",
       "0    http://www.bindingdb.org/bind/chemsearch/marvi...   \n",
       "1    http://www.bindingdb.org/bind/chemsearch/marvi...   \n",
       "3    http://www.bindingdb.org/bind/chemsearch/marvi...   \n",
       "4    http://www.bindingdb.org/bind/chemsearch/marvi...   \n",
       "6    http://www.bindingdb.org/bind/chemsearch/marvi...   \n",
       "..                                                 ...   \n",
       "199  http://www.bindingdb.org/bind/chemsearch/marvi...   \n",
       "200  http://www.bindingdb.org/bind/chemsearch/marvi...   \n",
       "203  http://www.bindingdb.org/bind/chemsearch/marvi...   \n",
       "204  http://www.bindingdb.org/bind/chemsearch/marvi...   \n",
       "205  http://www.bindingdb.org/bind/chemsearch/marvi...   \n",
       "\n",
       "                                        Structure File  Surflex Score  \\\n",
       "0    http://www.bindingdb.org/data/surflex/4ABV_FT2...         0.8705   \n",
       "1    http://www.bindingdb.org/data/surflex/4ABV_FT2...         2.4598   \n",
       "3    http://www.bindingdb.org/data/surflex/4ABV_FT2...         2.3189   \n",
       "4    http://www.bindingdb.org/data/surflex/4ABV_FT2...         1.5354   \n",
       "6    http://www.bindingdb.org/data/surflex/4ABV_FT2...         0.4257   \n",
       "..                                                 ...            ...   \n",
       "199  http://www.bindingdb.org/data/surflex/3MHL_J71...         6.6708   \n",
       "200  http://www.bindingdb.org/data/surflex/3MHL_J71...         5.1871   \n",
       "203  http://www.bindingdb.org/data/surflex/2NNO_M28...         3.6009   \n",
       "204  http://www.bindingdb.org/data/surflex/2NNO_M28...         4.0219   \n",
       "205  http://www.bindingdb.org/data/surflex/2NNO_M28...         4.6320   \n",
       "\n",
       "                                                Ki(nM) IC50(nM)    Kd(nM)  \\\n",
       "0                                                  NaN      NaN  144000.0   \n",
       "1                                                  NaN     1360       0.3   \n",
       "3                                                  NaN     1310      88.0   \n",
       "4                                                  NaN      520      14.0   \n",
       "6                                                  NaN      NaN       0.2   \n",
       "..                                                 ...      ...       ...   \n",
       "199                                                NaN      NaN      53.0   \n",
       "200                                                NaN      NaN     110.0   \n",
       "203                                                NaN      NaN       4.0   \n",
       "204  125;125000;110;2;50;500034535;9090756;10997652...      NaN  410300.0   \n",
       "205                                           0.05;109      NaN  111850.0   \n",
       "\n",
       "    Receptor Ligand ID rec_ligscaff   index  Reference local file  \n",
       "0       4ABV      8726     4ABV_FT2     NaN          1             \n",
       "1       4ABV  50225216     4ABV_FT2     NaN          0             \n",
       "3       4ABV  50225219     4ABV_FT2     NaN          0             \n",
       "4       4ABV  50225224     4ABV_FT2     NaN          0             \n",
       "6       4ABV  50225226     4ABV_FT2     NaN          0             \n",
       "..       ...       ...          ...     ...        ...        ...  \n",
       "199     3MHL  50329770     3MHL_J71  8820.0          1             \n",
       "200     3MHL  50329771     3MHL_J71  8821.0          0             \n",
       "203     2NNO     10859     2NNO_M28  9297.0          1             \n",
       "204     2NNO     10877     2NNO_M28  9301.0          0             \n",
       "205     2NNO  50415863     2NNO_M28  9306.0          0             \n",
       "\n",
       "[535 rows x 12 columns]"
      ]
     },
     "execution_count": 39,
     "metadata": {},
     "output_type": "execute_result"
    }
   ],
   "source": [
    "ms_df"
   ]
  },
  {
   "cell_type": "code",
   "execution_count": 41,
   "metadata": {},
   "outputs": [],
   "source": [
    "# Output txt files\n",
    "for ms_df,meas in meas_dfs:\n",
    "    ms_df.to_csv(f'fullbdb_{meas}.txt',sep=',',columns=['Structure File',f'{meas}','Receptor','Ligand ID','rec_ligscaff','Reference'])"
   ]
  },
  {
   "cell_type": "code",
   "execution_count": 6,
   "metadata": {},
   "outputs": [],
   "source": [
    "# Read in txt files\n",
    "meas_dfs = []\n",
    "for file in glob('fullbdb_*.txt'):\n",
    "    meas_dfs.append((pd.read_csv(file),file.split('.')[0].split('_')[-1]))"
   ]
  },
  {
   "cell_type": "code",
   "execution_count": 51,
   "metadata": {},
   "outputs": [],
   "source": [
    "randos=[0,1,2,3,4]\n",
    "trainfile_names = [f'all_data_train_papersplit_rand{rand}_p' for rand in randos]\n",
    "testfile_names = [f'all_data_test_papersplit_rand{rand}_p' for rand in randos]\n",
    "for i,random in enumerate(randos):\n",
    "    for addnl in range(1,7):\n",
    "        trainfile = pd.DataFrame(columns=['class','reg','dg_lig1','dg_lig2','rec','lig1','lig2'])\n",
    "        testfile = pd.DataFrame(columns=['class','reg','dg_lig1','dg_lig2','rec','lig1','lig2'])\n",
    "        for ms_df,measurement in meas_dfs:\n",
    "            ms_df.reset_index(drop=True,inplace=True)\n",
    "            ms_df['fname'] = ms_df['Structure File'].apply(lambda x: x.split('/')[-1])\n",
    "            for rec, group in ms_df.groupby('rec_ligscaff'):\n",
    "                traingroupinfo=[]\n",
    "                testgroupinfo=[]\n",
    "                if not group['Reference'].sum(): ## have to make sure there is one reference structure per group (arbitrarily assigning the reference to the first row if it isn't already assigned)\n",
    "                    print(rec)\n",
    "                    continue\n",
    "                if len(group)-1 < addnl:\n",
    "                    train_group = pd.concat([group[(group['Reference'] == 1)],group[(group['Reference'] == 0)].sample(n=len(group)-1,random_state=random)])\n",
    "                else:\n",
    "                    train_group = pd.concat([group[(group['Reference'] == 1)],group[group['Reference'] == 0].sample(n=addnl,random_state=random)])\n",
    "                ## Training set first\n",
    "                for row1,row2 in list(permutations(train_group.index,2)):\n",
    "                    pmeas1 = -np.log10(group.loc[row1,measurement]*(1E-9)) ##all measurements in nM\n",
    "                    pmeas2 = -np.log10(group.loc[row2,measurement]*(1E-9))\n",
    "                    dif = float(pmeas1) - float(pmeas2)\n",
    "                    if dif == np.inf or dif == -np.inf or math.isnan(dif):\n",
    "                        continue\n",
    "                    try:\n",
    "                        cls = int(float(pmeas1) > float(pmeas2))\n",
    "                    except:\n",
    "                        print(train_group)\n",
    "                        break\n",
    "                    dg_lig1 = float(pmeas1)\n",
    "                    dg_lig2 = float(pmeas2)\n",
    "                    receptor = f\"{group.loc[row1,'rec_ligscaff']}/{group.loc[row1,'Receptor']}_0.gninatypes\"\n",
    "                    lig1 = f\"{group.loc[row1,'rec_ligscaff']}/{group.loc[row1,'fname'].split('.')[0]}_0.gninatypes\"\n",
    "                    lig2 = f\"{group.loc[row2,'rec_ligscaff']}/{group.loc[row2,'fname'].split('.')[0]}_0.gninatypes\"\n",
    "                    traingroupinfo.append([cls,dif,dg_lig1,dg_lig2,receptor,lig1,lig2])\n",
    "                # Test set. Using idea that can only compare to values that are in the training set (i.e. 'Known' values)\n",
    "                for row1,row2 in list(permutations(group.index,2)):\n",
    "                    if not (bool(row1 in train_group.index) ^ bool(row2 in train_group.index)): ##supposed to be xor\n",
    "                        continue\n",
    "                    pmeas1 = -np.log10(group.loc[row1,measurement]*(1E-9)) ##all measurements in nM\n",
    "                    pmeas2 = -np.log10(group.loc[row2,measurement]*(1E-9))\n",
    "                    dif = float(pmeas1) - float(pmeas2)\n",
    "                    if dif == np.inf or dif == -np.inf or math.isnan(dif):\n",
    "                        continue\n",
    "                    dg_lig1 = float(pmeas1)\n",
    "                    dg_lig2 = float(pmeas2)\n",
    "                    cls = int(float(pmeas1) > float(pmeas2))\n",
    "                    receptor = f\"{group.loc[row1,'rec_ligscaff']}/{group.loc[row1,'Receptor']}_0.gninatypes\"\n",
    "                    lig1 = f\"{group.loc[row1,'rec_ligscaff']}/{group.loc[row1,'fname'].split('.')[0]}_0.gninatypes\"\n",
    "                    lig2 = f\"{group.loc[row2,'rec_ligscaff']}/{group.loc[row2,'fname'].split('.')[0]}_0.gninatypes\"\n",
    "                    testgroupinfo.append([cls,dif,dg_lig1,dg_lig2,receptor,lig1,lig2])\n",
    "                group_df = pd.DataFrame(data=traingroupinfo,columns=['class','reg','dg_lig1','dg_lig2','rec','lig1','lig2'])\n",
    "                trainfile = trainfile.append(group_df,ignore_index=True)\n",
    "                tgroup_df = pd.DataFrame(data=testgroupinfo,columns=['class','reg','dg_lig1','dg_lig2','rec','lig1','lig2'])\n",
    "                testfile = testfile.append(tgroup_df,ignore_index=True)\n",
    "        trainfile.to_csv(f'{trainfile_names[i]}_{addnl}.types',header=False,index=False,sep=' ',float_format='%.4f')\n",
    "        testfile.to_csv(f'{testfile_names[i]}_{addnl}.types',header=False,index=False,sep=' ',float_format='%.4f')"
   ]
  },
  {
   "cell_type": "code",
   "execution_count": 52,
   "metadata": {},
   "outputs": [],
   "source": [
    "## Make a master file containing all pairs\n",
    "masterfile = pd.DataFrame(columns=['class','reg','dg_lig1','dg_lig2','rec','lig1','lig2'])\n",
    "for ms_df,measurement in meas_dfs:\n",
    "    ms_df.reset_index(drop=True,inplace=True)\n",
    "    ms_df['fname'] = ms_df['Structure File'].apply(lambda x: x.split('/')[-1])\n",
    "    for rec, group in ms_df.groupby('rec_ligscaff'):\n",
    "        groupinfo=[]\n",
    "        for row1,row2 in list(permutations(group.index,2)):\n",
    "            pmeas1 = -np.log10(group.loc[row1,measurement]*(1E-9)) ##all measurements in nM\n",
    "            pmeas2 = -np.log10(group.loc[row2,measurement]*(1E-9))\n",
    "            dif = float(pmeas1) - float(pmeas2)\n",
    "            if dif == np.inf or dif == -np.inf or math.isnan(dif):\n",
    "                continue\n",
    "            try:\n",
    "                cls = int(float(pmeas1) > float(pmeas2))\n",
    "            except:\n",
    "                print(train_group)\n",
    "                break\n",
    "            dg_lig1 = float(pmeas1)\n",
    "            dg_lig2 = float(pmeas2)\n",
    "            receptor = f\"{group.loc[row1,'rec_ligscaff']}/{group.loc[row1,'Receptor']}_0.gninatypes\"\n",
    "            lig1 = f\"{group.loc[row1,'rec_ligscaff']}/{group.loc[row1,'fname'].split('.')[0]}_0.gninatypes\"\n",
    "            lig2 = f\"{group.loc[row2,'rec_ligscaff']}/{group.loc[row2,'fname'].split('.')[0]}_0.gninatypes\"\n",
    "            groupinfo.append([cls,dif,dg_lig1,dg_lig2,receptor,lig1,lig2])\n",
    "        group_df = pd.DataFrame(data=groupinfo,columns=['class','reg','dg_lig1','dg_lig2','rec','lig1','lig2'])\n",
    "        masterfile = masterfile.append(group_df,ignore_index=True)\n",
    "masterfile.to_csv(f'all_newdata.types',header=False,index=False,sep=' ',float_format='%.4f')"
   ]
  },
  {
   "cell_type": "markdown",
   "metadata": {},
   "source": [
    "Making a types file for predicting the $\\Delta G$ of the ligands"
   ]
  },
  {
   "cell_type": "code",
   "execution_count": 74,
   "metadata": {},
   "outputs": [],
   "source": [
    "dg_masterfile = pd.DataFrame(columns=['dg_lig1','rec','lig1'])\n",
    "for ms_df,measurement in meas_dfs:\n",
    "    ms_df.reset_index(drop=True,inplace=True)\n",
    "    ms_df['fname'] = ms_df['Structure File'].apply(lambda x: x.split('/')[-1])\n",
    "    pmeas1 = ms_df[measurement].apply(lambda x: -np.log10(x*(1E-9))) ##all measurements in nM\n",
    "    receptor = ms_df[['rec_ligscaff','Receptor']].apply(lambda x: f\"{x[0]}/{x[1]}_0.gninatypes\",axis=1)\n",
    "    lig1 = ms_df[['rec_ligscaff','fname']].apply(lambda x: f\"{x[0]}/{x[1]}_0.gninatypes\",axis=1)\n",
    "    group_df = pd.concat({'dg_lig1':pmeas1,'rec':receptor,'lig1':lig1},axis=1)\n",
    "    dg_masterfile = dg_masterfile.append(group_df,ignore_index=True)\n",
    "dg_masterfile.to_csv(f'dg_all_newdata.types',header=False,index=False,sep=' ',float_format='%.4f')"
   ]
  },
  {
   "cell_type": "markdown",
   "metadata": {},
   "source": [
    "## PFAM Clustering"
   ]
  },
  {
   "cell_type": "code",
   "execution_count": 7,
   "metadata": {},
   "outputs": [],
   "source": [
    "pdb_pfam = pd.read_csv('/home/anm329/DDG/DDG/pdb_pfam_mapping.txt', sep='\\t',usecols=[0,1,4,5])\n",
    "has_pfam = set(pdb_pfam.PDB_ID.unique().tolist())"
   ]
  },
  {
   "cell_type": "code",
   "execution_count": 10,
   "metadata": {},
   "outputs": [
    {
     "name": "stdout",
     "output_type": "stream",
     "text": [
      "{'2H7L', '2H7P', '2H7N', '2H7I', '2H7M'}\n"
     ]
    }
   ],
   "source": [
    "missing = receptors - has_pfam\n",
    "print(missing)"
   ]
  },
  {
   "cell_type": "code",
   "execution_count": 11,
   "metadata": {},
   "outputs": [],
   "source": [
    "pfam_receptors = set(receptors)"
   ]
  },
  {
   "cell_type": "markdown",
   "metadata": {},
   "source": [
    "Just a case of obsolete PDBIDs"
   ]
  },
  {
   "cell_type": "code",
   "execution_count": 12,
   "metadata": {},
   "outputs": [
    {
     "name": "stdout",
     "output_type": "stream",
     "text": [
      "2H7L:4TRJ\n",
      "2H7P:4TZT\n",
      "2H7N:4U0K\n",
      "2H7I:4U0J\n",
      "2H7M:4TZK\n"
     ]
    }
   ],
   "source": [
    "for ms_df, _ in meas_dfs:\n",
    "    ms_df['pfam_PDBIDs'] = ms_df['Receptor']\n",
    "    relev_pdbids = ms_df['Receptor'].unique().tolist()\n",
    "    for rec in missing:\n",
    "        if not (rec in relev_pdbids):\n",
    "            continue\n",
    "        response = requests.get('https://www.rcsb.org/structure/{}'.format(rec))\n",
    "        soupyness = BeautifulSoup(response.content, 'html.parser')\n",
    "        newlig= soupyness.find(id='note_obsoletedBy')\n",
    "        newreceptor = newlig.find(href=re.compile('/structure/')).text\n",
    "        print(f'{rec}:{newreceptor}')\n",
    "        assert newreceptor in has_pfam\n",
    "        ms_df.loc[ms_df.Receptor == rec,'pfam_PDBIDs'] = newreceptor\n",
    "        pfam_receptors.remove(rec)\n",
    "        pfam_receptors.add(newreceptor)\n",
    "        "
   ]
  },
  {
   "cell_type": "code",
   "execution_count": 13,
   "metadata": {},
   "outputs": [
    {
     "name": "stdout",
     "output_type": "stream",
     "text": [
      "1313 161\n"
     ]
    }
   ],
   "source": [
    "relevant_pfams = pdb_pfam[pdb_pfam['PDB_ID'].isin(pfam_receptors)]\n",
    "print(len(relevant_pfams),len(relevant_pfams.PFAM_Name.unique()))"
   ]
  },
  {
   "cell_type": "code",
   "execution_count": 61,
   "metadata": {},
   "outputs": [],
   "source": [
    "def getDataFrame(information, measurement):\n",
    "    ## Uses permutations and gets absolute binding affinity information\n",
    "    information_list = []\n",
    "    for rec, group in information.groupby('rec_ligscaff'):\n",
    "        for idx1, idx2 in list(permutations(group.index,2)):\n",
    "            assert group.loc[idx1,'rec_ligscaff'] == group.loc[idx2,'rec_ligscaff']\n",
    "            pmeas1 = -np.log10(group.loc[idx1,measurement]*(1E-9)) ##all measurements in nM\n",
    "            pmeas2 = -np.log10(group.loc[idx2,measurement]*(1E-9))\n",
    "            regression = float(pmeas1) - float(pmeas2)\n",
    "            if regression == np.inf or regression == -np.inf or math.isnan(regression):\n",
    "                        continue\n",
    "            try:\n",
    "                classification = int(float(pmeas1) > float(pmeas2))\n",
    "            except:\n",
    "                print(group)\n",
    "                break\n",
    "            dg_lig1 = float(pmeas1)\n",
    "            dg_lig2 = float(pmeas2)\n",
    "            receptor = f\"{group.loc[idx1,'rec_ligscaff']}/{group.loc[idx1,'Receptor']}_0.gninatypes\"\n",
    "            lig1 = f\"{group.loc[idx1,'rec_ligscaff']}/{group.loc[idx1,'fname'].split('.')[0]}_0.gninatypes\"\n",
    "            lig2 = f\"{group.loc[idx2,'rec_ligscaff']}/{group.loc[idx2,'fname'].split('.')[0]}_0.gninatypes\"\n",
    "            information_list.append([classification, regression, dg_lig1, dg_lig2, receptor,lig1,lig2])\n",
    "    return pd.DataFrame(information_list,columns=['class','reg','dg_lig1','dg_lig2','rec','lig1','lig2'])"
   ]
  },
  {
   "cell_type": "code",
   "execution_count": 63,
   "metadata": {
    "scrolled": true
   },
   "outputs": [],
   "source": [
    "uniq_pfams = pd.Series(relevant_pfams['PFAM_Name'].unique().tolist())\n",
    "value_to_PFAM = dict()\n",
    "counter = 0\n",
    "for value in range(len(uniq_pfams)):\n",
    "    training_set_df = pd.DataFrame(columns=['class','reg','dg_lig1','dg_lig2','rec','lig1','lig2'])\n",
    "    testing_set_df = pd.DataFrame(columns=['class','reg','dg_lig1','dg_lig2','rec','lig1','lig2'])\n",
    "    for ms_df, meas in meas_dfs:\n",
    "        training_pfam = uniq_pfams.drop(value)\n",
    "        training_pdbids = relevant_pfams[relevant_pfams['PFAM_Name'].isin(training_pfam)]['PDB_ID'].unique()\n",
    "        testing_set = ms_df[~ms_df['pfam_PDBIDs'].isin(training_pdbids)]\n",
    "        training_set = ms_df[ms_df['pfam_PDBIDs'].isin(training_pdbids)]\n",
    "        training_set_df = training_set_df.append(getDataFrame(training_set,meas))\n",
    "        testing_set_df = testing_set_df.append(getDataFrame(testing_set,meas))\n",
    "        assert len(set(training_set_df.rec.unique().tolist()).intersection(set(testing_set_df.rec.unique().tolist()))) == 0\n",
    "    if not len(testing_set_df):\n",
    "            continue\n",
    "    value_to_PFAM[counter] = uniq_pfams[value]\n",
    "    training_set_df.to_csv(f'PFAM_CV/train_pfam_cv_{counter}.types',sep=' ', header=False,index=False)\n",
    "    testing_set_df.to_csv(f'PFAM_CV/test_pfam_cv_{counter}.types',sep=' ', header=False,index=False)\n",
    "    counter += 1"
   ]
  },
  {
   "cell_type": "code",
   "execution_count": 64,
   "metadata": {},
   "outputs": [],
   "source": [
    "with open('pfam_values_map.txt','w') as outfile:\n",
    "    outfile.write(f'Number Test_PFAM\\n')\n",
    "    for k, value in value_to_PFAM.items():\n",
    "        outfile.write(f'{k} {value}\\n')"
   ]
  },
  {
   "cell_type": "markdown",
   "metadata": {},
   "source": [
    "PFAM_CV but for $\\Delta G$ prediction"
   ]
  },
  {
   "cell_type": "code",
   "execution_count": 18,
   "metadata": {},
   "outputs": [],
   "source": [
    "def getDGDataFrame(information,meas):\n",
    "    information['fname'] = information['Structure File'].apply(lambda x: x.split('/')[-1])\n",
    "    pmeas1 = information[meas].apply(lambda x: -np.log10(x*(1E-9))) ##all measurements in nM\n",
    "    receptor = information[['rec_ligscaff','Receptor']].apply(lambda x: f\"{x[0]}/{x[1]}_0.gninatypes\",axis=1)\n",
    "    lig1 = information[['rec_ligscaff','fname']].apply(lambda x: f\"{x[0]}/{x[1]}_0.gninatypes\",axis=1)\n",
    "    group_df = pd.concat({'dg_lig1':pmeas1,'rec':receptor,'lig1':lig1},axis=1)\n",
    "    \n",
    "    return group_df"
   ]
  },
  {
   "cell_type": "code",
   "execution_count": 24,
   "metadata": {},
   "outputs": [],
   "source": [
    "uniq_pfams = pd.Series(relevant_pfams['PFAM_Name'].unique().tolist())\n",
    "value_to_PFAM = dict()\n",
    "counter = 0\n",
    "for value in range(len(uniq_pfams)):\n",
    "    training_set_df = pd.DataFrame(columns=['class','reg','dg_lig1','dg_lig2','rec','lig1','lig2'])\n",
    "    testing_set_df = pd.DataFrame(columns=['class','reg','dg_lig1','dg_lig2','rec','lig1','lig2'])\n",
    "    for ms_df, meas in meas_dfs:\n",
    "        training_pfam = uniq_pfams.drop(value)\n",
    "        training_pdbids = relevant_pfams[relevant_pfams['PFAM_Name'].isin(training_pfam)]['PDB_ID'].unique()\n",
    "        testing_set = ms_df[~ms_df['pfam_PDBIDs'].isin(training_pdbids)].copy()\n",
    "        training_set = ms_df[ms_df['pfam_PDBIDs'].isin(training_pdbids)].copy()\n",
    "        if not len(testing_set):\n",
    "            continue\n",
    "        training_set_df = training_set_df.append(getDGDataFrame(training_set,meas))\n",
    "        testing_set_df = testing_set_df.append(getDGDataFrame(testing_set,meas))\n",
    "        assert len(set(training_set_df.rec.unique().tolist()).intersection(set(testing_set_df.rec.unique().tolist()))) == 0\n",
    "    if not len(testing_set_df):\n",
    "            continue\n",
    "    value_to_PFAM[counter] = uniq_pfams[value]\n",
    "    training_set_df.to_csv(f'PFAM_CV/dg_train_pfam_cv_{counter}.types',sep=' ', header=False,index=False)\n",
    "    testing_set_df.to_csv(f'PFAM_CV/dg_test_pfam_cv_{counter}.types',sep=' ', header=False,index=False)\n",
    "    counter += 1"
   ]
  },
  {
   "cell_type": "code",
   "execution_count": 25,
   "metadata": {},
   "outputs": [
    {
     "data": {
      "text/plain": [
       "{0: 'Y_phosphatase',\n",
       " 1: 'RIP',\n",
       " 2: 'Carb_anhydrase',\n",
       " 3: 'Peptidase_C1',\n",
       " 4: 'Pkinase',\n",
       " 5: 'Aldo_ket_red',\n",
       " 6: 'Hormone_recep',\n",
       " 7: 'RnaseA',\n",
       " 8: 'EPSP_synthase',\n",
       " 9: 'BIR',\n",
       " 10: 'SH2',\n",
       " 11: 'Lig_chan-Glu_bd',\n",
       " 12: 'F_bP_aldolase',\n",
       " 13: 'Asp',\n",
       " 14: 'Thymidylat_synt',\n",
       " 15: 'Phosphorylase',\n",
       " 16: 'Glyco_hydro_18',\n",
       " 17: 'polyprenyl_synt',\n",
       " 18: '2OG-FeII_Oxy_3',\n",
       " 19: 'adh_short_C2',\n",
       " 20: 'Trypsin',\n",
       " 21: 'MBT',\n",
       " 22: 'EF-hand_7',\n",
       " 23: 'Bromodomain',\n",
       " 24: 'Abhydrolase_1',\n",
       " 25: 'NO_synthase',\n",
       " 26: 'Transthyretin',\n",
       " 27: 'HSP70',\n",
       " 28: 'Thymidylate_kin',\n",
       " 29: 'Peptidase_M10',\n",
       " 30: 'dUTPase',\n",
       " 31: 'Flavodoxin_2',\n",
       " 32: 'SQS_PSY',\n",
       " 33: 'DHO_dh',\n",
       " 34: 'RdRP_3',\n",
       " 35: 'Methyltransf_3',\n",
       " 36: 'IF4E',\n",
       " 37: 'DHFR_1',\n",
       " 38: 'PDEase_I',\n",
       " 39: 'Pkinase_Tyr',\n",
       " 40: 'Neur_chan_LBD',\n",
       " 41: 'Beta-lactamase2',\n",
       " 42: 'Peptidase_M28',\n",
       " 43: 'Peptidase_M24',\n",
       " 44: 'TetR_N',\n",
       " 45: 'NNMT_PNMT_TEMT',\n",
       " 46: 'RNase_H',\n",
       " 47: 'Hist_deacetyl',\n",
       " 48: 'Methyltransf_23',\n",
       " 49: 'Reprolysin_5',\n",
       " 50: 'PNP_UDP_1',\n",
       " 51: 'UDG',\n",
       " 52: 'adh_short',\n",
       " 53: 'p450',\n",
       " 54: 'Kinesin',\n",
       " 55: 'DAO',\n",
       " 56: 'OMPdecase',\n",
       " 57: 'SAM_decarbox',\n",
       " 58: 'COesterase',\n",
       " 59: 'Rotamase',\n",
       " 60: 'YgbB',\n",
       " 61: 'Lipocalin',\n",
       " 62: 'Amino_oxidase',\n",
       " 63: 'Viral_protease',\n",
       " 64: 'Pep_deformylase',\n",
       " 65: 'Heme_oxygenase',\n",
       " 66: 'Amidinotransf',\n",
       " 67: 'Scytalone_dh',\n",
       " 68: 'Methyltransf_25',\n",
       " 69: 'AMP-binding',\n",
       " 70: 'Peptidase_S28',\n",
       " 71: 'IDO',\n",
       " 72: 'An_peroxidase'}"
      ]
     },
     "execution_count": 25,
     "metadata": {},
     "output_type": "execute_result"
    }
   ],
   "source": [
    "value_to_PFAM"
   ]
  },
  {
   "cell_type": "markdown",
   "metadata": {},
   "source": [
    "### May need to de-duplicate the ligands\n",
    "Not sure why, but some of the ligands for a receptor are the same molecule with a slightly different conformation"
   ]
  },
  {
   "cell_type": "code",
   "execution_count": null,
   "metadata": {
    "scrolled": true
   },
   "outputs": [],
   "source": [
    "check_directories = []\n",
    "for directory in glob('ddg_dataset/*_*'):\n",
    "    file_list = glob(f\"{directory}/*-results_*.mol2\")\n",
    "    inchi_list = []\n",
    "    for molfile in glob(f\"{directory}/*-results_*.mol2\"):\n",
    "        inchi_list.append(Chem.MolToSmiles(Chem.MolFromMol2File(molfile,sanitize=False),canonical=True))\n",
    "    if len(set(inchi_list)) != len(file_list):\n",
    "#         print(f\"{directory.split('/')[-1]}\")\n",
    "        check_directories.append(f\"{directory.split('/')[-1]}\")"
   ]
  },
  {
   "cell_type": "code",
   "execution_count": null,
   "metadata": {},
   "outputs": [],
   "source": [
    "inchi_dict = dict()\n",
    "for molfile in glob(f\"ddg_dataset/{check_directories[0]}/*-results_*.mol2\"):\n",
    "        inchi_dict[molfile] = Chem.MolToSmiles(Chem.MolFromMol2File(molfile,sanitize=False),canonical=True)"
   ]
  },
  {
   "cell_type": "code",
   "execution_count": null,
   "metadata": {},
   "outputs": [],
   "source": [
    "setOfElems = set()\n",
    "for key, elem in inchi_dict.items():\n",
    "    if elem in setOfElems:\n",
    "        print(key)\n",
    "    else:\n",
    "        setOfElems.add(elem)         "
   ]
  },
  {
   "cell_type": "code",
   "execution_count": null,
   "metadata": {},
   "outputs": [],
   "source": [
    "print([k for k,v in inchi_dict.items() if v == inchi_dict['ddg_dataset/3AYK_CGS/3AYK-results_11355.mol2']])"
   ]
  },
  {
   "cell_type": "markdown",
   "metadata": {},
   "source": [
    "# Build several new sets\n",
    "These sets will consist of a random sample of the ligands with multiple values\n",
    "This will allow the building of an ensemble of models which can produce both a mean and variance to show the likelihood of the prediction being correct"
   ]
  },
  {
   "cell_type": "markdown",
   "metadata": {},
   "source": [
    "Only going to use IC50 values for now to check if the ensembling idea works successfully"
   ]
  },
  {
   "cell_type": "code",
   "execution_count": null,
   "metadata": {},
   "outputs": [],
   "source": [
    "## Try to create a random split\n",
    "for rec, group in ic50_rm_mt1_meas.groupby('Receptor'):\n",
    "    print(rec)\n",
    "    # check if the receptor has any ligands with more than 1 IC50 measurement\n",
    "    rec_mt1_meas = ic50_mt1_meas[ic50_mt1_meas['Receptor'] == rec]\n",
    "    if len(rec_mt1_meas):\n",
    "        print(f'{rec} has {len(rec_mt1_meas)} with more than 1 meas')"
   ]
  },
  {
   "cell_type": "code",
   "execution_count": null,
   "metadata": {},
   "outputs": [],
   "source": [
    "ic50_mt1_meas[ic50_mt1_meas['Receptor'] == '11GS']"
   ]
  },
  {
   "cell_type": "code",
   "execution_count": null,
   "metadata": {},
   "outputs": [],
   "source": [
    "for idx, lig in ic50_mt1_meas[ic50_mt1_meas['Receptor'] == '11GS'].iterrows():\n",
    "    print(len(lig['split IC50(nM)']))\n",
    "    choice = np.random.choice(range(len(lig['split IC50(nM)'])),1).item()\n",
    "    print([lig['Compound'],lig['Structure File'],lig['split IC50(nM)'][choice],lig['Receptor'],lig['Ligand ID']])\n",
    "#     print(lig['split IC50(nM)'][choice])"
   ]
  },
  {
   "cell_type": "code",
   "execution_count": null,
   "metadata": {},
   "outputs": [],
   "source": [
    "test_mt1 = ic50_mt1_meas[ic50_mt1_meas['Receptor'] == '1AO8']\n",
    "choice = np.random.choice(test_mt1['split IC50(nM)'].str.len)"
   ]
  },
  {
   "cell_type": "code",
   "execution_count": null,
   "metadata": {},
   "outputs": [],
   "source": [
    "test_mt1['split IC50(nM)'].str.len().values"
   ]
  },
  {
   "cell_type": "code",
   "execution_count": null,
   "metadata": {},
   "outputs": [],
   "source": []
  }
 ],
 "metadata": {
  "kernelspec": {
   "display_name": "Python 3",
   "language": "python",
   "name": "python3"
  },
  "language_info": {
   "codemirror_mode": {
    "name": "ipython",
    "version": 3
   },
   "file_extension": ".py",
   "mimetype": "text/x-python",
   "name": "python",
   "nbconvert_exporter": "python",
   "pygments_lexer": "ipython3",
   "version": "3.7.6"
  }
 },
 "nbformat": 4,
 "nbformat_minor": 4
}
