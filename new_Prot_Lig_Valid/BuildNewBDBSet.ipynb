{
 "cells": [
  {
   "cell_type": "code",
   "execution_count": 1,
   "metadata": {},
   "outputs": [],
   "source": [
    "import pandas as pd\n",
    "from glob import glob\n",
    "from matplotlib import pyplot as plt\n",
    "import os\n",
    "import re\n",
    "import numpy as np\n",
    "from itertools import permutations,combinations\n",
    "import requests\n",
    "# from matplotlib_venn import venn3, venn3_circles\n",
    "import shutil\n",
    "from plumbum.cmd import obabel\n",
    "from rdkit import Chem, DataStructs\n",
    "import math\n",
    "import requests\n",
    "from bs4 import BeautifulSoup\n",
    "%matplotlib inline"
   ]
  },
  {
   "cell_type": "code",
   "execution_count": 2,
   "metadata": {},
   "outputs": [],
   "source": [
    "docked_dir = glob('BDB_docked/*/')"
   ]
  },
  {
   "cell_type": "code",
   "execution_count": 3,
   "metadata": {},
   "outputs": [
    {
     "name": "stdout",
     "output_type": "stream",
     "text": [
      "number docked directories:\t1597\n"
     ]
    }
   ],
   "source": [
    "print(f'number docked directories:\\t{len(docked_dir)}')"
   ]
  },
  {
   "cell_type": "code",
   "execution_count": 4,
   "metadata": {},
   "outputs": [],
   "source": [
    "full_docked_df = pd.DataFrame(columns=['Compound', 'Structure File', 'Surflex Score', 'Ki(nM)', 'IC50(nM)',\n",
    "       'Kd(nM)'])\n",
    "bad_prots = []\n",
    "for dd in docked_dir:\n",
    "    protein = dd.split('/')[-2].split('_')[0]\n",
    "    if os.path.isfile(f'{dd}{protein}.csv'):  \n",
    "        full_docked_df = full_docked_df.append(pd.read_csv(f'{dd}{protein}.csv'),ignore_index=True)\n",
    "    else:\n",
    "        bad_prots.append(f'{dd}{protein}.csv')"
   ]
  },
  {
   "cell_type": "code",
   "execution_count": 5,
   "metadata": {},
   "outputs": [],
   "source": [
    "full_docked_df['Receptor'] = full_docked_df['Structure File'].apply(lambda x: re.findall('(?<=surflex/)[A-Z\\d]{4}(?=_)',x)[0])\n",
    "full_docked_df['Ligand ID'] = full_docked_df['Structure File'].apply(lambda x: x.split('.')[-2].split('_')[-1])\n",
    "full_docked_df['rec_ligscaff'] = full_docked_df['Structure File'].apply(lambda x: x.split('/')[-2])"
   ]
  },
  {
   "cell_type": "code",
   "execution_count": 6,
   "metadata": {},
   "outputs": [],
   "source": [
    "def get_range_magnitude(aff_list):\n",
    "    aff_arr = np.array([float(val.strip('><')) for val in aff_list.split(';')])\n",
    "    aff_min_mag = np.log10(np.min(aff_arr))\n",
    "    aff_max_mag = np.log10(np.max(aff_arr))\n",
    "    \n",
    "    return aff_max_mag - aff_min_mag"
   ]
  },
  {
   "cell_type": "markdown",
   "metadata": {},
   "source": [
    "### IC50 is most prevalent\n",
    "Therefore we subset the whole frame to those ligands with IC50 measurements"
   ]
  },
  {
   "cell_type": "code",
   "execution_count": 7,
   "metadata": {},
   "outputs": [],
   "source": [
    "ic50_avail_df = full_docked_df[full_docked_df['IC50(nM)'].notna()]"
   ]
  },
  {
   "cell_type": "code",
   "execution_count": 8,
   "metadata": {},
   "outputs": [
    {
     "name": "stdout",
     "output_type": "stream",
     "text": [
      "971 unique receptors\n",
      "6602 unique recptor-ligand pairs\n"
     ]
    }
   ],
   "source": [
    "print('{} unique receptors'.format(len(ic50_avail_df['Receptor'].unique())))\n",
    "print('{} unique recptor-ligand pairs'.format(len(ic50_avail_df.drop_duplicates(subset=['Receptor','Ligand ID']))))"
   ]
  },
  {
   "cell_type": "code",
   "execution_count": 9,
   "metadata": {},
   "outputs": [
    {
     "data": {
      "text/plain": [
       "<matplotlib.legend.Legend at 0x7f7cf2613550>"
      ]
     },
     "execution_count": 9,
     "metadata": {},
     "output_type": "execute_result"
    },
    {
     "data": {
      "image/png": "[encoded data removed]",
      "text/plain": [
       "<Figure size 432x288 with 1 Axes>"
      ]
     },
     "metadata": {
      "needs_background": "light"
     },
     "output_type": "display_data"
    }
   ],
   "source": [
    "ic50_rm_lig_gp = ic50_avail_df.groupby('Receptor')\n",
    "lig_counts = ic50_rm_lig_gp.count()['Ligand ID']\n",
    "plt.hist(lig_counts,bins=np.arange(1,max(lig_counts),1),align='left')\n",
    "plt.axvline(x=np.mean(lig_counts),label=f'Average={np.mean(lig_counts):.3f}',color='k',linestyle='--')\n",
    "plt.xlabel('Ligands in Series')\n",
    "plt.xlim([1,max(lig_counts)])\n",
    "plt.ylabel('Frequency')\n",
    "plt.legend()"
   ]
  },
  {
   "cell_type": "code",
   "execution_count": 10,
   "metadata": {},
   "outputs": [],
   "source": [
    "more_than_one_IC50_bool = ic50_avail_df['IC50(nM)'].apply(lambda x: len(str(x).split(';')) > 1)\n",
    "ic50_rm_mt1_meas = ic50_avail_df[~more_than_one_IC50_bool].copy()\n",
    "ic50_rm_mt1_meas['IC50(nM)'] = ic50_rm_mt1_meas['IC50(nM)'].apply(lambda x: float(x.strip('><')) if isinstance(x,str) else x)\n",
    "ic50_mt1_meas = (ic50_avail_df[more_than_one_IC50_bool].reset_index())\n",
    "\n"
   ]
  },
  {
   "cell_type": "code",
   "execution_count": 11,
   "metadata": {},
   "outputs": [],
   "source": [
    "## Getting the median of the ligands with more than 1 measurement if the measurements are all within 1 order\n",
    "## of magnitude, otherwise just throwing them out (for now)\n",
    "ic50_mt1_meas['all IC50s'] = ic50_mt1_meas['IC50(nM)']\n",
    "ic50_mt1_meas['IC50 mag range'] = ic50_mt1_meas['all IC50s'].apply(get_range_magnitude)\n",
    "ic50_mt1_good = ic50_mt1_meas[ic50_mt1_meas['IC50 mag range'] < 1].copy()\n",
    "ic50_mt1_good['IC50(nM)'] = ic50_mt1_good['all IC50s'].apply(lambda x: np.median([float(val.strip('><')) for val in x.split(';')]))"
   ]
  },
  {
   "cell_type": "code",
   "execution_count": 12,
   "metadata": {},
   "outputs": [],
   "source": [
    "all_ic50_meas = ic50_rm_mt1_meas.append(ic50_mt1_good).reset_index()\n",
    "all_ic50_gp = all_ic50_meas.groupby('rec_ligscaff')\n",
    "all_ic50_final = all_ic50_gp.filter(lambda x: len(x['Ligand ID'].unique()) > 1) ## remove groups with less than 2 ligands"
   ]
  },
  {
   "cell_type": "code",
   "execution_count": 13,
   "metadata": {},
   "outputs": [
    {
     "name": "stdout",
     "output_type": "stream",
     "text": [
      "325 out of 822 have a range greater than 1 magnitude\n"
     ]
    }
   ],
   "source": [
    "print(f\"{(ic50_mt1_meas['IC50 mag range'] > 1).sum()} out of {ic50_mt1_meas.shape[0]} have a range greater than 1 magnitude\")"
   ]
  },
  {
   "cell_type": "code",
   "execution_count": 14,
   "metadata": {},
   "outputs": [
    {
     "data": {
      "text/plain": [
       "Text(0.5, 0, 'pIC50')"
      ]
     },
     "execution_count": 14,
     "metadata": {},
     "output_type": "execute_result"
    },
    {
     "data": {
      "image/png": "[encoded data removed]",
      "text/plain": [
       "<Figure size 432x288 with 1 Axes>"
      ]
     },
     "metadata": {
      "needs_background": "light"
     },
     "output_type": "display_data"
    }
   ],
   "source": [
    "plt.hist(-np.log10(all_ic50_final['IC50(nM)']*(1E-9)))\n",
    "plt.xlabel('pIC50')"
   ]
  },
  {
   "cell_type": "code",
   "execution_count": 15,
   "metadata": {},
   "outputs": [
    {
     "data": {
      "text/plain": [
       "<matplotlib.legend.Legend at 0x7f7d2c618e20>"
      ]
     },
     "execution_count": 15,
     "metadata": {},
     "output_type": "execute_result"
    },
    {
     "data": {
      "image/png": "[encoded data removed]",
      "text/plain": [
       "<Figure size 432x288 with 1 Axes>"
      ]
     },
     "metadata": {
      "needs_background": "light"
     },
     "output_type": "display_data"
    }
   ],
   "source": [
    "ic50_rm_lig_gp = all_ic50_final.groupby('Receptor')\n",
    "lig_counts = ic50_rm_lig_gp.count()['Ligand ID']\n",
    "plt.hist(lig_counts,bins=np.arange(1,max(lig_counts),1),align='left')\n",
    "plt.axvline(x=np.mean(lig_counts),label=f'Average={np.mean(lig_counts):.3f}',color='k',linestyle='--')\n",
    "plt.xlabel('Ligands in Series')\n",
    "plt.xlim([0,max(lig_counts)])\n",
    "plt.ylabel('Frequency')\n",
    "plt.legend()"
   ]
  },
  {
   "cell_type": "markdown",
   "metadata": {},
   "source": [
    "## Looking at overlap with Jimenez-Luna"
   ]
  },
  {
   "cell_type": "code",
   "execution_count": 16,
   "metadata": {},
   "outputs": [],
   "source": [
    "import pickle\n",
    "from rdkit.Chem import rdFMCS"
   ]
  },
  {
   "cell_type": "code",
   "execution_count": 17,
   "metadata": {},
   "outputs": [],
   "source": [
    "prot_dist, target_lig_pair, lig_sim = pickle.load(open('../fullbdb_external_simi.pickle', 'rb'))\n",
    "ic50_jl_comp = all_ic50_final.copy()\n",
    "ic50_jl_comp['lig file'] = ic50_jl_comp['Structure File'].apply(lambda x: 'ddg_dataset/' + '/'.join(x.split('/')[-2:]))\n",
    "ic50_jl_comp['mol'] = ic50_jl_comp['lig file'].apply(lambda x: Chem.MolFromMol2File(x,sanitize=False))\n",
    "# ic50_jl_comp['fing'] = ic50_jl_comp['mol'].apply(lambda x: Chem.RDKFingerprint(x))"
   ]
  },
  {
   "cell_type": "code",
   "execution_count": 18,
   "metadata": {},
   "outputs": [
    {
     "name": "stdout",
     "output_type": "stream",
     "text": [
      "8858\n",
      "(8858, 8858)\n"
     ]
    }
   ],
   "source": [
    "internal_pairs = target_lig_pair[:8858]\n",
    "internal_targets = [pair.split('_')[0] for pair in internal_pairs]\n",
    "print(len(internal_pairs))\n",
    "internal_pdist = prot_dist[:8858,:8858]\n",
    "print(internal_pdist.shape)\n",
    "simi_idxs = np.array((internal_pdist[0,:] <= 0.1) ^ (pd.Series(internal_targets) == internal_targets[0])).nonzero()[0]\n",
    "same_prot = np.flatnonzero(pd.Series(internal_targets) == internal_targets[0])\n",
    "internal_lsim = lig_sim[:8858,:8858]\n",
    "first_series = internal_lsim[same_prot]"
   ]
  },
  {
   "cell_type": "code",
   "execution_count": 19,
   "metadata": {
    "collapsed": true
   },
   "outputs": [
    {
     "name": "stderr",
     "output_type": "stream",
     "text": [
      "RDKit ERROR: [17:22:18] Can't kekulize mol.  Unkekulized atoms: 9 10 11 12 13 15 16 17 28 29 30\n",
      "RDKit ERROR: \n",
      "RDKit ERROR: [17:22:18] Can't kekulize mol.  Unkekulized atoms: 9 10 11 12 13 15 16 17 27 28 29\n",
      "RDKit ERROR: \n",
      "RDKit ERROR: [17:22:18] Can't kekulize mol.  Unkekulized atoms: 9 10 11 12 13 15 16 17 28 29 30\n",
      "RDKit ERROR: \n",
      "RDKit ERROR: [17:22:18] Can't kekulize mol.  Unkekulized atoms: 8 9 10 11 12 14 15 16 26 27 28\n",
      "RDKit ERROR: \n",
      "RDKit ERROR: [17:22:18] Can't kekulize mol.  Unkekulized atoms: 3 4 5 6 7 9 10 11 21 22 23\n",
      "RDKit ERROR: \n",
      "RDKit ERROR: [17:22:18] Can't kekulize mol.  Unkekulized atoms: 0 1 2 12 13 14 15 16 17 18 27\n",
      "RDKit ERROR: \n",
      "RDKit ERROR: [17:22:18] Can't kekulize mol.  Unkekulized atoms: 0 1 2 12 13 14 15 16 17 18 32\n",
      "RDKit ERROR: \n",
      "RDKit ERROR: [17:22:20] Can't kekulize mol.  Unkekulized atoms: 10 11 12 13 14 16 17 18 21 24 25\n",
      "RDKit ERROR: \n",
      "RDKit ERROR: [17:22:20] Can't kekulize mol.  Unkekulized atoms: 10 11 12 13 14 16 17 18 21 24 25\n",
      "RDKit ERROR: \n",
      "RDKit ERROR: [17:22:20] Can't kekulize mol.  Unkekulized atoms: 7 8 9 10 17\n",
      "RDKit ERROR: \n",
      "RDKit ERROR: [17:22:20] Can't kekulize mol.  Unkekulized atoms: 1 2 3 4 17\n",
      "RDKit ERROR: \n",
      "RDKit ERROR: [17:22:20] Can't kekulize mol.  Unkekulized atoms: 7 8 9 10 17\n",
      "RDKit ERROR: \n",
      "RDKit ERROR: [17:22:20] Can't kekulize mol.  Unkekulized atoms: 1 2 3 4 17\n",
      "RDKit ERROR: \n",
      "RDKit ERROR: [17:22:20] Can't kekulize mol.  Unkekulized atoms: 9 10 11 12 13 15 16 17 19 20 21\n",
      "RDKit ERROR: \n",
      "RDKit ERROR: [17:22:20] Can't kekulize mol.  Unkekulized atoms: 1 2 3 4 5 6 8 9 24 25 26\n",
      "RDKit ERROR: \n",
      "RDKit ERROR: [17:22:20] Can't kekulize mol.  Unkekulized atoms: 1 2 3 4 5 6 8 9 23 24 25\n",
      "RDKit ERROR: \n",
      "RDKit ERROR: [17:22:20] Can't kekulize mol.  Unkekulized atoms: 9 10 11 12 13 15 16 17 18 21 22\n",
      "RDKit ERROR: \n",
      "RDKit ERROR: [17:22:20] Can't kekulize mol.  Unkekulized atoms: 9 10 11 12 13 15 16 17 19 20 21\n",
      "RDKit ERROR: \n",
      "RDKit ERROR: [17:22:20] Can't kekulize mol.  Unkekulized atoms: 9 10 11 12 13 15 16 17 18 21 22\n",
      "RDKit ERROR: \n",
      "RDKit ERROR: [17:22:20] Can't kekulize mol.  Unkekulized atoms: 1 2 3 4 5 6 8 9 24 25 26\n",
      "RDKit ERROR: \n"
     ]
    },
    {
     "data": {
      "text/plain": [
       "(array([0, 0, 0, 0, 1, 1, 1, 1, 2, 2, 2, 2, 3, 3, 3, 3, 4, 4, 4, 4, 5, 5,\n",
       "        5, 5, 6, 6, 6, 6, 7, 7, 7, 7, 8, 8, 8, 8, 9, 9, 9, 9]),\n",
       " array([ 4, 22, 33, 48,  1, 18, 37, 42,  3, 17, 28, 45,  0, 24, 35, 39, 13,\n",
       "        25, 34, 38,  7, 19, 31, 46,  2, 14, 30, 47, 12, 20, 27, 41,  9, 21,\n",
       "        29, 44,  5, 23, 26, 43]))"
      ]
     },
     "execution_count": 19,
     "metadata": {},
     "output_type": "execute_result"
    }
   ],
   "source": [
    "all_ligs = pd.read_csv('../all_ligs.txt',sep=' ',header=None)\n",
    "all_ligs.drop_duplicates(subset=0,inplace=True)\n",
    "all_ligs.sort_values(1,ascending=False,inplace=True)\n",
    "mapping = all_ligs[:8858].copy()\n",
    "mapping.sort_values(0,inplace=True)\n",
    "mapping.reset_index(drop=True)\n",
    "mapping.columns = ['name','rec','lig']\n",
    "mapping['mol'] = mapping.lig.apply(lambda x: Chem.MolFromSmiles(open('/'.join(x.split('/')[1:]),'r').read()))\n",
    "mapping['df idx array'] = mapping['lig'].apply(lambda x: ic50_jl_comp[ic50_jl_comp['lig file'] == ('/'.join(x.split('/')[1:])).replace('.smi','.mol2')].index.array)\n",
    "mapping['df idx'] = mapping['df idx array'].apply(lambda x: '' if len(x) == 0 else int(x[0]))\n",
    "map_to_idx = mapping['df idx'].to_dict()"
   ]
  },
  {
   "cell_type": "code",
   "execution_count": 20,
   "metadata": {
    "scrolled": true
   },
   "outputs": [
    {
     "name": "stdout",
     "output_type": "stream",
     "text": [
      "0 92\n",
      "10 4\n",
      "12 0\n",
      "24 4\n",
      "26 2\n",
      "43 6\n",
      "46 0\n",
      "56 0\n",
      "58 89\n",
      "159 0\n",
      "161 0\n",
      "165 13\n",
      "175 9\n",
      "181 0\n",
      "190 0\n",
      "206 15\n",
      "213 0\n",
      "215 4\n",
      "219 0\n",
      "223 0\n",
      "240 0\n",
      "251 12\n",
      "255 116\n",
      "270 0\n",
      "284 4\n",
      "334 73\n",
      "375 6\n",
      "379 0\n",
      "453 0\n",
      "466 0\n",
      "470 12\n",
      "480 5\n",
      "483 1\n",
      "495 1\n",
      "594 0\n",
      "596 7\n",
      "607 0\n",
      "620 105\n",
      "632 0\n",
      "646 0\n",
      "650 0\n",
      "675 2\n",
      "677 268\n",
      "691 0\n",
      "698 11\n",
      "815 34\n",
      "829 2\n",
      "836 0\n",
      "867 0\n",
      "871 7\n",
      "879 2\n",
      "896 1\n",
      "909 8\n",
      "921 60\n",
      "970 21\n",
      "992 0\n",
      "1042 2\n",
      "1092 0\n",
      "1159 5\n",
      "1210 3\n",
      "1213 0\n",
      "1272 50\n",
      "1304 27\n",
      "1355 8\n",
      "1389 27\n",
      "1427 0\n",
      "1441 0\n",
      "1453 0\n",
      "1460 13\n",
      "1471 0\n",
      "1474 0\n",
      "1492 0\n",
      "1505 12\n",
      "1533 0\n",
      "1538 208\n",
      "1565 0\n",
      "1595 6\n",
      "1615 10\n",
      "1637 0\n",
      "1651 42\n",
      "1704 5\n",
      "1711 0\n",
      "1737 0\n",
      "1791 0\n",
      "1802 0\n",
      "1818 0\n",
      "1847 0\n",
      "1862 10\n",
      "1881 0\n",
      "1888 2\n",
      "1892 0\n",
      "1902 0\n",
      "1962 0\n",
      "1965 0\n",
      "2080 0\n",
      "2127 0\n",
      "2130 0\n",
      "2174 14\n",
      "2219 0\n",
      "2392 0\n",
      "2404 0\n",
      "2429 66\n",
      "2706 0\n",
      "2814 0\n",
      "2828 1\n",
      "2879 0\n",
      "2899 0\n",
      "2914 0\n",
      "2922 5\n",
      "2978 2\n",
      "2980 0\n",
      "3089 52\n",
      "3127 29\n",
      "3243 0\n",
      "3247 4\n",
      "3253 0\n",
      "3278 0\n",
      "3293 0\n",
      "3339 23\n",
      "3442 0\n",
      "3447 0\n",
      "3473 0\n",
      "3486 15\n",
      "3519 1\n",
      "3521 0\n",
      "3524 8\n",
      "3636 0\n",
      "3649 0\n",
      "3660 0\n",
      "3675 202\n",
      "3700 0\n",
      "3729 0\n",
      "3740 0\n",
      "3878 3\n",
      "3895 13\n",
      "3928 0\n",
      "3943 0\n",
      "3958 0\n",
      "4000 0\n",
      "4076 11\n",
      "4148 4\n",
      "4182 0\n",
      "4197 0\n",
      "4212 5\n",
      "4247 0\n",
      "4454 0\n",
      "4493 0\n",
      "4535 1\n",
      "4569 0\n",
      "4732 0\n",
      "4762 0\n",
      "4768 0\n",
      "4773 0\n",
      "4790 2\n",
      "4803 0\n",
      "4846 0\n",
      "4903 26\n",
      "4961 0\n",
      "5080 147\n",
      "5220 0\n",
      "5258 0\n",
      "5406 0\n",
      "5426 0\n",
      "5459 0\n",
      "5543 0\n",
      "5550 5\n",
      "5555 10\n",
      "5560 0\n",
      "5619 0\n",
      "5659 16\n",
      "5682 52\n",
      "5695 0\n",
      "5732 0\n",
      "5748 0\n",
      "5922 4\n",
      "5932 2\n",
      "5958 1\n",
      "5970 448\n",
      "6032 0\n",
      "6043 0\n",
      "6050 4\n",
      "6081 0\n",
      "6108 0\n",
      "6127 0\n",
      "6137 0\n",
      "6141 0\n",
      "6153 0\n",
      "6156 0\n",
      "6175 0\n",
      "6198 0\n",
      "6275 0\n",
      "6290 17\n",
      "6305 0\n",
      "6307 6\n",
      "6318 0\n",
      "6320 3\n",
      "6344 0\n",
      "6357 0\n",
      "6402 0\n",
      "6420 0\n",
      "6608 0\n",
      "6646 6\n",
      "6675 0\n",
      "6712 0\n",
      "6726 0\n",
      "6741 5\n",
      "6746 0\n",
      "6780 0\n",
      "6829 0\n",
      "6844 0\n",
      "6856 9\n",
      "6873 0\n",
      "6888 0\n",
      "6896 0\n",
      "7006 0\n",
      "7019 0\n",
      "7022 0\n",
      "7038 0\n",
      "7110 0\n",
      "7300 0\n",
      "7348 10\n",
      "7526 0\n",
      "7538 0\n",
      "7577 0\n",
      "7656 0\n",
      "7711 0\n",
      "7718 0\n",
      "7783 0\n",
      "7791 0\n",
      "7848 16\n",
      "7876 25\n",
      "7933 0\n",
      "8013 0\n",
      "8025 0\n",
      "8137 1\n",
      "8212 5\n",
      "8217 0\n",
      "8239 0\n",
      "8288 6\n",
      "8326 0\n",
      "8372 0\n",
      "8389 0\n",
      "8403 0\n",
      "8412 0\n",
      "8448 0\n",
      "8451 0\n",
      "8455 0\n",
      "8457 24\n",
      "8529 0\n",
      "8608 0\n",
      "8623 12\n",
      "8635 0\n",
      "8664 0\n",
      "8666 0\n",
      "8845 0\n"
     ]
    }
   ],
   "source": [
    "looked_at = set()\n",
    "duplicate_pairs= []\n",
    "for i in range(len(internal_targets)):\n",
    "    if internal_targets[i] in looked_at:\n",
    "        continue\n",
    "    else:\n",
    "        looked_at.add(internal_targets[i])\n",
    "    simi_idxs = np.array((internal_pdist[i,:] <= 0.1) ^ (pd.Series(internal_targets) == internal_targets[i])).nonzero()[0]\n",
    "    for si in simi_idxs:\n",
    "        looked_at.add(internal_targets[si])\n",
    "    same_prot = np.flatnonzero(pd.Series(internal_targets) == internal_targets[i])\n",
    "\n",
    "    cong_series = internal_lsim[same_prot,:]\n",
    "    first_ind, second_ind = np.nonzero(cong_series[:,simi_idxs] > 0.95)\n",
    "    print(i,len(first_ind))\n",
    "    for idx1, idx2 in zip(first_ind,second_ind):\n",
    "        idx1 = same_prot[idx1]\n",
    "        idx2 = simi_idxs[idx2]\n",
    "        if idx1 == idx2:\n",
    "            continue\n",
    "        if map_to_idx[idx2] == '' or map_to_idx[idx1] == '': #not in IC50 measures\n",
    "            continue\n",
    "        mol1 = mapping.iloc[idx1]['mol']\n",
    "        mol2 = mapping.iloc[idx2]['mol']\n",
    "        if mol1 is None:\n",
    "            mol1 = Chem.MolFromSmiles(open('/'.join(mapping.iloc[idx1]['lig'].split('/')[1:])).read(),sanitize=False)\n",
    "        if mol2 is None:\n",
    "            mol2 = Chem.MolFromSmiles(open('/'.join(mapping.iloc[idx2]['lig'].split('/')[1:])).read(),sanitize=False)\n",
    "        result = rdFMCS.FindMCS([mol1,mol2])\n",
    "        intersect,a1,a2 = result.numAtoms,mol1.GetNumAtoms(),mol2.GetNumAtoms()\n",
    "        if intersect==a1 and intersect==a2:\n",
    "           duplicate_pairs.append((idx1,idx2)) "
   ]
  },
  {
   "cell_type": "code",
   "execution_count": 29,
   "metadata": {},
   "outputs": [
    {
     "name": "stdout",
     "output_type": "stream",
     "text": [
      "set()\n",
      "1208 1056\n",
      "1208 490\n"
     ]
    }
   ],
   "source": [
    "originals, duplicates = [],[]\n",
    "for o,d in duplicate_pairs:\n",
    "    originals.append(o)\n",
    "    duplicates.append(d)\n",
    "print(set(originals).intersection(set(duplicates)))\n",
    "print(len(duplicates),len(set(duplicates)))"
   ]
  },
  {
   "cell_type": "code",
   "execution_count": 69,
   "metadata": {},
   "outputs": [],
   "source": [
    "deduplicates = list(set(duplicates))\n",
    "mapped_dups = [map_to_idx[d] for d in deduplicates if (d in map_to_idx.keys()) and (map_to_idx[d] != '')]"
   ]
  },
  {
   "cell_type": "code",
   "execution_count": 75,
   "metadata": {},
   "outputs": [
    {
     "name": "stdout",
     "output_type": "stream",
     "text": [
      "639 639\n"
     ]
    }
   ],
   "source": [
    "ic50_jl_fin = ic50_jl_comp.drop(index=mapped_dups).copy()\n",
    "ic50_jl_gp =  ic50_jl_fin.groupby('rec_ligscaff')\n",
    "ic50_jl_final = ic50_jl_gp.filter(lambda x: len(x['Ligand ID'].unique()) > 1) ## remove groups with less than 2 ligands\n",
    "receptors = set()\n",
    "cong_series=set()\n",
    "comparisons=0\n",
    "ligands_per_series = []\n",
    "range_of_series = []\n",
    "dg_values = []\n",
    "ms_df = ic50_jl_final\n",
    "measurement = 'IC50(nM)'\n",
    "receptors = receptors.union(set(ms_df['Receptor'].unique().tolist()))\n",
    "ligands_per_series += ms_df.groupby('rec_ligscaff')['Ligand ID'].count().tolist()\n",
    "dg_values += (-np.log10(ms_df[measurement]*1E-9)).tolist()\n",
    "range_of_series += (-np.log10(ms_df.groupby('rec_ligscaff')[measurement].min().values*1E-9)+np.log10(ms_df.groupby('rec_ligscaff')[measurement].max().values*1E-9)).tolist()\n",
    "cong_series = cong_series.union(set([f\"{val}_{measurement}\" for val in ms_df['rec_ligscaff'].unique().tolist()]))\n",
    "comparisons += ms_df.groupby('rec_ligscaff')['Structure File'].count().apply(lambda x: math.factorial(x)/math.factorial(x-2) if x>=2 else 0).sum()\n",
    "print(len(receptors),len(cong_series))"
   ]
  },
  {
   "cell_type": "code",
   "execution_count": 84,
   "metadata": {},
   "outputs": [],
   "source": [
    "ic50_jl_final.to_csv('jimenez/jl_comparison_set.csv',columns=['Receptor','Ligand ID','rec_ligscaff','lig file','IC50(nM)'],index=False)"
   ]
  },
  {
   "cell_type": "code",
   "execution_count": 89,
   "metadata": {},
   "outputs": [
    {
     "name": "stdout",
     "output_type": "stream",
     "text": [
      "6.411203077071128\n"
     ]
    },
    {
     "data": {
      "image/png": "[encoded data removed]",
      "text/plain": [
       "<Figure size 432x288 with 1 Axes>"
      ]
     },
     "metadata": {
      "needs_background": "light"
     },
     "output_type": "display_data"
    }
   ],
   "source": [
    "plt.hist(-np.log10(ic50_jl_final['IC50(nM)']*(1E-9)))\n",
    "plt.axvline(np.mean(-np.log10(ic50_jl_final['IC50(nM)']*(1E-9))),color='k',ls='--')\n",
    "plt.xlabel('pIC50')\n",
    "print(np.mean(-np.log10(ic50_jl_final['IC50(nM)']*(1E-9))))"
   ]
  },
  {
   "cell_type": "code",
   "execution_count": 90,
   "metadata": {
    "scrolled": true
   },
   "outputs": [
    {
     "data": {
      "text/plain": [
       "<matplotlib.legend.Legend at 0x7f87b8d97d00>"
      ]
     },
     "execution_count": 90,
     "metadata": {},
     "output_type": "execute_result"
    },
    {
     "data": {
      "image/png": "[encoded data removed]",
      "text/plain": [
       "<Figure size 432x288 with 1 Axes>"
      ]
     },
     "metadata": {
      "needs_background": "light"
     },
     "output_type": "display_data"
    }
   ],
   "source": [
    "ic50_rm_lig_gp =ic50_jl_final.groupby('Receptor')\n",
    "lig_counts = ic50_rm_lig_gp.count()['Ligand ID']\n",
    "plt.hist(lig_counts,bins=np.arange(1,max(lig_counts),1),align='left')\n",
    "plt.axvline(x=np.mean(lig_counts),label=f'Average={np.mean(lig_counts):.3f}',color='k',linestyle='--')\n",
    "plt.xlabel('Ligands in Series')\n",
    "plt.xlim([0,max(lig_counts)])\n",
    "plt.ylabel('Frequency')\n",
    "plt.legend()"
   ]
  },
  {
   "cell_type": "code",
   "execution_count": 91,
   "metadata": {},
   "outputs": [],
   "source": [
    "meas_dfs = [(ic50_jl_final,'IC50(nM)')]"
   ]
  },
  {
   "cell_type": "markdown",
   "metadata": {},
   "source": [
    "### Ki is next most prevalent\n",
    "Therefore we subset the whole frame to those ligands with Ki measurements"
   ]
  },
  {
   "cell_type": "code",
   "execution_count": 16,
   "metadata": {},
   "outputs": [],
   "source": [
    "ki_avail_df = full_docked_df[full_docked_df['Ki(nM)'].notna()]"
   ]
  },
  {
   "cell_type": "code",
   "execution_count": 17,
   "metadata": {},
   "outputs": [
    {
     "name": "stdout",
     "output_type": "stream",
     "text": [
      "474 unique receptors\n",
      "2415 unique recptor-ligand pairs\n"
     ]
    }
   ],
   "source": [
    "print('{} unique receptors'.format(len(ki_avail_df['Receptor'].unique())))\n",
    "print('{} unique recptor-ligand pairs'.format(len(ki_avail_df.drop_duplicates(subset=['Receptor','Ligand ID']))))"
   ]
  },
  {
   "cell_type": "code",
   "execution_count": 18,
   "metadata": {},
   "outputs": [
    {
     "data": {
      "text/plain": [
       "<matplotlib.legend.Legend at 0x7f7cf4687280>"
      ]
     },
     "execution_count": 18,
     "metadata": {},
     "output_type": "execute_result"
    },
    {
     "data": {
      "image/png": "[encoded data removed]",
      "text/plain": [
       "<Figure size 432x288 with 1 Axes>"
      ]
     },
     "metadata": {
      "needs_background": "light"
     },
     "output_type": "display_data"
    }
   ],
   "source": [
    "ki_avail_df_gp = ki_avail_df.groupby('rec_ligscaff')\n",
    "lig_counts = ki_avail_df_gp.count()['Ligand ID']\n",
    "plt.hist(lig_counts,bins=np.arange(1,max(lig_counts),1),align='left')\n",
    "plt.axvline(x=np.mean(lig_counts),label=f'Average={np.mean(lig_counts):.3f}',color='k',linestyle='--')\n",
    "plt.xlabel('Ligands in Series')\n",
    "plt.xlim([0,max(lig_counts)])\n",
    "plt.ylabel('Frequency')\n",
    "plt.legend()"
   ]
  },
  {
   "cell_type": "code",
   "execution_count": 19,
   "metadata": {},
   "outputs": [],
   "source": [
    "# ki_mt1_meas = ki_rm_lig['Ki(nM)'].apply(lambda x: np.median([float(val.strip('><')) for val in x.split(';')] if isinstance(x,str) else x ))\n",
    "more_than_one_KI_bool = ki_avail_df['Ki(nM)'].apply(lambda x: len(str(x).split(';')) > 1)\n",
    "ki_rm_mt1_meas = ki_avail_df[~more_than_one_KI_bool].copy()\n",
    "ki_rm_mt1_meas['Ki(nM)'] = ki_rm_mt1_meas['Ki(nM)'].apply(lambda x: float(x.strip('><')) if isinstance(x,str) else x)\n",
    "ki_mt1_meas = (ki_avail_df[more_than_one_KI_bool].reset_index())"
   ]
  },
  {
   "cell_type": "code",
   "execution_count": 20,
   "metadata": {},
   "outputs": [],
   "source": [
    "## Getting the median of the ligands with more than 1 measurement if the measurements are all within 1 order\n",
    "## of magnitude, otherwise just throwing them out (for now)\n",
    "ki_mt1_meas['all Kis'] = ki_mt1_meas['Ki(nM)']\n",
    "ki_mt1_meas['Ki mag range'] = ki_mt1_meas['all Kis'].apply(get_range_magnitude)\n",
    "ki_mt1_good = ki_mt1_meas[ki_mt1_meas['Ki mag range'] < 1].copy()\n",
    "ki_mt1_good['Ki(nM)'] = ki_mt1_good['all Kis'].apply(lambda x: np.median([float(val.strip('><')) for val in x.split(';')]))"
   ]
  },
  {
   "cell_type": "code",
   "execution_count": 21,
   "metadata": {},
   "outputs": [
    {
     "name": "stdout",
     "output_type": "stream",
     "text": [
      "115 out of 326 have a range greater than 1 magnitude\n"
     ]
    }
   ],
   "source": [
    "print(f\"{(ki_mt1_meas['Ki mag range'] > 1).sum()} out of {ki_mt1_meas.shape[0]} have a range greater than 1 magnitude\")"
   ]
  },
  {
   "cell_type": "code",
   "execution_count": 22,
   "metadata": {},
   "outputs": [],
   "source": [
    "all_ki_meas = ki_rm_mt1_meas.append(ki_mt1_good).reset_index()\n",
    "all_ki_meas = all_ki_meas.drop(all_ki_meas[all_ki_meas['Ki(nM)'] == 0].index)\n",
    "all_ki_gp = all_ki_meas.groupby('rec_ligscaff')\n",
    "all_ki_final = all_ki_gp.filter(lambda x: len(x['Ligand ID'].unique()) > 1) ## remove groups with less than 2 ligands"
   ]
  },
  {
   "cell_type": "code",
   "execution_count": 23,
   "metadata": {},
   "outputs": [],
   "source": [
    "# Manually fixing some entries that are wrong\n",
    "# Taken from 'QSAR study on topically acting sulfonamides incorporating GABA moieties: A molecular connectivity approach' \n",
    "all_ki_final.loc[all_ki_meas[(all_ki_meas['Ligand ID'] == '10882')].index,'Ki(nM)'] = np.exp(-0.9543)/(1E-9)"
   ]
  },
  {
   "cell_type": "code",
   "execution_count": 24,
   "metadata": {},
   "outputs": [
    {
     "data": {
      "text/plain": [
       "Text(0.5, 0, 'pKi')"
      ]
     },
     "execution_count": 24,
     "metadata": {},
     "output_type": "execute_result"
    },
    {
     "data": {
      "image/png": "[encoded data removed]",
      "text/plain": [
       "<Figure size 432x288 with 1 Axes>"
      ]
     },
     "metadata": {
      "needs_background": "light"
     },
     "output_type": "display_data"
    }
   ],
   "source": [
    "plt.hist(-np.log10(all_ki_final['Ki(nM)']*(1E-9)))\n",
    "plt.xlabel('pKi')"
   ]
  },
  {
   "cell_type": "code",
   "execution_count": 25,
   "metadata": {},
   "outputs": [
    {
     "data": {
      "text/plain": [
       "<matplotlib.legend.Legend at 0x7f7cf23b7430>"
      ]
     },
     "execution_count": 25,
     "metadata": {},
     "output_type": "execute_result"
    },
    {
     "data": {
      "image/png": "[encoded data removed]",
      "text/plain": [
       "<Figure size 432x288 with 1 Axes>"
      ]
     },
     "metadata": {
      "needs_background": "light"
     },
     "output_type": "display_data"
    }
   ],
   "source": [
    "ki_avail_df_gp = all_ki_final.groupby('rec_ligscaff')\n",
    "lig_counts = ki_avail_df_gp.count()['Ligand ID']\n",
    "plt.hist(lig_counts,bins=np.arange(1,max(lig_counts),1),align='left')\n",
    "plt.axvline(x=np.mean(lig_counts),label=f'Average={np.mean(lig_counts):.3f}',color='k',linestyle='--')\n",
    "plt.xlabel('Ligands in Series')\n",
    "plt.xlim([0,max(lig_counts)])\n",
    "plt.ylabel('Frequency')\n",
    "plt.legend()"
   ]
  },
  {
   "cell_type": "markdown",
   "metadata": {},
   "source": [
    "### Kd is the least prevalent\n",
    "Therefore we subset the whole frame to those ligands with Kd measurements"
   ]
  },
  {
   "cell_type": "code",
   "execution_count": 26,
   "metadata": {},
   "outputs": [],
   "source": [
    "kd_avail_df = full_docked_df[full_docked_df['Kd(nM)'].notna()]"
   ]
  },
  {
   "cell_type": "code",
   "execution_count": 27,
   "metadata": {},
   "outputs": [
    {
     "name": "stdout",
     "output_type": "stream",
     "text": [
      "218 unique receptors\n",
      "662 unique recptor-ligand pairs\n"
     ]
    }
   ],
   "source": [
    "print('{} unique receptors'.format(len(kd_avail_df['Receptor'].unique())))\n",
    "print('{} unique recptor-ligand pairs'.format(len(kd_avail_df.drop_duplicates(subset=['Receptor','Ligand ID']))))"
   ]
  },
  {
   "cell_type": "code",
   "execution_count": 28,
   "metadata": {},
   "outputs": [
    {
     "data": {
      "text/plain": [
       "<matplotlib.legend.Legend at 0x7f7cf243c700>"
      ]
     },
     "execution_count": 28,
     "metadata": {},
     "output_type": "execute_result"
    },
    {
     "data": {
      "image/png": "[encoded data removed]",
      "text/plain": [
       "<Figure size 432x288 with 1 Axes>"
      ]
     },
     "metadata": {
      "needs_background": "light"
     },
     "output_type": "display_data"
    }
   ],
   "source": [
    "kd_rm_lig_gp = kd_avail_df.groupby('rec_ligscaff')\n",
    "lig_counts = kd_rm_lig_gp.count()['Ligand ID']\n",
    "plt.hist(lig_counts,bins=np.arange(1,max(lig_counts),1),align='left')\n",
    "plt.axvline(x=np.mean(lig_counts),label=f'Average={np.mean(lig_counts):.3f}',color='k',linestyle='--')\n",
    "plt.xlabel('Ligands in Series')\n",
    "plt.xlim([1,max(lig_counts)])\n",
    "plt.ylabel('Frequency')\n",
    "plt.legend()"
   ]
  },
  {
   "cell_type": "code",
   "execution_count": 29,
   "metadata": {},
   "outputs": [],
   "source": [
    "more_than_one_KD_bool = kd_avail_df['Kd(nM)'].apply(lambda x: len(str(x).split(';')) > 1)\n",
    "kd_rm_mt1_meas = kd_avail_df[~more_than_one_KD_bool].copy()\n",
    "kd_rm_mt1_meas['Kd(nM)'] = kd_rm_mt1_meas['Kd(nM)'].apply(lambda x: float(x.strip('><')) if isinstance(x,str) else x)\n",
    "kd_mt1_meas = (kd_avail_df[more_than_one_KD_bool].reset_index())"
   ]
  },
  {
   "cell_type": "code",
   "execution_count": 30,
   "metadata": {},
   "outputs": [],
   "source": [
    "## Getting the median of the ligands with more than 1 measurement if the measurements are all within 1 order\n",
    "## of magnitude, otherwise just throwing them out (for now)\n",
    "kd_mt1_meas['all Kds'] = kd_mt1_meas['Kd(nM)']\n",
    "kd_mt1_meas['Kd mag range'] = kd_mt1_meas['all Kds'].apply(get_range_magnitude)\n",
    "kd_mt1_good = kd_mt1_meas[kd_mt1_meas['Kd mag range'] < 1].copy()\n",
    "kd_mt1_good['Kd(nM)'] = kd_mt1_good['all Kds'].apply(lambda x: np.median([float(val.strip('><')) for val in x.split(';')]))"
   ]
  },
  {
   "cell_type": "code",
   "execution_count": 31,
   "metadata": {},
   "outputs": [
    {
     "name": "stdout",
     "output_type": "stream",
     "text": [
      "36 out of 206 have a range greater than 1 magnitude\n"
     ]
    }
   ],
   "source": [
    "print(f\"{(kd_mt1_meas['Kd mag range'] > 1).sum()} out of {kd_mt1_meas.shape[0]} have a range greater than 1 magnitude\")"
   ]
  },
  {
   "cell_type": "code",
   "execution_count": 32,
   "metadata": {},
   "outputs": [],
   "source": [
    "all_kd_meas = kd_rm_mt1_meas.append(kd_mt1_good).reset_index()\n",
    "all_kd_meas = all_kd_meas.drop(all_kd_meas[all_kd_meas['Kd(nM)'] == 0].index)\n",
    "all_kd_gp = all_kd_meas.groupby('rec_ligscaff')\n",
    "all_kd_final = all_kd_gp.filter(lambda x: len(x['Ligand ID'].unique()) > 1) ## remove groups with less than 2 ligands\n"
   ]
  },
  {
   "cell_type": "code",
   "execution_count": 33,
   "metadata": {},
   "outputs": [
    {
     "name": "stdout",
     "output_type": "stream",
     "text": [
      "1.6882461389442456 11.0\n"
     ]
    }
   ],
   "source": [
    "print(min(-np.log10(all_kd_meas['Kd(nM)']*(1E-9))),max(-np.log10(all_kd_meas['Kd(nM)']*(1E-9))))"
   ]
  },
  {
   "cell_type": "code",
   "execution_count": 34,
   "metadata": {
    "scrolled": true
   },
   "outputs": [
    {
     "data": {
      "text/plain": [
       "Text(0.5, 0, 'pKd')"
      ]
     },
     "execution_count": 34,
     "metadata": {},
     "output_type": "execute_result"
    },
    {
     "data": {
      "image/png": "[encoded data removed]",
      "text/plain": [
       "<Figure size 432x288 with 1 Axes>"
      ]
     },
     "metadata": {
      "needs_background": "light"
     },
     "output_type": "display_data"
    }
   ],
   "source": [
    "plt.hist(-np.log10(all_kd_meas['Kd(nM)']*(1E-9)))\n",
    "plt.xlabel('pKd')"
   ]
  },
  {
   "cell_type": "code",
   "execution_count": 35,
   "metadata": {},
   "outputs": [
    {
     "data": {
      "text/plain": [
       "<matplotlib.legend.Legend at 0x7f7cf221f640>"
      ]
     },
     "execution_count": 35,
     "metadata": {},
     "output_type": "execute_result"
    },
    {
     "data": {
      "image/png": "[encoded data removed]",
      "text/plain": [
       "<Figure size 432x288 with 1 Axes>"
      ]
     },
     "metadata": {
      "needs_background": "light"
     },
     "output_type": "display_data"
    }
   ],
   "source": [
    "kd_rm_lig_gp = all_kd_final.groupby('rec_ligscaff')\n",
    "lig_counts = kd_rm_lig_gp.count()['Ligand ID']\n",
    "plt.hist(lig_counts,bins=np.arange(1,max(lig_counts),1),align='left')\n",
    "plt.axvline(x=np.mean(lig_counts),label=f'Average={np.mean(lig_counts):.3f}',color='k',linestyle='--')\n",
    "plt.xlabel('Ligands in Series')\n",
    "plt.xlim([1,max(lig_counts)])\n",
    "plt.ylabel('Frequency')\n",
    "plt.legend()"
   ]
  },
  {
   "cell_type": "code",
   "execution_count": 36,
   "metadata": {},
   "outputs": [],
   "source": [
    "## SEtting up the list of dataframes/measurments\n",
    "meas_dfs= [(all_ic50_final,'IC50(nM)'),(all_ki_final,'Ki(nM)'),(all_kd_final,'Kd(nM)')]"
   ]
  },
  {
   "cell_type": "markdown",
   "metadata": {},
   "source": [
    "## What about Receptors:\n",
    "Only including receptors that have more than 1 ligand"
   ]
  },
  {
   "cell_type": "code",
   "execution_count": 51,
   "metadata": {},
   "outputs": [],
   "source": [
    "meas_r_list = []\n",
    "for df,meas in meas_dfs:\n",
    "    meas_r_list.append(df['Receptor'].nunique())\n",
    "#     print(f'Non-Nan {meas}:{meas_r_list[-1]}')"
   ]
  },
  {
   "cell_type": "code",
   "execution_count": 52,
   "metadata": {},
   "outputs": [
    {
     "data": {
      "text/plain": [
       "Text(0.5, -0.5, 'Covers 943 unique PDB IDs')"
      ]
     },
     "execution_count": 52,
     "metadata": {},
     "output_type": "execute_result"
    },
    {
     "data": {
      "image/png": "[encoded data removed]",
      "text/plain": [
       "<Figure size 432x288 with 1 Axes>"
      ]
     },
     "metadata": {},
     "output_type": "display_data"
    }
   ],
   "source": [
    "meas_recs = dict()\n",
    "for df,meas in meas_dfs:\n",
    "    meas_recs[meas]=set(df[df[meas].notna()].apply(lambda row: '{}'.format(row['Receptor']), axis=1).values.tolist())\n",
    "total_overlap = len(meas_recs['Ki(nM)'].intersection(meas_recs['IC50(nM)'],meas_recs['Kd(nM)']))\n",
    "ki_ic50_overlap = len(meas_recs['Ki(nM)'].intersection(meas_recs['IC50(nM)']))\n",
    "ki_kd_overlap = len(meas_recs['Ki(nM)'].intersection(meas_recs['Kd(nM)']))\n",
    "ic50_kd_overlap = len(meas_recs['Kd(nM)'].intersection(meas_recs['IC50(nM)']))\n",
    "\n",
    "venn3(subsets = (meas_r_list[0], meas_r_list[1], ki_ic50_overlap, meas_r_list[2], ki_kd_overlap, ic50_kd_overlap, total_overlap), set_labels = ('Ki(nM)', 'IC50(nM)','Kd(nM)'), alpha = 0.5)\n",
    "plt.annotate(f\"Covers {len(meas_recs['Ki(nM)'].union(meas_recs['IC50(nM)'],meas_recs['Kd(nM)']))} unique PDB IDs\",xy=(0.5,-0.5))"
   ]
  },
  {
   "cell_type": "markdown",
   "metadata": {},
   "source": [
    "### Number of Ligands with each type of Measurement\n",
    "Again only considering ligands of proteins that have more than 1 ligand associated"
   ]
  },
  {
   "cell_type": "code",
   "execution_count": 53,
   "metadata": {},
   "outputs": [],
   "source": [
    "meas_list = []\n",
    "for df,meas in meas_dfs:\n",
    "    meas_list.append(len(df.drop_duplicates(subset=['Receptor','Ligand ID'])))\n",
    "#     print(f'Non-Nan {meas}:{meas_list[-1]}')"
   ]
  },
  {
   "cell_type": "code",
   "execution_count": 54,
   "metadata": {},
   "outputs": [
    {
     "data": {
      "text/plain": [
       "Text(0.5, -0.5, 'Covers 8452 protein-ligand pairs')"
      ]
     },
     "execution_count": 54,
     "metadata": {},
     "output_type": "execute_result"
    },
    {
     "data": {
      "image/png": "[encoded data removed]",
      "text/plain": [
       "<Figure size 432x288 with 1 Axes>"
      ]
     },
     "metadata": {},
     "output_type": "display_data"
    }
   ],
   "source": [
    "meas_ligs = dict()\n",
    "for df,meas in meas_dfs:\n",
    "    meas_ligs[meas]=set(df.apply(lambda row: '{}_{}'.format(row['Receptor'],row['Ligand ID']), axis=1).values.tolist())\n",
    "total_overlap = len(meas_ligs['Ki(nM)'].intersection(meas_ligs['IC50(nM)'],meas_ligs['Kd(nM)']))\n",
    "ki_ic50_overlap = len(meas_ligs['Ki(nM)'].intersection(meas_ligs['IC50(nM)']))\n",
    "ki_kd_overlap = len(meas_ligs['Ki(nM)'].intersection(meas_ligs['Kd(nM)']))\n",
    "ic50_kd_overlap = len(meas_ligs['Kd(nM)'].intersection(meas_ligs['IC50(nM)']))\n",
    "\n",
    "venn3(subsets = (meas_list[0], meas_list[1], ki_ic50_overlap, meas_list[2], ki_kd_overlap, ic50_kd_overlap, total_overlap), set_labels = ('Ki(nM)', 'IC50(nM)','Kd(nM)'), alpha = 0.5)\n",
    "plt.annotate(f\"Covers {len(meas_ligs['Ki(nM)'].union(meas_ligs['IC50(nM)'],meas_ligs['Kd(nM)']))} protein-ligand pairs\",xy=(0.5,-0.5))"
   ]
  },
  {
   "cell_type": "markdown",
   "metadata": {},
   "source": [
    "### Number of Congeneric Series with each type of Measurement\n",
    "Again only considering ligands of proteins that have more than 1 ligand associated"
   ]
  },
  {
   "cell_type": "code",
   "execution_count": 55,
   "metadata": {},
   "outputs": [],
   "source": [
    "meas_s_list = []\n",
    "for df,meas in meas_dfs:\n",
    "    meas_s_list.append(df['rec_ligscaff'].nunique())\n",
    "#     print(f'Non-Nan {meas}:{meas_list[-1]}')"
   ]
  },
  {
   "cell_type": "code",
   "execution_count": 56,
   "metadata": {},
   "outputs": [
    {
     "data": {
      "text/plain": [
       "Text(0.5, -0.5, 'Covers 949 congeneric series')"
      ]
     },
     "execution_count": 56,
     "metadata": {},
     "output_type": "execute_result"
    },
    {
     "data": {
      "image/png": "[encoded data removed]",
      "text/plain": [
       "<Figure size 432x288 with 1 Axes>"
      ]
     },
     "metadata": {},
     "output_type": "display_data"
    }
   ],
   "source": [
    "meas_series = dict()\n",
    "for df,meas in meas_dfs:\n",
    "    meas_series[meas]=set(df[df[meas].notna()].apply(lambda row: '{}'.format(row['rec_ligscaff']), axis=1).values.tolist())\n",
    "total_overlap = len(meas_series['Ki(nM)'].intersection(meas_series['IC50(nM)'],meas_series['Kd(nM)']))\n",
    "ki_ic50_overlap = len(meas_series['Ki(nM)'].intersection(meas_series['IC50(nM)']))\n",
    "ki_kd_overlap = len(meas_series['Ki(nM)'].intersection(meas_series['Kd(nM)']))\n",
    "ic50_kd_overlap = len(meas_series['Kd(nM)'].intersection(meas_series['IC50(nM)']))\n",
    "\n",
    "venn3(subsets = (meas_s_list[0], meas_s_list[1], ki_ic50_overlap, meas_s_list[2], ki_kd_overlap, ic50_kd_overlap, total_overlap), set_labels = ('Ki(nM)', 'IC50(nM)','Kd(nM)'), alpha = 0.5)\n",
    "plt.annotate(f\"Covers {len(meas_series['Ki(nM)'].union(meas_series['IC50(nM)'],meas_series['Kd(nM)']))} congeneric series\",xy=(0.5,-0.5))"
   ]
  },
  {
   "cell_type": "code",
   "execution_count": 57,
   "metadata": {},
   "outputs": [
    {
     "data": {
      "text/plain": [
       "1082"
      ]
     },
     "execution_count": 57,
     "metadata": {},
     "output_type": "execute_result"
    }
   ],
   "source": [
    "sum(meas_s_list)"
   ]
  },
  {
   "cell_type": "markdown",
   "metadata": {},
   "source": [
    "# Dealing with values with more than 1 IC50 measurement\n",
    "If we just toss them all out:"
   ]
  },
  {
   "cell_type": "code",
   "execution_count": null,
   "metadata": {},
   "outputs": [],
   "source": [
    "more_than_one_IC50_bool = ic50_rm_lig['IC50(nM)'].apply(lambda x: len(str(x).split(';')) > 1)\n",
    "ic50_rm_lig['IC50(nM)'] = ic50_rm_lig['IC50(nM)'].apply(lambda x: x.strip('><') if type(x) is str else x)\n",
    "ic50_rm_mt1_meas = ic50_rm_lig[~more_than_one_IC50_bool].copy()\n",
    "ic50_rm_mt1_meas['IC50(nM)'] = ic50_rm_mt1_meas['IC50(nM)'].astype(float)\n",
    "ic50_rm_mt1_meas_gp = ic50_rm_mt1_meas.groupby('Receptor')\n",
    "ic50_rm_lig_and_mt1 = ic50_rm_mt1_meas_gp.filter(lambda x: len(x) > 1) ## remove groups with less than 2 ligands\n",
    "print('{} unique PDBIDs with greater than 1 ligand'.format(len(ic50_rm_lig_and_mt1['Receptor'].unique())))\n",
    "print('{} unique receptor-ligand pairs'.format(len(ic50_rm_lig_and_mt1.drop_duplicates(subset=['Receptor','Ligand ID']))))"
   ]
  },
  {
   "cell_type": "code",
   "execution_count": null,
   "metadata": {},
   "outputs": [],
   "source": [
    "print(f'{more_than_one_IC50_bool.sum()} ligands with multiple IC50 values')"
   ]
  },
  {
   "cell_type": "code",
   "execution_count": null,
   "metadata": {},
   "outputs": [],
   "source": [
    "ic50_fin_gp = ic50_rm_lig_and_mt1.groupby('Receptor')\n",
    "lig_counts = ic50_fin_gp.count()['Ligand ID']\n",
    "plt.hist(lig_counts,bins=np.arange(1,max(lig_counts),1),align='left')\n",
    "plt.axvline(x=np.mean(lig_counts),label=f'Average={np.mean(lig_counts):.3f}',color='k',linestyle='--')\n",
    "plt.xlabel('Ligands in Series')\n",
    "plt.xlim([1.5,max(lig_counts)])\n",
    "plt.ylabel('Frequency')\n",
    "plt.legend()"
   ]
  },
  {
   "cell_type": "code",
   "execution_count": null,
   "metadata": {},
   "outputs": [],
   "source": [
    "ic50_range = -np.log10(ic50_fin_gp['IC50(nM)'].max()*(1E-9)) + np.log(ic50_fin_gp['IC50(nM)'].min()*(1E-9))\n",
    "plt.hist(ic50_range,align='left')\n",
    "plt.axvline(x=np.mean(ic50_range),label=f'Average={np.mean(ic50_range):.3f}',color='k',linestyle='--')\n",
    "plt.xlabel('$pIC_{50}$ Range in Each Congeneric Series (nM)')\n",
    "plt.xlim([1.5,max(ic50_range)])\n",
    "plt.ylabel('Frequency')\n",
    "plt.legend()"
   ]
  },
  {
   "cell_type": "code",
   "execution_count": null,
   "metadata": {},
   "outputs": [],
   "source": [
    "import matplotlib.colors as mcolors \n",
    "ic50_mt1_meas = (ic50_rm_lig[more_than_one_IC50_bool].reset_index())\n",
    "ic50_mt1_meas['split IC50(nM)'] = ic50_mt1_meas['IC50(nM)'].apply(lambda x: [float(val.strip('><')) for val in x.split(';')])\n",
    "fig = plt.figure(figsize=[15,8])\n",
    "colors = list(mcolors.BASE_COLORS.keys())\n",
    "sum_range = 0\n",
    "val_ranges = []\n",
    "for idx, row in ic50_mt1_meas.iterrows():\n",
    "    c = colors[idx % len(colors)]\n",
    "    val_range=max(row['split IC50(nM)'])-min(row['split IC50(nM)'])\n",
    "    plt.bar(idx,val_range,color=c)\n",
    "    val_ranges.append(val_range)\n",
    "    sum_range+= val_range\n",
    "plt.hlines(sum_range/idx,0,idx,linestyles='--')\n",
    "plt.annotate(f'{sum_range/idx:.2f}',(idx,sum_range/idx))\n",
    "plt.ylabel('Range of $IC_{50}$ values (nM)')"
   ]
  },
  {
   "cell_type": "code",
   "execution_count": null,
   "metadata": {},
   "outputs": [],
   "source": [
    "plt.hist([vals for vals in val_ranges if vals < 1E3 ],bins=100)"
   ]
  },
  {
   "cell_type": "code",
   "execution_count": null,
   "metadata": {},
   "outputs": [],
   "source": [
    "len(val_ranges)"
   ]
  },
  {
   "cell_type": "code",
   "execution_count": null,
   "metadata": {},
   "outputs": [],
   "source": [
    "for num in range(1,9):\n",
    "    print(f'{len([vals for vals in val_ranges if vals < 1*10**(num)])}')"
   ]
  },
  {
   "cell_type": "code",
   "execution_count": null,
   "metadata": {},
   "outputs": [],
   "source": [
    "sum_lens = 0\n",
    "number_vals = [len(list_vals) for list_vals in ic50_mt1_meas['split IC50(nM)'].values.tolist()]\n",
    "print(f'Avg Number of IC50 vals:{np.mean(number_vals)}\\nMedian number:\\t\\t{np.median(number_vals)}\\nMaximum number:\\t\\t{max(number_vals)}')\n",
    "plt.hist(number_vals)\n",
    "plt.xlabel('Number of $IC_{50}$ measurements for a protein-ligand pair')\n",
    "plt.ylabel('Number of protein-ligand pairs')"
   ]
  },
  {
   "cell_type": "markdown",
   "metadata": {},
   "source": [
    "# Setting up the dataset"
   ]
  },
  {
   "cell_type": "code",
   "execution_count": 37,
   "metadata": {},
   "outputs": [],
   "source": [
    "receptors = set()\n",
    "cong_series=set()\n",
    "comparisons=0\n",
    "ligands_per_series = []\n",
    "range_of_series = []\n",
    "dg_values = []\n",
    "for ms_df,measurement in meas_dfs:\n",
    "    receptors = receptors.union(set(ms_df['Receptor'].unique().tolist()))\n",
    "    ligands_per_series += ms_df.groupby('rec_ligscaff')['Ligand ID'].count().tolist()\n",
    "    dg_values += (-np.log10(ms_df[measurement]*1E-9)).tolist()\n",
    "    range_of_series += (-np.log10(ms_df.groupby('rec_ligscaff')[measurement].min().values*1E-9)+np.log10(ms_df.groupby('rec_ligscaff')[measurement].max().values*1E-9)).tolist()\n",
    "    cong_series = cong_series.union(set([f\"{val}_{measurement}\" for val in ms_df['rec_ligscaff'].unique().tolist()]))\n",
    "    comparisons += ms_df.groupby('rec_ligscaff')['Structure File'].count().apply(lambda x: math.factorial(x)/math.factorial(x-2) if x>=2 else 0).sum()"
   ]
  },
  {
   "cell_type": "code",
   "execution_count": 38,
   "metadata": {},
   "outputs": [
    {
     "data": {
      "image/png": "[encoded data removed]",
      "text/plain": [
       "<Figure size 576x432 with 1 Axes>"
      ]
     },
     "metadata": {
      "needs_background": "light"
     },
     "output_type": "display_data"
    }
   ],
   "source": [
    "plt.figure(figsize=[8,6])\n",
    "plt.hist(ligands_per_series,bins=np.arange(min(ligands_per_series), max(ligands_per_series) + 1, 1),align='left')\n",
    "plt.xticks(np.arange(min(ligands_per_series), max(ligands_per_series) + 1, 1))\n",
    "plt.xlabel('Number of ligands per congeneric series',size=15)\n",
    "plt.ylabel('Count',size=15)\n",
    "plt.axvline(x=np.mean(ligands_per_series),label=f'Average={np.mean(ligands_per_series):.3f}',color='k',linestyle='--')\n",
    "plt.legend()\n",
    "# plt.savefig('congeneric_series_counts.png',dpi=300,transparent=True)\n",
    "plt.savefig('../figs/congeneric_series_counts.pdf')"
   ]
  },
  {
   "cell_type": "code",
   "execution_count": 39,
   "metadata": {},
   "outputs": [
    {
     "data": {
      "image/png": "[encoded data removed]",
      "text/plain": [
       "<Figure size 576x432 with 1 Axes>"
      ]
     },
     "metadata": {
      "needs_background": "light"
     },
     "output_type": "display_data"
    }
   ],
   "source": [
    "plt.figure(figsize=[8,6])\n",
    "plt.hist(range_of_series,bins=np.arange(min(range_of_series), max(range_of_series) + 0.5, 0.5),align='left')\n",
    "plt.xticks(np.arange(min(range_of_series), max(range_of_series) + 0.5, 0.5))\n",
    "plt.xlabel('Range of pK per congeneric series',size=15)\n",
    "plt.ylabel('Count',size=15)\n",
    "plt.axvline(x=np.mean(range_of_series),label=f'Average={np.mean(range_of_series):.3f}',color='k',linestyle='--')\n",
    "plt.legend()\n",
    "# plt.savefig('congeneric_series_range.png',dpi=300,transparent=True)\n",
    "plt.savefig('../figs/congeneric_series_range.pdf')"
   ]
  },
  {
   "cell_type": "code",
   "execution_count": 40,
   "metadata": {},
   "outputs": [
    {
     "name": "stdout",
     "output_type": "stream",
     "text": [
      "6.49689242681033 2.787899842367767\n"
     ]
    }
   ],
   "source": [
    "print(np.mean(dg_values),np.var(dg_values))"
   ]
  },
  {
   "cell_type": "code",
   "execution_count": 41,
   "metadata": {},
   "outputs": [
    {
     "name": "stdout",
     "output_type": "stream",
     "text": [
      "[]\n"
     ]
    }
   ],
   "source": [
    "# Making sure there are no values that are less than 0\n",
    "print(np.array(dg_values)[np.where(np.array(dg_values)<0)])"
   ]
  },
  {
   "cell_type": "code",
   "execution_count": 42,
   "metadata": {},
   "outputs": [
    {
     "name": "stdout",
     "output_type": "stream",
     "text": [
      "943 1082 85102.0\n"
     ]
    }
   ],
   "source": [
    "print(len(receptors),len(cong_series),comparisons)"
   ]
  },
  {
   "cell_type": "code",
   "execution_count": 43,
   "metadata": {
    "scrolled": true
   },
   "outputs": [],
   "source": [
    "# This was run to ensure the correct files were in the correct places, should not need to be ran again\n",
    "## copy over the receptor file and ligand file\n",
    "# bad_files = []\n",
    "# for ms_df,measurement in meas_dfs:\n",
    "#     ms_df['Reference'] = 0\n",
    "#     ms_df['local file'] = ''\n",
    "#     for recdir, group in ms_df.groupby('rec_ligscaff'):\n",
    "#         max_tan = 0\n",
    "#         sf = None\n",
    "#         if not os.path.isdir(f\"ddg_dataset/{recdir}\"):\n",
    "#             os.mkdir(f\"ddg_dataset/{recdir}\")\n",
    "#         shutil.copyfile(f\"BDB_docked/{recdir}/{recdir.split('_')[0]}.mol2\",f\"ddg_dataset/{recdir}/{recdir.split('_')[0]}.mol2\")\n",
    "#         refmol = Chem.MolFromMolFile(f\"BDB_docked/{recdir}/{recdir.split('_')[1]}.sdf\",sanitize=False)\n",
    "#         if refmol is None:\n",
    "#             print(recdir)\n",
    "#             (obabel[f\"BDB_docked/{recdir}/{recdir.split('_')[1]}.sdf\",\"-O\",f\"BDB_docked/{recdir}/{recdir.split('_')[1]}_ob.sdf\"])()\n",
    "#             refmol = Chem.MolFromMol2File(f\"BDB_docked/{recdir}/{recdir.split('_')[1]}_ob.sdf\",sanitize=False)\n",
    "#         ref_fp = Chem.RDKFingerprint(refmol)\n",
    "#         for idx, row in group.iterrows():\n",
    "#             filename = row['Structure File'].split('/')[-1]\n",
    "#             if os.path.isfile(f\"BDB_docked/{recdir}/{filename}\"):\n",
    "#                 shutil.copyfile(f\"BDB_docked/{recdir}/{filename}\",f\"ddg_dataset/{recdir}/{filename}\")\n",
    "#             else:\n",
    "#                 print(f\"BDB_docked/{recdir}/{filename}\")\n",
    "#                 bad_files.append(row['Structure File'])\n",
    "#             compmol = Chem.MolFromMol2File(f\"ddg_dataset/{recdir}/{filename}\",sanitize=False)\n",
    "#             comp_fp = Chem.RDKFingerprint(compmol)\n",
    "#             Tan = DataStructs.TanimotoSimilarity(ref_fp,comp_fp)\n",
    "#             if Tan > max_tan: ## assigning the reference to the molecule with the highest Tanimoto Sim to the molecule used in the fragment docking\n",
    "#                 max_tan = Tan\n",
    "#                 sf = row['Structure File']\n",
    "# #         print(max_tan,ref_idx)\n",
    "#         ms_df.loc[ms_df['Structure File'] == sf,'Reference'] = 1"
   ]
  },
  {
   "cell_type": "code",
   "execution_count": 44,
   "metadata": {
    "scrolled": true
   },
   "outputs": [
    {
     "name": "stderr",
     "output_type": "stream",
     "text": [
      "RDKit WARNING: [15:47:15] BindingDB_26991: Warning - no explicit hydrogens in mol2 file but needed for formal charge estimation.\n",
      "RDKit WARNING: [15:47:15] BindingDB_50278322: Warning - no explicit hydrogens in mol2 file but needed for formal charge estimation.\n",
      "RDKit WARNING: [15:47:15] BindingDB_26991: Warning - no explicit hydrogens in mol2 file but needed for formal charge estimation.\n",
      "RDKit WARNING: [15:47:15] BindingDB_50278322: Warning - no explicit hydrogens in mol2 file but needed for formal charge estimation.\n",
      "RDKit WARNING: [15:47:15] BindingDB_26991: Warning - no explicit hydrogens in mol2 file but needed for formal charge estimation.\n",
      "RDKit WARNING: [15:47:15] BindingDB_50278322: Warning - no explicit hydrogens in mol2 file but needed for formal charge estimation.\n",
      "RDKit WARNING: [15:47:15] BindingDB_26992: Warning - no explicit hydrogens in mol2 file but needed for formal charge estimation.\n",
      "RDKit WARNING: [15:47:15] BindingDB_26991: Warning - no explicit hydrogens in mol2 file but needed for formal charge estimation.\n",
      "RDKit WARNING: [15:47:15] BindingDB_50278322: Warning - no explicit hydrogens in mol2 file but needed for formal charge estimation.\n",
      "RDKit WARNING: [15:47:15] BindingDB_26992: Warning - no explicit hydrogens in mol2 file but needed for formal charge estimation.\n",
      "RDKit WARNING: [15:47:15] BindingDB_26991: Warning - no explicit hydrogens in mol2 file but needed for formal charge estimation.\n",
      "RDKit WARNING: [15:47:15] BindingDB_50278322: Warning - no explicit hydrogens in mol2 file but needed for formal charge estimation.\n",
      "RDKit WARNING: [15:47:15] BindingDB_26991: Warning - no explicit hydrogens in mol2 file but needed for formal charge estimation.\n",
      "RDKit WARNING: [15:47:15] BindingDB_50278322: Warning - no explicit hydrogens in mol2 file but needed for formal charge estimation.\n",
      "RDKit WARNING: [15:47:15] BindingDB_26992: Warning - no explicit hydrogens in mol2 file but needed for formal charge estimation.\n",
      "RDKit WARNING: [15:47:18] BindingDB_26991: Warning - no explicit hydrogens in mol2 file but needed for formal charge estimation.\n",
      "RDKit WARNING: [15:47:18] BindingDB_50278322: Warning - no explicit hydrogens in mol2 file but needed for formal charge estimation.\n",
      "RDKit WARNING: [15:47:18] BindingDB_26992: Warning - no explicit hydrogens in mol2 file but needed for formal charge estimation.\n",
      "RDKit WARNING: [15:47:23] BindingDB_26991: Warning - no explicit hydrogens in mol2 file but needed for formal charge estimation.\n",
      "RDKit WARNING: [15:47:23] BindingDB_26992: Warning - no explicit hydrogens in mol2 file but needed for formal charge estimation.\n"
     ]
    }
   ],
   "source": [
    "## Don't need to run this if you have already run the last cell\n",
    "bad_files = []\n",
    "for ms_df,measurement in meas_dfs:\n",
    "    ms_df['Reference'] = 0\n",
    "    ms_df['local file'] = ''\n",
    "    for recdir, group in ms_df.groupby('rec_ligscaff'):\n",
    "        max_tan = 0\n",
    "        sf = None\n",
    "        refmol = Chem.MolFromMolFile(f\"BDB_docked/{recdir}/{recdir.split('_')[1]}.sdf\",sanitize=False)\n",
    "        if refmol is None:\n",
    "            print(recdir)\n",
    "            (obabel[f\"BDB_docked/{recdir}/{recdir.split('_')[1]}.sdf\",\"-O\",f\"BDB_docked/{recdir}/{recdir.split('_')[1]}_ob.sdf\"])()\n",
    "            refmol = Chem.MolFromMol2File(f\"BDB_docked/{recdir}/{recdir.split('_')[1]}_ob.sdf\",sanitize=False)\n",
    "        ref_fp = Chem.RDKFingerprint(refmol)\n",
    "        for idx, row in group.iterrows():\n",
    "            filename = row['Structure File'].split('/')[-1]\n",
    "            compmol = Chem.MolFromMol2File(f\"ddg_dataset/{recdir}/{filename}\",sanitize=False)\n",
    "            comp_fp = Chem.RDKFingerprint(compmol)\n",
    "            Tan = DataStructs.TanimotoSimilarity(ref_fp,comp_fp)\n",
    "            if Tan > max_tan: ## assigning the reference to the molecule with the highest Tanimoto Sim to the molecule used in the fragment docking\n",
    "                max_tan = Tan\n",
    "                sf = row['Structure File']\n",
    "#         print(max_tan,ref_idx)\n",
    "        ms_df.loc[ms_df['Structure File'] == sf,'Reference'] = 1"
   ]
  },
  {
   "cell_type": "markdown",
   "metadata": {},
   "source": [
    "No bad files!"
   ]
  },
  {
   "cell_type": "code",
   "execution_count": 45,
   "metadata": {},
   "outputs": [
    {
     "data": {
      "text/html": [
       "<div>\n",
       "<style scoped>\n",
       "    .dataframe tbody tr th:only-of-type {\n",
       "        vertical-align: middle;\n",
       "    }\n",
       "\n",
       "    .dataframe tbody tr th {\n",
       "        vertical-align: top;\n",
       "    }\n",
       "\n",
       "    .dataframe thead th {\n",
       "        text-align: right;\n",
       "    }\n",
       "</style>\n",
       "<table border=\"1\" class=\"dataframe\">\n",
       "  <thead>\n",
       "    <tr style=\"text-align: right;\">\n",
       "      <th></th>\n",
       "      <th>level_0</th>\n",
       "      <th>Compound</th>\n",
       "      <th>Structure File</th>\n",
       "      <th>Surflex Score</th>\n",
       "      <th>Ki(nM)</th>\n",
       "      <th>IC50(nM)</th>\n",
       "      <th>Kd(nM)</th>\n",
       "      <th>Receptor</th>\n",
       "      <th>Ligand ID</th>\n",
       "      <th>rec_ligscaff</th>\n",
       "      <th>index</th>\n",
       "      <th>all Kds</th>\n",
       "      <th>Kd mag range</th>\n",
       "      <th>Reference</th>\n",
       "      <th>local file</th>\n",
       "    </tr>\n",
       "  </thead>\n",
       "  <tbody>\n",
       "    <tr>\n",
       "      <th>0</th>\n",
       "      <td>0</td>\n",
       "      <td>http://www.bindingdb.org/bind/chemsearch/marvi...</td>\n",
       "      <td>http://www.bindingdb.org/data/surflex/4ABV_FT2...</td>\n",
       "      <td>0.8705</td>\n",
       "      <td>NaN</td>\n",
       "      <td>NaN</td>\n",
       "      <td>144000.0</td>\n",
       "      <td>4ABV</td>\n",
       "      <td>8726</td>\n",
       "      <td>4ABV_FT2</td>\n",
       "      <td>NaN</td>\n",
       "      <td>NaN</td>\n",
       "      <td>NaN</td>\n",
       "      <td>1</td>\n",
       "      <td></td>\n",
       "    </tr>\n",
       "    <tr>\n",
       "      <th>1</th>\n",
       "      <td>1</td>\n",
       "      <td>http://www.bindingdb.org/bind/chemsearch/marvi...</td>\n",
       "      <td>http://www.bindingdb.org/data/surflex/4ABV_FT2...</td>\n",
       "      <td>2.4598</td>\n",
       "      <td>NaN</td>\n",
       "      <td>1360</td>\n",
       "      <td>0.3</td>\n",
       "      <td>4ABV</td>\n",
       "      <td>50225216</td>\n",
       "      <td>4ABV_FT2</td>\n",
       "      <td>NaN</td>\n",
       "      <td>NaN</td>\n",
       "      <td>NaN</td>\n",
       "      <td>0</td>\n",
       "      <td></td>\n",
       "    </tr>\n",
       "    <tr>\n",
       "      <th>2</th>\n",
       "      <td>3</td>\n",
       "      <td>http://www.bindingdb.org/bind/chemsearch/marvi...</td>\n",
       "      <td>http://www.bindingdb.org/data/surflex/4ABV_FT2...</td>\n",
       "      <td>2.3189</td>\n",
       "      <td>NaN</td>\n",
       "      <td>1310</td>\n",
       "      <td>88.0</td>\n",
       "      <td>4ABV</td>\n",
       "      <td>50225219</td>\n",
       "      <td>4ABV_FT2</td>\n",
       "      <td>NaN</td>\n",
       "      <td>NaN</td>\n",
       "      <td>NaN</td>\n",
       "      <td>0</td>\n",
       "      <td></td>\n",
       "    </tr>\n",
       "    <tr>\n",
       "      <th>3</th>\n",
       "      <td>4</td>\n",
       "      <td>http://www.bindingdb.org/bind/chemsearch/marvi...</td>\n",
       "      <td>http://www.bindingdb.org/data/surflex/4ABV_FT2...</td>\n",
       "      <td>1.5354</td>\n",
       "      <td>NaN</td>\n",
       "      <td>520</td>\n",
       "      <td>14.0</td>\n",
       "      <td>4ABV</td>\n",
       "      <td>50225224</td>\n",
       "      <td>4ABV_FT2</td>\n",
       "      <td>NaN</td>\n",
       "      <td>NaN</td>\n",
       "      <td>NaN</td>\n",
       "      <td>0</td>\n",
       "      <td></td>\n",
       "    </tr>\n",
       "    <tr>\n",
       "      <th>4</th>\n",
       "      <td>6</td>\n",
       "      <td>http://www.bindingdb.org/bind/chemsearch/marvi...</td>\n",
       "      <td>http://www.bindingdb.org/data/surflex/4ABV_FT2...</td>\n",
       "      <td>0.4257</td>\n",
       "      <td>NaN</td>\n",
       "      <td>NaN</td>\n",
       "      <td>0.2</td>\n",
       "      <td>4ABV</td>\n",
       "      <td>50225226</td>\n",
       "      <td>4ABV_FT2</td>\n",
       "      <td>NaN</td>\n",
       "      <td>NaN</td>\n",
       "      <td>NaN</td>\n",
       "      <td>0</td>\n",
       "      <td></td>\n",
       "    </tr>\n",
       "    <tr>\n",
       "      <th>...</th>\n",
       "      <td>...</td>\n",
       "      <td>...</td>\n",
       "      <td>...</td>\n",
       "      <td>...</td>\n",
       "      <td>...</td>\n",
       "      <td>...</td>\n",
       "      <td>...</td>\n",
       "      <td>...</td>\n",
       "      <td>...</td>\n",
       "      <td>...</td>\n",
       "      <td>...</td>\n",
       "      <td>...</td>\n",
       "      <td>...</td>\n",
       "      <td>...</td>\n",
       "      <td>...</td>\n",
       "    </tr>\n",
       "    <tr>\n",
       "      <th>619</th>\n",
       "      <td>198</td>\n",
       "      <td>http://www.bindingdb.org/bind/chemsearch/marvi...</td>\n",
       "      <td>http://www.bindingdb.org/data/surflex/3MHL_J71...</td>\n",
       "      <td>5.6475</td>\n",
       "      <td>NaN</td>\n",
       "      <td>NaN</td>\n",
       "      <td>33.5</td>\n",
       "      <td>3MHL</td>\n",
       "      <td>50329764</td>\n",
       "      <td>3MHL_J71</td>\n",
       "      <td>8816.0</td>\n",
       "      <td>24;43</td>\n",
       "      <td>0.253257</td>\n",
       "      <td>0</td>\n",
       "      <td></td>\n",
       "    </tr>\n",
       "    <tr>\n",
       "      <th>620</th>\n",
       "      <td>199</td>\n",
       "      <td>http://www.bindingdb.org/bind/chemsearch/marvi...</td>\n",
       "      <td>http://www.bindingdb.org/data/surflex/3MHL_J71...</td>\n",
       "      <td>6.6708</td>\n",
       "      <td>NaN</td>\n",
       "      <td>NaN</td>\n",
       "      <td>53.0</td>\n",
       "      <td>3MHL</td>\n",
       "      <td>50329770</td>\n",
       "      <td>3MHL_J71</td>\n",
       "      <td>8820.0</td>\n",
       "      <td>50;56</td>\n",
       "      <td>0.049218</td>\n",
       "      <td>1</td>\n",
       "      <td></td>\n",
       "    </tr>\n",
       "    <tr>\n",
       "      <th>621</th>\n",
       "      <td>200</td>\n",
       "      <td>http://www.bindingdb.org/bind/chemsearch/marvi...</td>\n",
       "      <td>http://www.bindingdb.org/data/surflex/3MHL_J71...</td>\n",
       "      <td>5.1871</td>\n",
       "      <td>NaN</td>\n",
       "      <td>NaN</td>\n",
       "      <td>110.0</td>\n",
       "      <td>3MHL</td>\n",
       "      <td>50329771</td>\n",
       "      <td>3MHL_J71</td>\n",
       "      <td>8821.0</td>\n",
       "      <td>70;150</td>\n",
       "      <td>0.330993</td>\n",
       "      <td>0</td>\n",
       "      <td></td>\n",
       "    </tr>\n",
       "    <tr>\n",
       "      <th>624</th>\n",
       "      <td>204</td>\n",
       "      <td>http://www.bindingdb.org/bind/chemsearch/marvi...</td>\n",
       "      <td>http://www.bindingdb.org/data/surflex/2NNO_M28...</td>\n",
       "      <td>4.0219</td>\n",
       "      <td>125;125000;110;2;50;500034535;9090756;10997652...</td>\n",
       "      <td>NaN</td>\n",
       "      <td>410300.0</td>\n",
       "      <td>2NNO</td>\n",
       "      <td>10877</td>\n",
       "      <td>2NNO_M28</td>\n",
       "      <td>9301.0</td>\n",
       "      <td>392000;428600</td>\n",
       "      <td>0.038766</td>\n",
       "      <td>0</td>\n",
       "      <td></td>\n",
       "    </tr>\n",
       "    <tr>\n",
       "      <th>625</th>\n",
       "      <td>205</td>\n",
       "      <td>http://www.bindingdb.org/bind/chemsearch/marvi...</td>\n",
       "      <td>http://www.bindingdb.org/data/surflex/2NNO_M28...</td>\n",
       "      <td>4.6320</td>\n",
       "      <td>0.05;109</td>\n",
       "      <td>NaN</td>\n",
       "      <td>111850.0</td>\n",
       "      <td>2NNO</td>\n",
       "      <td>50415863</td>\n",
       "      <td>2NNO_M28</td>\n",
       "      <td>9306.0</td>\n",
       "      <td>98300;125400</td>\n",
       "      <td>0.105744</td>\n",
       "      <td>1</td>\n",
       "      <td></td>\n",
       "    </tr>\n",
       "  </tbody>\n",
       "</table>\n",
       "<p>510 rows × 15 columns</p>\n",
       "</div>"
      ],
      "text/plain": [
       "     level_0                                           Compound  \\\n",
       "0          0  http://www.bindingdb.org/bind/chemsearch/marvi...   \n",
       "1          1  http://www.bindingdb.org/bind/chemsearch/marvi...   \n",
       "2          3  http://www.bindingdb.org/bind/chemsearch/marvi...   \n",
       "3          4  http://www.bindingdb.org/bind/chemsearch/marvi...   \n",
       "4          6  http://www.bindingdb.org/bind/chemsearch/marvi...   \n",
       "..       ...                                                ...   \n",
       "619      198  http://www.bindingdb.org/bind/chemsearch/marvi...   \n",
       "620      199  http://www.bindingdb.org/bind/chemsearch/marvi...   \n",
       "621      200  http://www.bindingdb.org/bind/chemsearch/marvi...   \n",
       "624      204  http://www.bindingdb.org/bind/chemsearch/marvi...   \n",
       "625      205  http://www.bindingdb.org/bind/chemsearch/marvi...   \n",
       "\n",
       "                                        Structure File  Surflex Score  \\\n",
       "0    http://www.bindingdb.org/data/surflex/4ABV_FT2...         0.8705   \n",
       "1    http://www.bindingdb.org/data/surflex/4ABV_FT2...         2.4598   \n",
       "2    http://www.bindingdb.org/data/surflex/4ABV_FT2...         2.3189   \n",
       "3    http://www.bindingdb.org/data/surflex/4ABV_FT2...         1.5354   \n",
       "4    http://www.bindingdb.org/data/surflex/4ABV_FT2...         0.4257   \n",
       "..                                                 ...            ...   \n",
       "619  http://www.bindingdb.org/data/surflex/3MHL_J71...         5.6475   \n",
       "620  http://www.bindingdb.org/data/surflex/3MHL_J71...         6.6708   \n",
       "621  http://www.bindingdb.org/data/surflex/3MHL_J71...         5.1871   \n",
       "624  http://www.bindingdb.org/data/surflex/2NNO_M28...         4.0219   \n",
       "625  http://www.bindingdb.org/data/surflex/2NNO_M28...         4.6320   \n",
       "\n",
       "                                                Ki(nM) IC50(nM)    Kd(nM)  \\\n",
       "0                                                  NaN      NaN  144000.0   \n",
       "1                                                  NaN     1360       0.3   \n",
       "2                                                  NaN     1310      88.0   \n",
       "3                                                  NaN      520      14.0   \n",
       "4                                                  NaN      NaN       0.2   \n",
       "..                                                 ...      ...       ...   \n",
       "619                                                NaN      NaN      33.5   \n",
       "620                                                NaN      NaN      53.0   \n",
       "621                                                NaN      NaN     110.0   \n",
       "624  125;125000;110;2;50;500034535;9090756;10997652...      NaN  410300.0   \n",
       "625                                           0.05;109      NaN  111850.0   \n",
       "\n",
       "    Receptor Ligand ID rec_ligscaff   index        all Kds  Kd mag range  \\\n",
       "0       4ABV      8726     4ABV_FT2     NaN            NaN           NaN   \n",
       "1       4ABV  50225216     4ABV_FT2     NaN            NaN           NaN   \n",
       "2       4ABV  50225219     4ABV_FT2     NaN            NaN           NaN   \n",
       "3       4ABV  50225224     4ABV_FT2     NaN            NaN           NaN   \n",
       "4       4ABV  50225226     4ABV_FT2     NaN            NaN           NaN   \n",
       "..       ...       ...          ...     ...            ...           ...   \n",
       "619     3MHL  50329764     3MHL_J71  8816.0          24;43      0.253257   \n",
       "620     3MHL  50329770     3MHL_J71  8820.0          50;56      0.049218   \n",
       "621     3MHL  50329771     3MHL_J71  8821.0         70;150      0.330993   \n",
       "624     2NNO     10877     2NNO_M28  9301.0  392000;428600      0.038766   \n",
       "625     2NNO  50415863     2NNO_M28  9306.0   98300;125400      0.105744   \n",
       "\n",
       "     Reference local file  \n",
       "0            1             \n",
       "1            0             \n",
       "2            0             \n",
       "3            0             \n",
       "4            0             \n",
       "..         ...        ...  \n",
       "619          0             \n",
       "620          1             \n",
       "621          0             \n",
       "624          0             \n",
       "625          1             \n",
       "\n",
       "[510 rows x 15 columns]"
      ]
     },
     "execution_count": 45,
     "metadata": {},
     "output_type": "execute_result"
    }
   ],
   "source": [
    "ms_df"
   ]
  },
  {
   "cell_type": "code",
   "execution_count": 57,
   "metadata": {},
   "outputs": [],
   "source": [
    "# Output txt files\n",
    "for ms_df,meas in meas_dfs:\n",
    "    ms_df.to_csv(f'fullbdb_{meas}.txt',sep=',',columns=['Structure File',f'{meas}','Receptor','Ligand ID','rec_ligscaff','Reference'])"
   ]
  },
  {
   "cell_type": "code",
   "execution_count": 2,
   "metadata": {},
   "outputs": [],
   "source": [
    "# Read in txt files\n",
    "meas_dfs = []\n",
    "for file in glob('fullbdb_*.txt'):\n",
    "    meas_dfs.append((pd.read_csv(file),file.split('.')[0].split('_')[-1]))"
   ]
  },
  {
   "cell_type": "code",
   "execution_count": 46,
   "metadata": {},
   "outputs": [],
   "source": [
    "# prepare the dataframes for making train/test types files\n",
    "for ms_df,measurement in meas_dfs:\n",
    "    ms_df.reset_index(drop=True,inplace=True)\n",
    "    ms_df['fname'] = ms_df['Structure File'].apply(lambda x: x.split('/')[-1])\n",
    "    ms_df['pK'] = ms_df[measurement].apply(lambda x: -np.log10(x*(1E-9)) )\n",
    "    ms_df['ligloc'] = ms_df.apply(lambda x: f\"{x['rec_ligscaff']}/{x['fname'].split('.')[0]}_0.gninatypes\",axis=1)"
   ]
  },
  {
   "cell_type": "code",
   "execution_count": 61,
   "metadata": {},
   "outputs": [],
   "source": [
    "# randos=[0,1,2,3,4]\n",
    "trainfile_bname = 'all_train_triplet'\n",
    "testfile_bname = 'all_test_triplet'\n",
    "\n",
    "def check_bad(num):\n",
    "    if num == np.inf or num == -np.inf or math.isnan(num):\n",
    "       return True \n",
    "    else:\n",
    "       return False\n",
    "\n",
    "for i,random in enumerate(range(5)):\n",
    "    for addnl in range(2,3):\n",
    "        traininfo,testinfo = [],[]\n",
    "        for ms_df,measurement in meas_dfs:\n",
    "            for rec, group in ms_df.groupby('rec_ligscaff'):\n",
    "                traingroupinfo, testgroupinfo = [], []\n",
    "                if not group['Reference'].sum(): ## have to make sure there is one reference structure per group (arbitrarily assigning the reference to the first row if it isn't already assigned)\n",
    "                    print(rec)\n",
    "                    continue\n",
    "                if len(group)-1 < addnl:\n",
    "                    train_group = pd.concat([group[(group['Reference'] == 1)],group[(group['Reference'] == 0)].sample(n=len(group)-1,random_state=random)])\n",
    "                else:\n",
    "                    train_group = pd.concat([group[(group['Reference'] == 1)],group[group['Reference'] == 0].sample(n=addnl,random_state=random)])\n",
    "\n",
    "                ## Training set first\n",
    "                for row1, row2, row3 in list(permutations(train_group.index,3)):\n",
    "                    if check_bad(float(group.loc[row1,'pK'])) or check_bad(float(group.loc[row2,'pK'])) or check_bad(float(group.loc[row3,'pK'])):\n",
    "                        continue\n",
    "                    receptor = f\"{group.loc[row1,'rec_ligscaff']}/{group.loc[row1,'Receptor']}_0.gninatypes\"\n",
    "                    traingroupinfo.append([float(group.loc[row1,'pK']),\n",
    "                        float(group.loc[row2,'pK']),float(group.loc[row3,'pK']),\n",
    "                        receptor,group.loc[row1,'ligloc'],group.loc[row2,'ligloc'],\n",
    "                        group.loc[row3,'ligloc']])\n",
    "\n",
    "                # Test set. Using idea that can only compare to values that are in the training set (i.e. 'Known' values)\n",
    "                for row1,row2 in list(permutations(group.index,2)):\n",
    "                    if not (bool(row1 in train_group.index) ^ bool(row2 in train_group.index)): ##supposed to be xor\n",
    "                        continue\n",
    "                    if check_bad(float(group.loc[row1,'pK'])) or check_bad(float(group.loc[row2,'pK'])):\n",
    "                        continue\n",
    "                    receptor = f\"{group.loc[row1,'rec_ligscaff']}/{group.loc[row1,'Receptor']}_0.gninatypes\"\n",
    "                    testgroupinfo.append([float(group.loc[row1,'pK']),\n",
    "                        float(group.loc[row2,'pK']),receptor,\n",
    "                        group.loc[row1,'ligloc'],group.loc[row2,'ligloc']])\n",
    "                # group_df = pd.DataFrame(data=traingroupinfo,columns=['dg_lig1','dg_lig2','dg_lig3','rec','lig1','lig2','lig3'])\n",
    "                # trainfile = trainfile.append(group_df,ignore_index=True)\n",
    "                # tgroup_df = pd.DataFrame(data=testgroupinfo,columns=['dg_lig1','dg_lig2','rec','lig1','lig2'])\n",
    "                # testfile = testfile.append(tgroup_df,ignore_index=True)\n",
    "                traininfo += traingroupinfo\n",
    "                testinfo += testgroupinfo\n",
    "        trainfile = pd.DataFrame(traininfo,columns=['dg_lig1','dg_lig2','dg_lig3','rec','lig1','lig2','lig3'])\n",
    "        testfile = pd.DataFrame(testinfo,columns=['dg_lig1','dg_lig2','rec','lig1','lig2'])\n",
    "        trainfile.to_csv(f'{trainfile_bname}_rand{random}_p_{addnl}.types',header=False,index=False,sep=' ',float_format='%.4f')\n",
    "        testfile.to_csv(f'{testfile_bname}_rand{random}_p_{addnl}.types',header=False,index=False,sep=' ',float_format='%.4f')"
   ]
  },
  {
   "cell_type": "markdown",
   "metadata": {},
   "source": [
    "# Making Triplet Training"
   ]
  },
  {
   "cell_type": "code",
   "execution_count": 100,
   "metadata": {},
   "outputs": [],
   "source": [
    "# randos=[0,1,2,3,4]\n",
    "min_train_overlap = 1\n",
    "trainfile_bname = 'all_train_triplet'\n",
    "testfile_bname = 'all_test_triplet'\n",
    "\n",
    "def check_bad(num):\n",
    "    if num == np.inf or num == -np.inf or math.isnan(num):\n",
    "       return True \n",
    "    else:\n",
    "       return False\n",
    "\n",
    "for i,random in enumerate(range(5)):\n",
    "    for addnl in range(2,3):\n",
    "        traininfo,testinfo = [],[]\n",
    "        for ms_df,measurement in meas_dfs:\n",
    "            for rec, group in ms_df.groupby('rec_ligscaff'):\n",
    "                traingroupinfo, testgroupinfo = [], []\n",
    "                if not group['Reference'].sum(): ## have to make sure there is one reference structure per group (arbitrarily assigning the reference to the first row if it isn't already assigned)\n",
    "                    print(rec)\n",
    "                    continue\n",
    "                if len(group)-1 < addnl:\n",
    "                    train_group = pd.concat([group[(group['Reference'] == 1)],group[(group['Reference'] == 0)].sample(n=len(group)-1,random_state=random)])\n",
    "                else:\n",
    "                    train_group = pd.concat([group[(group['Reference'] == 1)],group[group['Reference'] == 0].sample(n=addnl,random_state=random)])\n",
    "\n",
    "                ## Training set first\n",
    "                train_indices = train_group.index.tolist()\n",
    "                for row1, row2, row3 in list(permutations(group.index,3)):\n",
    "                    if len(set([ row1,row2,row3 ]).intersection(set(train_indices))) < min_train_overlap: ## only generate training rows with at least train_overlap in train group\n",
    "                        continue\n",
    "                    if any([check_bad(float(group.loc[row,'pK'])) for row in [row1,row2,row3] if row in train_group.index.tolist()]):\n",
    "                        continue\n",
    "                    receptor = f\"{group.loc[row1,'rec_ligscaff']}/{group.loc[row1,'Receptor']}_0.gninatypes\"\n",
    "                    indctrs = list(map(int,[row1 in train_indices,row2 in train_indices,row3 in train_indices]))\n",
    "                    traingroupinfo.append([*indctrs,\n",
    "                        float(group.loc[row1,'pK']) if indctrs[0] else 0,\n",
    "                        float(group.loc[row2,'pK']) if indctrs[1] else 0,\n",
    "                        float(group.loc[row3,'pK']) if indctrs[2] else 0,\n",
    "                        receptor,group.loc[row1,'ligloc'],group.loc[row2,'ligloc'],\n",
    "                        group.loc[row3,'ligloc']])\n",
    "\n",
    "                # Test set. Using idea that can only compare to values that are in the training set (i.e. 'Known' values)\n",
    "                for row1,row2 in list(permutations(group.index,2)):\n",
    "                    if not (bool(row1 in train_group.index) ^ bool(row2 in train_group.index)): ##supposed to be xor\n",
    "                        continue\n",
    "                    if check_bad(float(group.loc[row1,'pK'])) or check_bad(float(group.loc[row2,'pK'])):\n",
    "                        continue\n",
    "                    receptor = f\"{group.loc[row1,'rec_ligscaff']}/{group.loc[row1,'Receptor']}_0.gninatypes\"\n",
    "                    testgroupinfo.append([float(group.loc[row1,'pK']),\n",
    "                        float(group.loc[row2,'pK']),receptor,\n",
    "                        group.loc[row1,'ligloc'],group.loc[row2,'ligloc']])\n",
    "                traininfo += traingroupinfo\n",
    "                testinfo += testgroupinfo\n",
    "        trainfile = pd.DataFrame(traininfo,columns=['ind1','ind2','ind3','dg_lig1','dg_lig2','dg_lig3','rec','lig1','lig2','lig3'])\n",
    "        testfile = pd.DataFrame(testinfo,columns=['dg_lig1','dg_lig2','rec','lig1','lig2'])\n",
    "        trainfile.to_csv(f'{trainfile_bname}_rand{random}_p_addnl{addnl}_{min_train_overlap}.types',header=False,index=False,sep=' ',float_format='%.4f')\n",
    "        testfile.to_csv(f'{testfile_bname}_rand{random}_p_addnl{addnl}_{min_train_overlap}.types',header=False,index=False,sep=' ',float_format='%.4f')"
   ]
  },
  {
   "cell_type": "code",
   "execution_count": 68,
   "metadata": {},
   "outputs": [],
   "source": [
    "## Make a master file containing all pairs\n",
    "masterfile = pd.DataFrame(columns=['class','reg','dg_lig1','dg_lig2','rec','lig1','lig2'])\n",
    "for ms_df,measurement in meas_dfs:\n",
    "    ms_df.reset_index(drop=True,inplace=True)\n",
    "    ms_df['fname'] = ms_df['Structure File'].apply(lambda x: x.split('/')[-1])\n",
    "    for rec, group in ms_df.groupby('rec_ligscaff'):\n",
    "        groupinfo=[]\n",
    "        for row1,row2 in list(permutations(group.index,2)):\n",
    "            pmeas1 = -np.log10(group.loc[row1,measurement]*(1E-9)) ##all measurements in nM\n",
    "            pmeas2 = -np.log10(group.loc[row2,measurement]*(1E-9))\n",
    "            dif = float(pmeas1) - float(pmeas2)\n",
    "            if dif == np.inf or dif == -np.inf or math.isnan(dif):\n",
    "                continue\n",
    "            try:\n",
    "                cls = int(float(pmeas1) > float(pmeas2))\n",
    "            except:\n",
    "                print(train_group)\n",
    "                break\n",
    "            dg_lig1 = float(pmeas1)\n",
    "            dg_lig2 = float(pmeas2)\n",
    "            receptor = f\"{group.loc[row1,'rec_ligscaff']}/{group.loc[row1,'Receptor']}_0.gninatypes\"\n",
    "            lig1 = f\"{group.loc[row1,'rec_ligscaff']}/{group.loc[row1,'fname'].split('.')[0]}_0.gninatypes\"\n",
    "            lig2 = f\"{group.loc[row2,'rec_ligscaff']}/{group.loc[row2,'fname'].split('.')[0]}_0.gninatypes\"\n",
    "            groupinfo.append([cls,dif,dg_lig1,dg_lig2,receptor,lig1,lig2])\n",
    "        group_df = pd.DataFrame(data=groupinfo,columns=['class','reg','dg_lig1','dg_lig2','rec','lig1','lig2'])\n",
    "        masterfile = masterfile.append(group_df,ignore_index=True)\n",
    "masterfile.to_csv(f'all_newdata.types',header=False,index=False,sep=' ',float_format='%.4f')"
   ]
  },
  {
   "cell_type": "markdown",
   "metadata": {},
   "source": [
    "Making a types file for predicting the $\\Delta G$ of the ligands"
   ]
  },
  {
   "cell_type": "code",
   "execution_count": 69,
   "metadata": {},
   "outputs": [],
   "source": [
    "dg_masterfile = pd.DataFrame(columns=['dg_lig1','rec','lig1'])\n",
    "for ms_df,measurement in meas_dfs:\n",
    "    ms_df.reset_index(drop=True,inplace=True)\n",
    "    ms_df['fname'] = ms_df['Structure File'].apply(lambda x: x.split('/')[-1])\n",
    "    pmeas1 = ms_df[measurement].apply(lambda x: -np.log10(x*(1E-9))) ##all measurements in nM\n",
    "    receptor = ms_df[['rec_ligscaff','Receptor']].apply(lambda x: f\"{x[0]}/{x[1]}_0.gninatypes\",axis=1)\n",
    "    lig1 = ms_df[['rec_ligscaff','fname']].apply(lambda x: f\"{x[0]}/{x[1]}_0.gninatypes\",axis=1)\n",
    "    group_df = pd.concat({'dg_lig1':pmeas1,'rec':receptor,'lig1':lig1},axis=1)\n",
    "    dg_masterfile = dg_masterfile.append(group_df,ignore_index=True)\n",
    "dg_masterfile.to_csv(f'dg_all_newdata.types',header=False,index=False,sep=' ',float_format='%.4f')"
   ]
  },
  {
   "cell_type": "markdown",
   "metadata": {},
   "source": [
    "## PFAM Clustering"
   ]
  },
  {
   "cell_type": "code",
   "execution_count": 58,
   "metadata": {},
   "outputs": [],
   "source": [
    "pdb_pfam = pd.read_csv('/home/anm329/DDG/DDG/pdb_pfam_mapping.txt', sep='\\t',usecols=[0,1,4,5])\n",
    "has_pfam = set(pdb_pfam.PDB_ID.unique().tolist())"
   ]
  },
  {
   "cell_type": "code",
   "execution_count": 59,
   "metadata": {},
   "outputs": [
    {
     "name": "stdout",
     "output_type": "stream",
     "text": [
      "{'2H7L', '2H7P', '2H7N', '2H7M', '2H7I'}\n"
     ]
    }
   ],
   "source": [
    "missing = receptors - has_pfam\n",
    "print(missing)"
   ]
  },
  {
   "cell_type": "markdown",
   "metadata": {},
   "source": [
    "Just a case of obsolete PDBIDs"
   ]
  },
  {
   "cell_type": "code",
   "execution_count": 60,
   "metadata": {},
   "outputs": [
    {
     "name": "stdout",
     "output_type": "stream",
     "text": [
      "2H7L:4TRJ\n",
      "2H7P:4TZT\n",
      "2H7N:4U0K\n",
      "2H7M:4TZK\n",
      "2H7I:4U0J\n"
     ]
    }
   ],
   "source": [
    "pfam_receptors = set(receptors)\n",
    "for ms_df, _ in meas_dfs:\n",
    "    ms_df['pfam_PDBIDs'] = ms_df['Receptor']\n",
    "    relev_pdbids = ms_df['Receptor'].unique().tolist()\n",
    "    for rec in missing:\n",
    "        if not (rec in relev_pdbids):\n",
    "            continue\n",
    "        response = requests.get('https://www.rcsb.org/structure/{}'.format(rec))\n",
    "        soupyness = BeautifulSoup(response.content, 'html.parser')\n",
    "        newlig= soupyness.find(id='note_obsoletedBy')\n",
    "        newreceptor = newlig.find(href=re.compile('/structure/')).text\n",
    "        print(f'{rec}:{newreceptor}')\n",
    "        assert newreceptor in has_pfam\n",
    "        ms_df.loc[ms_df.Receptor == rec,'pfam_PDBIDs'] = newreceptor\n",
    "        pfam_receptors.remove(rec)\n",
    "        pfam_receptors.add(newreceptor)\n",
    "        "
   ]
  },
  {
   "cell_type": "code",
   "execution_count": 61,
   "metadata": {},
   "outputs": [
    {
     "name": "stdout",
     "output_type": "stream",
     "text": [
      "1247 158\n"
     ]
    }
   ],
   "source": [
    "relevant_pfams = pdb_pfam[pdb_pfam['PDB_ID'].isin(pfam_receptors)]\n",
    "print(len(relevant_pfams),len(relevant_pfams.PFAM_Name.unique()))"
   ]
  },
  {
   "cell_type": "code",
   "execution_count": 62,
   "metadata": {},
   "outputs": [],
   "source": [
    "def getDataFrame(information, measurement):\n",
    "    ## Uses permutations and gets absolute binding affinity information\n",
    "    information_list = []\n",
    "    for rec, group in information.groupby('rec_ligscaff'):\n",
    "        for idx1, idx2 in list(permutations(group.index,2)):\n",
    "            assert group.loc[idx1,'rec_ligscaff'] == group.loc[idx2,'rec_ligscaff']\n",
    "            pmeas1 = -np.log10(group.loc[idx1,measurement]*(1E-9)) ##all measurements in nM\n",
    "            pmeas2 = -np.log10(group.loc[idx2,measurement]*(1E-9))\n",
    "            regression = float(pmeas1) - float(pmeas2)\n",
    "            if regression == np.inf or regression == -np.inf or math.isnan(regression):\n",
    "                        continue\n",
    "            try:\n",
    "                classification = int(float(pmeas1) > float(pmeas2))\n",
    "            except:\n",
    "                print(group)\n",
    "                break\n",
    "            dg_lig1 = float(pmeas1)\n",
    "            dg_lig2 = float(pmeas2)\n",
    "            receptor = f\"{group.loc[idx1,'rec_ligscaff']}/{group.loc[idx1,'Receptor']}_0.gninatypes\"\n",
    "            lig1 = f\"{group.loc[idx1,'rec_ligscaff']}/{group.loc[idx1,'fname'].split('.')[0]}_0.gninatypes\"\n",
    "            lig2 = f\"{group.loc[idx2,'rec_ligscaff']}/{group.loc[idx2,'fname'].split('.')[0]}_0.gninatypes\"\n",
    "            information_list.append([classification, regression, dg_lig1, dg_lig2, receptor,lig1,lig2])\n",
    "    return pd.DataFrame(information_list,columns=['class','reg','dg_lig1','dg_lig2','rec','lig1','lig2'])"
   ]
  },
  {
   "cell_type": "code",
   "execution_count": 64,
   "metadata": {
    "scrolled": true
   },
   "outputs": [
    {
     "name": "stdout",
     "output_type": "stream",
     "text": [
      "158\n"
     ]
    }
   ],
   "source": [
    "uniq_pfams = pd.Series(relevant_pfams['PFAM_Name'].unique().tolist())\n",
    "print(len(uniq_pfams))\n",
    "value_to_PFAM = dict()\n",
    "counter = 0\n",
    "for value in range(len(uniq_pfams)):\n",
    "    training_set_df = pd.DataFrame(columns=['class','reg','dg_lig1','dg_lig2','rec','lig1','lig2'])\n",
    "    testing_set_df = pd.DataFrame(columns=['class','reg','dg_lig1','dg_lig2','rec','lig1','lig2'])\n",
    "    for ms_df, meas in meas_dfs:\n",
    "        ms_df['fname'] = ms_df['Structure File'].apply(lambda x: x.split('/')[-1])\n",
    "        training_pfam = uniq_pfams.drop(value)\n",
    "        training_pdbids = relevant_pfams[relevant_pfams['PFAM_Name'].isin(training_pfam)]['PDB_ID'].unique()\n",
    "        testing_set = ms_df[~ms_df['pfam_PDBIDs'].isin(training_pdbids)]\n",
    "        training_set = ms_df[ms_df['pfam_PDBIDs'].isin(training_pdbids)]\n",
    "        training_set_df = training_set_df.append(getDataFrame(training_set,meas))\n",
    "        testing_set_df = testing_set_df.append(getDataFrame(testing_set,meas))\n",
    "        assert len(set(training_set_df.rec.unique().tolist()).intersection(set(testing_set_df.rec.unique().tolist()))) == 0\n",
    "    if not len(testing_set_df):\n",
    "            continue\n",
    "    value_to_PFAM[counter] = uniq_pfams[value]\n",
    "    training_set_df.to_csv(f'PFAM_CV/train_pfam_cv_{counter}.types',sep=' ', header=False,index=False,float_format='%.4f')\n",
    "    testing_set_df.to_csv(f'PFAM_CV/test_pfam_cv_{counter}.types',sep=' ', header=False,index=False,float_format='%.4f')\n",
    "    counter += 1"
   ]
  },
  {
   "cell_type": "code",
   "execution_count": 65,
   "metadata": {},
   "outputs": [],
   "source": [
    "with open('pfam_values_map.txt','w') as outfile:\n",
    "    outfile.write(f'Number Test_PFAM\\n')\n",
    "    for k, value in value_to_PFAM.items():\n",
    "        outfile.write(f'{k} {value}\\n')"
   ]
  },
  {
   "cell_type": "markdown",
   "metadata": {},
   "source": [
    "PFAM_CV but for $\\Delta G$ prediction"
   ]
  },
  {
   "cell_type": "code",
   "execution_count": 66,
   "metadata": {},
   "outputs": [],
   "source": [
    "def getDGDataFrame(information,meas):\n",
    "    information['fname'] = information['Structure File'].apply(lambda x: x.split('/')[-1])\n",
    "    pmeas1 = information[meas].apply(lambda x: -np.log10(x*(1E-9))) ##all measurements in nM\n",
    "    receptor = information[['rec_ligscaff','Receptor']].apply(lambda x: f\"{x[0]}/{x[1]}_0.gninatypes\",axis=1)\n",
    "    lig1 = information[['rec_ligscaff','fname']].apply(lambda x: f\"{x[0]}/{x[1]}_0.gninatypes\",axis=1)\n",
    "    group_df = pd.concat({'dg_lig1':pmeas1,'rec':receptor,'lig1':lig1},axis=1)\n",
    "    \n",
    "    return group_df"
   ]
  },
  {
   "cell_type": "code",
   "execution_count": 67,
   "metadata": {},
   "outputs": [],
   "source": [
    "uniq_pfams = pd.Series(relevant_pfams['PFAM_Name'].unique().tolist())\n",
    "value_to_PFAM = dict()\n",
    "counter = 0\n",
    "for value in range(len(uniq_pfams)):\n",
    "    training_set_df = pd.DataFrame(columns=['class','reg','dg_lig1','dg_lig2','rec','lig1','lig2'])\n",
    "    testing_set_df = pd.DataFrame(columns=['class','reg','dg_lig1','dg_lig2','rec','lig1','lig2'])\n",
    "    for ms_df, meas in meas_dfs:\n",
    "        training_pfam = uniq_pfams.drop(value)\n",
    "        training_pdbids = relevant_pfams[relevant_pfams['PFAM_Name'].isin(training_pfam)]['PDB_ID'].unique()\n",
    "        testing_set = ms_df[~ms_df['pfam_PDBIDs'].isin(training_pdbids)].copy()\n",
    "        training_set = ms_df[ms_df['pfam_PDBIDs'].isin(training_pdbids)].copy()\n",
    "        if not len(testing_set):\n",
    "            continue\n",
    "        training_set_df = training_set_df.append(getDGDataFrame(training_set,meas))\n",
    "        testing_set_df = testing_set_df.append(getDGDataFrame(testing_set,meas))\n",
    "        assert len(set(training_set_df.rec.unique().tolist()).intersection(set(testing_set_df.rec.unique().tolist()))) == 0\n",
    "    if not len(testing_set_df):\n",
    "            continue\n",
    "    value_to_PFAM[counter] = uniq_pfams[value]\n",
    "    training_set_df.to_csv(f'PFAM_CV/dg_train_pfam_cv_{counter}.types',sep=' ', header=False,index=False,float_format='%.4f')\n",
    "    testing_set_df.to_csv(f'PFAM_CV/dg_test_pfam_cv_{counter}.types',sep=' ', header=False,index=False,float_format='%.4f')\n",
    "    counter += 1"
   ]
  },
  {
   "cell_type": "code",
   "execution_count": 80,
   "metadata": {
    "scrolled": true
   },
   "outputs": [
    {
     "data": {
      "text/plain": [
       "{0: 'Y_phosphatase',\n",
       " 1: 'RIP',\n",
       " 2: 'Carb_anhydrase',\n",
       " 3: 'Peptidase_C1',\n",
       " 4: 'Pkinase',\n",
       " 5: 'Aldo_ket_red',\n",
       " 6: 'Hormone_recep',\n",
       " 7: 'RnaseA',\n",
       " 8: 'EPSP_synthase',\n",
       " 9: 'BIR',\n",
       " 10: 'SH2',\n",
       " 11: 'Lig_chan-Glu_bd',\n",
       " 12: 'F_bP_aldolase',\n",
       " 13: 'Asp',\n",
       " 14: 'Thymidylat_synt',\n",
       " 15: 'Phosphorylase',\n",
       " 16: 'Glyco_hydro_18',\n",
       " 17: 'polyprenyl_synt',\n",
       " 18: '2OG-FeII_Oxy_3',\n",
       " 19: 'adh_short_C2',\n",
       " 20: 'Trypsin',\n",
       " 21: 'MBT',\n",
       " 22: 'EF-hand_7',\n",
       " 23: 'Bromodomain',\n",
       " 24: 'Abhydrolase_1',\n",
       " 25: 'NO_synthase',\n",
       " 26: 'Transthyretin',\n",
       " 27: 'HSP70',\n",
       " 28: 'Thymidylate_kin',\n",
       " 29: 'Peptidase_M10',\n",
       " 30: 'dUTPase',\n",
       " 31: 'Flavodoxin_2',\n",
       " 32: 'SQS_PSY',\n",
       " 33: 'DHO_dh',\n",
       " 34: 'RdRP_3',\n",
       " 35: 'Methyltransf_3',\n",
       " 36: 'IF4E',\n",
       " 37: 'DHFR_1',\n",
       " 38: 'PDEase_I',\n",
       " 39: 'Pkinase_Tyr',\n",
       " 40: 'Neur_chan_LBD',\n",
       " 41: 'Beta-lactamase2',\n",
       " 42: 'Peptidase_M28',\n",
       " 43: 'Peptidase_M24',\n",
       " 44: 'TetR_N',\n",
       " 45: 'NNMT_PNMT_TEMT',\n",
       " 46: 'RNase_H',\n",
       " 47: 'Methyltransf_23',\n",
       " 48: 'Reprolysin_5',\n",
       " 49: 'PNP_UDP_1',\n",
       " 50: 'UDG',\n",
       " 51: 'adh_short',\n",
       " 52: 'p450',\n",
       " 53: 'Kinesin',\n",
       " 54: 'DAO',\n",
       " 55: 'OMPdecase',\n",
       " 56: 'SAM_decarbox',\n",
       " 57: 'COesterase',\n",
       " 58: 'Rotamase',\n",
       " 59: 'YgbB',\n",
       " 60: 'Lipocalin',\n",
       " 61: 'Hist_deacetyl',\n",
       " 62: 'Amino_oxidase',\n",
       " 63: 'Viral_protease',\n",
       " 64: 'Heme_oxygenase',\n",
       " 65: 'Amidinotransf',\n",
       " 66: 'Pep_deformylase',\n",
       " 67: 'Methyltransf_25',\n",
       " 68: 'AMP-binding',\n",
       " 69: 'Peptidase_S28',\n",
       " 70: 'IDO',\n",
       " 71: 'An_peroxidase'}"
      ]
     },
     "execution_count": 80,
     "metadata": {},
     "output_type": "execute_result"
    }
   ],
   "source": [
    "value_to_PFAM"
   ]
  },
  {
   "cell_type": "markdown",
   "metadata": {},
   "source": [
    "# Jimenez-Luna Comparison Dataset"
   ]
  },
  {
   "cell_type": "code",
   "execution_count": 95,
   "metadata": {},
   "outputs": [],
   "source": [
    "# randos=[0,1,2,3,4]\n",
    "randos=list(range(25))\n",
    "trainfile_bname = 'jimenez/jl_data_train_papersplit'\n",
    "testfile_bname = 'jimenez/jl_data_test_papersplit'\n",
    "for i,random in enumerate(randos):\n",
    "    for addnl in range(1,7):\n",
    "        trainfile = pd.DataFrame(columns=['class','reg','dg_lig1','dg_lig2','rec','lig1','lig2'])\n",
    "        testfile = pd.DataFrame(columns=['class','reg','dg_lig1','dg_lig2','rec','lig1','lig2'])\n",
    "        for ms_df,measurement in meas_dfs:\n",
    "            ms_df.reset_index(drop=True,inplace=True)\n",
    "            ms_df['fname'] = ms_df['Structure File'].apply(lambda x: x.split('/')[-1])\n",
    "            for rec, group in ms_df.groupby('rec_ligscaff'):\n",
    "                traingroupinfo=[]\n",
    "                testgroupinfo=[]\n",
    "                if not group['Reference'].sum(): ## have to make sure there is one reference structure per group (arbitrarily assigning the reference to the first row if it isn't already assigned)\n",
    "                    print(rec)\n",
    "                    continue\n",
    "                if len(group)-1 < addnl:\n",
    "                    train_group = pd.concat([group[(group['Reference'] == 1)],group[(group['Reference'] == 0)].sample(n=len(group)-1,random_state=random)])\n",
    "                else:\n",
    "                    train_group = pd.concat([group[(group['Reference'] == 1)],group[group['Reference'] == 0].sample(n=addnl,random_state=random)])\n",
    "                ## Training set first\n",
    "                for row1,row2 in list(permutations(train_group.index,2)):\n",
    "                    pmeas1 = -np.log10(group.loc[row1,measurement]*(1E-9)) ##all measurements in nM\n",
    "                    pmeas2 = -np.log10(group.loc[row2,measurement]*(1E-9))\n",
    "                    dif = float(pmeas1) - float(pmeas2)\n",
    "                    if dif == np.inf or dif == -np.inf or math.isnan(dif):\n",
    "                        continue\n",
    "                    try:\n",
    "                        cls = int(float(pmeas1) > float(pmeas2))\n",
    "                    except:\n",
    "                        print(train_group)\n",
    "                        break\n",
    "                    dg_lig1 = float(pmeas1)\n",
    "                    dg_lig2 = float(pmeas2)\n",
    "                    receptor = f\"{group.loc[row1,'rec_ligscaff']}/{group.loc[row1,'Receptor']}_0.gninatypes\"\n",
    "                    lig1 = f\"{group.loc[row1,'rec_ligscaff']}/{group.loc[row1,'fname'].split('.')[0]}_0.gninatypes\"\n",
    "                    lig2 = f\"{group.loc[row2,'rec_ligscaff']}/{group.loc[row2,'fname'].split('.')[0]}_0.gninatypes\"\n",
    "                    traingroupinfo.append([cls,dif,dg_lig1,dg_lig2,receptor,lig1,lig2])\n",
    "                # Test set. Using idea that can only compare to values that are in the training set (i.e. 'Known' values)\n",
    "                for row1,row2 in list(permutations(group.index,2)):\n",
    "                    if not (bool(row1 in train_group.index) ^ bool(row2 in train_group.index)): ##supposed to be xor\n",
    "                        continue\n",
    "                    pmeas1 = -np.log10(group.loc[row1,measurement]*(1E-9)) ##all measurements in nM\n",
    "                    pmeas2 = -np.log10(group.loc[row2,measurement]*(1E-9))\n",
    "                    dif = float(pmeas1) - float(pmeas2)\n",
    "                    if dif == np.inf or dif == -np.inf or math.isnan(dif):\n",
    "                        continue\n",
    "                    dg_lig1 = float(pmeas1)\n",
    "                    dg_lig2 = float(pmeas2)\n",
    "                    cls = int(float(pmeas1) > float(pmeas2))\n",
    "                    receptor = f\"{group.loc[row1,'rec_ligscaff']}/{group.loc[row1,'Receptor']}_0.gninatypes\"\n",
    "                    lig1 = f\"{group.loc[row1,'rec_ligscaff']}/{group.loc[row1,'fname'].split('.')[0]}_0.gninatypes\"\n",
    "                    lig2 = f\"{group.loc[row2,'rec_ligscaff']}/{group.loc[row2,'fname'].split('.')[0]}_0.gninatypes\"\n",
    "                    testgroupinfo.append([cls,dif,dg_lig1,dg_lig2,receptor,lig1,lig2])\n",
    "                group_df = pd.DataFrame(data=traingroupinfo,columns=['class','reg','dg_lig1','dg_lig2','rec','lig1','lig2'])\n",
    "                trainfile = trainfile.append(group_df,ignore_index=True)\n",
    "                tgroup_df = pd.DataFrame(data=testgroupinfo,columns=['class','reg','dg_lig1','dg_lig2','rec','lig1','lig2'])\n",
    "                testfile = testfile.append(tgroup_df,ignore_index=True)\n",
    "        trainfile.to_csv(f'{trainfile_bname}_rand{random}_p_{addnl}.types',header=False,index=False,sep=' ',float_format='%.4f')\n",
    "        testfile.to_csv(f'{testfile_bname}_rand{random}_p_{addnl}.types',header=False,index=False,sep=' ',float_format='%.4f')"
   ]
  }
 ],
 "metadata": {
  "kernelspec": {
   "display_name": "RDK",
   "language": "python",
   "name": "rdk"
  },
  "language_info": {
   "codemirror_mode": {
    "name": "ipython",
    "version": 3
   },
   "file_extension": ".py",
   "mimetype": "text/x-python",
   "name": "python",
   "nbconvert_exporter": "python",
   "pygments_lexer": "ipython3",
   "version": "3.8.4"
  }
 },
 "nbformat": 4,
 "nbformat_minor": 4
}
