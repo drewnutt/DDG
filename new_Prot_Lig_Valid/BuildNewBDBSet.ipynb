{
 "cells": [
  {
   "cell_type": "code",
   "execution_count": 6,
   "metadata": {},
   "outputs": [],
   "source": [
    "import pandas as pd\n",
    "from glob import glob\n",
    "from matplotlib import pyplot as plt\n",
    "import os\n",
    "import re\n",
    "import numpy as np\n",
    "from itertools import permutations\n",
    "import requests\n",
    "from matplotlib_venn import venn3, venn3_circles\n",
    "import shutil\n",
    "from plumbum.cmd import obabel\n",
    "from rdkit import Chem, DataStructs\n",
    "import math\n",
    "import requests\n",
    "from bs4 import BeautifulSoup\n",
    "%matplotlib inline"
   ]
  },
  {
   "cell_type": "code",
   "execution_count": 7,
   "metadata": {},
   "outputs": [],
   "source": [
    "docked_dir = glob('BDB_docked/*/')"
   ]
  },
  {
   "cell_type": "code",
   "execution_count": 8,
   "metadata": {},
   "outputs": [
    {
     "name": "stdout",
     "output_type": "stream",
     "text": [
      "number docked directories:\t1597\n"
     ]
    }
   ],
   "source": [
    "print(f'number docked directories:\\t{len(docked_dir)}')"
   ]
  },
  {
   "cell_type": "code",
   "execution_count": 9,
   "metadata": {},
   "outputs": [],
   "source": [
    "full_docked_df = pd.DataFrame(columns=['Compound', 'Structure File', 'Surflex Score', 'Ki(nM)', 'IC50(nM)',\n",
    "       'Kd(nM)'])\n",
    "bad_prots = []\n",
    "for dd in docked_dir:\n",
    "    protein = dd.split('/')[-2].split('_')[0]\n",
    "    if os.path.isfile(f'{dd}{protein}.csv'):  \n",
    "        full_docked_df = full_docked_df.append(pd.read_csv(f'{dd}{protein}.csv'),ignore_index=True)\n",
    "    else:\n",
    "        bad_prots.append(f'{dd}{protein}.csv')"
   ]
  },
  {
   "cell_type": "code",
   "execution_count": 10,
   "metadata": {},
   "outputs": [],
   "source": [
    "full_docked_df['Receptor'] = full_docked_df['Structure File'].apply(lambda x: re.findall('(?<=surflex/)[A-Z\\d]{4}(?=_)',x)[0])\n",
    "full_docked_df['Ligand ID'] = full_docked_df['Structure File'].apply(lambda x: x.split('.')[-2].split('_')[-1])"
   ]
  },
  {
   "cell_type": "markdown",
   "metadata": {},
   "source": [
    "### IC50 is most prevalent\n",
    "Therefore we subset the whole frame to those ligands with IC50 measurements"
   ]
  },
  {
   "cell_type": "code",
   "execution_count": 11,
   "metadata": {},
   "outputs": [],
   "source": [
    "ic50_avail_df = full_docked_df[full_docked_df['IC50(nM)'].notna()]\n",
    "ic50_gb_rec = ic50_avail_df.groupby('Receptor')"
   ]
  },
  {
   "cell_type": "markdown",
   "metadata": {},
   "source": [
    "Removing receptors that only have 1 ligand (need to have at least 2 for paired comparisons)"
   ]
  },
  {
   "cell_type": "code",
   "execution_count": 12,
   "metadata": {},
   "outputs": [
    {
     "name": "stdout",
     "output_type": "stream",
     "text": [
      "711 unique receptors with greater than 1 ligand\n",
      "6342 unique recptor-ligand pairs\n"
     ]
    }
   ],
   "source": [
    "ic50_rm_lig = ic50_gb_rec.filter(lambda x: len(x) > 1) ## remove groups with less than 2 ligands\n",
    "print('{} unique receptors with greater than 1 ligand'.format(len(ic50_rm_lig['Receptor'].unique())))\n",
    "print('{} unique recptor-ligand pairs'.format(len(ic50_rm_lig.drop_duplicates(subset=['Receptor','Ligand ID']))))"
   ]
  },
  {
   "cell_type": "code",
   "execution_count": 13,
   "metadata": {},
   "outputs": [
    {
     "data": {
      "text/plain": [
       "<matplotlib.legend.Legend at 0x7f24ab2ed850>"
      ]
     },
     "execution_count": 13,
     "metadata": {},
     "output_type": "execute_result"
    },
    {
     "data": {
      "image/png": "[encoded data removed]",
      "text/plain": [
       "<Figure size 432x288 with 1 Axes>"
      ]
     },
     "metadata": {
      "needs_background": "light"
     },
     "output_type": "display_data"
    }
   ],
   "source": [
    "ic50_rm_lig_gp = ic50_rm_lig.groupby('Receptor')\n",
    "lig_counts = ic50_rm_lig_gp.count()['Ligand ID']\n",
    "plt.hist(lig_counts,bins=np.arange(1,max(lig_counts),1),align='mid')\n",
    "plt.axvline(x=np.mean(lig_counts),label=f'Average={np.mean(lig_counts):.3f}',color='k',linestyle='--')\n",
    "plt.xlabel('Ligands in Series')\n",
    "plt.xlim([1.5,max(lig_counts)])\n",
    "plt.ylabel('Frequency')\n",
    "plt.legend()"
   ]
  },
  {
   "cell_type": "code",
   "execution_count": 14,
   "metadata": {},
   "outputs": [],
   "source": [
    "more_than_one_IC50_bool = ic50_rm_lig['IC50(nM)'].apply(lambda x: len(str(x).split(';')) > 1)\n",
    "ic50_rm_mt1_meas = ic50_rm_lig[~more_than_one_IC50_bool].copy()\n",
    "ic50_rm_mt1_meas['IC50(nM)'] = ic50_rm_mt1_meas['IC50(nM)'].apply(lambda x: float(x.strip('><')) if isinstance(x,str) else x)\n",
    "ic50_mt1_meas = (ic50_rm_lig[more_than_one_IC50_bool].reset_index())\n",
    "\n",
    "## Getting the median \n",
    "ic50_mt1_meas['IC50(nM)'] = ic50_mt1_meas['IC50(nM)'].apply(lambda x: np.median([float(val.strip('><')) for val in x.split(';')]))"
   ]
  },
  {
   "cell_type": "code",
   "execution_count": 15,
   "metadata": {},
   "outputs": [],
   "source": [
    "all_ic50_meas = ic50_rm_mt1_meas.append(ic50_mt1_meas)\n",
    "all_ic50_gp = all_ic50_meas.groupby('Receptor')"
   ]
  },
  {
   "cell_type": "code",
   "execution_count": 16,
   "metadata": {},
   "outputs": [
    {
     "data": {
      "text/plain": [
       "Text(0.5, 0, 'pIC50')"
      ]
     },
     "execution_count": 16,
     "metadata": {},
     "output_type": "execute_result"
    },
    {
     "data": {
      "image/png": "[encoded data removed]",
      "text/plain": [
       "<Figure size 432x288 with 1 Axes>"
      ]
     },
     "metadata": {
      "needs_background": "light"
     },
     "output_type": "display_data"
    }
   ],
   "source": [
    "plt.hist(-np.log10(all_ic50_meas['IC50(nM)']*(1E-9)))\n",
    "plt.xlabel('pIC50')"
   ]
  },
  {
   "cell_type": "markdown",
   "metadata": {},
   "source": [
    "### Ki is next most prevalent\n",
    "Therefore we subset the whole frame to those ligands with Ki measurements"
   ]
  },
  {
   "cell_type": "code",
   "execution_count": 17,
   "metadata": {},
   "outputs": [],
   "source": [
    "ki_avail_df = full_docked_df[full_docked_df['Ki(nM)'].notna()]\n",
    "ki_gb_rec = ki_avail_df.groupby('Receptor')"
   ]
  },
  {
   "cell_type": "markdown",
   "metadata": {},
   "source": [
    "Removing receptors that only have 1 ligand (need to have at least 2 for paired comparisons)"
   ]
  },
  {
   "cell_type": "code",
   "execution_count": 18,
   "metadata": {},
   "outputs": [
    {
     "name": "stdout",
     "output_type": "stream",
     "text": [
      "318 unique receptors with greater than 1 ligand\n",
      "2259 unique recptor-ligand pairs\n"
     ]
    }
   ],
   "source": [
    "ki_rm_lig = ki_gb_rec.filter(lambda x: len(x) > 1) ## remove groups with less than 2 ligands\n",
    "print('{} unique receptors with greater than 1 ligand'.format(len(ki_rm_lig['Receptor'].unique())))\n",
    "print('{} unique recptor-ligand pairs'.format(len(ki_rm_lig.drop_duplicates(subset=['Receptor','Ligand ID']))))"
   ]
  },
  {
   "cell_type": "code",
   "execution_count": 19,
   "metadata": {},
   "outputs": [
    {
     "data": {
      "text/plain": [
       "<matplotlib.legend.Legend at 0x7f249d73d6d0>"
      ]
     },
     "execution_count": 19,
     "metadata": {},
     "output_type": "execute_result"
    },
    {
     "data": {
      "image/png": "[encoded data removed]",
      "text/plain": [
       "<Figure size 432x288 with 1 Axes>"
      ]
     },
     "metadata": {
      "needs_background": "light"
     },
     "output_type": "display_data"
    }
   ],
   "source": [
    "ki_rm_lig_gp = ki_rm_lig.groupby('Receptor')\n",
    "lig_counts = ki_rm_lig_gp.count()['Ligand ID']\n",
    "plt.hist(lig_counts,bins=np.arange(1,max(lig_counts),1),align='mid')\n",
    "plt.axvline(x=np.mean(lig_counts),label=f'Average={np.mean(lig_counts):.3f}',color='k',linestyle='--')\n",
    "plt.xlabel('Ligands in Series')\n",
    "plt.xlim([1.5,max(lig_counts)])\n",
    "plt.ylabel('Frequency')\n",
    "plt.legend()"
   ]
  },
  {
   "cell_type": "code",
   "execution_count": 20,
   "metadata": {},
   "outputs": [],
   "source": [
    "# ki_mt1_meas = ki_rm_lig['Ki(nM)'].apply(lambda x: np.median([float(val.strip('><')) for val in x.split(';')] if isinstance(x,str) else x ))\n",
    "more_than_one_KI_bool = ki_rm_lig['Ki(nM)'].apply(lambda x: len(str(x).split(';')) > 1)\n",
    "ki_rm_mt1_meas = ki_rm_lig[~more_than_one_KI_bool].copy()\n",
    "ki_rm_mt1_meas['Ki(nM)'] = ki_rm_mt1_meas['Ki(nM)'].apply(lambda x: float(x.strip('><')) if isinstance(x,str) else x)\n",
    "ki_mt1_meas = (ki_rm_lig[more_than_one_KI_bool].reset_index())\n",
    "\n",
    "## Getting the median \n",
    "ki_mt1_meas['Ki(nM)'] = ki_mt1_meas['Ki(nM)'].apply(lambda x: np.median([float(val.strip('><')) for val in x.split(';')]))"
   ]
  },
  {
   "cell_type": "code",
   "execution_count": 21,
   "metadata": {},
   "outputs": [],
   "source": [
    "all_ki_meas = ki_rm_mt1_meas.append(ki_mt1_meas)\n",
    "all_ki_meas = all_ki_meas.drop(all_ki_meas[all_ki_meas['Ki(nM)'] == 0].index)\n",
    "all_ki_gp = all_ki_meas.groupby('Receptor')"
   ]
  },
  {
   "cell_type": "code",
   "execution_count": 22,
   "metadata": {},
   "outputs": [
    {
     "name": "stdout",
     "output_type": "stream",
     "text": [
      "-1.2786700047745363 11.0\n"
     ]
    }
   ],
   "source": [
    "print(min(-np.log10(all_ki_meas['Ki(nM)']*(1E-9))),max(-np.log10(all_ki_meas['Ki(nM)']*(1E-9))))"
   ]
  },
  {
   "cell_type": "code",
   "execution_count": 23,
   "metadata": {},
   "outputs": [
    {
     "data": {
      "text/plain": [
       "Text(0.5, 0, 'pKi')"
      ]
     },
     "execution_count": 23,
     "metadata": {},
     "output_type": "execute_result"
    },
    {
     "data": {
      "image/png": "[encoded data removed]",
      "text/plain": [
       "<Figure size 432x288 with 1 Axes>"
      ]
     },
     "metadata": {
      "needs_background": "light"
     },
     "output_type": "display_data"
    }
   ],
   "source": [
    "plt.hist(-np.log10(all_ki_meas['Ki(nM)']*(1E-9)))\n",
    "plt.xlabel('pKi')"
   ]
  },
  {
   "cell_type": "markdown",
   "metadata": {},
   "source": [
    "### Kd is the least prevalent\n",
    "Therefore we subset the whole frame to those ligands with Kd measurements"
   ]
  },
  {
   "cell_type": "code",
   "execution_count": 24,
   "metadata": {},
   "outputs": [],
   "source": [
    "kd_avail_df = full_docked_df[full_docked_df['Kd(nM)'].notna()]\n",
    "kd_gb_rec = kd_avail_df.groupby('Receptor')"
   ]
  },
  {
   "cell_type": "markdown",
   "metadata": {},
   "source": [
    "Removing receptors that only have 1 ligand (need to have at least 2 for paired comparisons)"
   ]
  },
  {
   "cell_type": "code",
   "execution_count": 25,
   "metadata": {},
   "outputs": [
    {
     "name": "stdout",
     "output_type": "stream",
     "text": [
      "96 unique receptors with greater than 1 ligand\n",
      "540 unique recptor-ligand pairs\n"
     ]
    }
   ],
   "source": [
    "kd_rm_lig = kd_gb_rec.filter(lambda x: len(x) > 1) ## remove groups with less than 2 ligands\n",
    "print('{} unique receptors with greater than 1 ligand'.format(len(kd_rm_lig['Receptor'].unique())))\n",
    "print('{} unique recptor-ligand pairs'.format(len(kd_rm_lig.drop_duplicates(subset=['Receptor','Ligand ID']))))"
   ]
  },
  {
   "cell_type": "code",
   "execution_count": 26,
   "metadata": {},
   "outputs": [
    {
     "data": {
      "text/plain": [
       "<matplotlib.legend.Legend at 0x7f249d5f9d50>"
      ]
     },
     "execution_count": 26,
     "metadata": {},
     "output_type": "execute_result"
    },
    {
     "data": {
      "image/png": "[encoded data removed]",
      "text/plain": [
       "<Figure size 432x288 with 1 Axes>"
      ]
     },
     "metadata": {
      "needs_background": "light"
     },
     "output_type": "display_data"
    }
   ],
   "source": [
    "kd_rm_lig_gp = kd_rm_lig.groupby('Receptor')\n",
    "lig_counts = kd_rm_lig_gp.count()['Ligand ID']\n",
    "plt.hist(lig_counts,bins=np.arange(1,max(lig_counts),1),align='mid')\n",
    "plt.axvline(x=np.mean(lig_counts),label=f'Average={np.mean(lig_counts):.3f}',color='k',linestyle='--')\n",
    "plt.xlabel('Ligands in Series')\n",
    "plt.xlim([1.5,max(lig_counts)])\n",
    "plt.ylabel('Frequency')\n",
    "plt.legend()"
   ]
  },
  {
   "cell_type": "code",
   "execution_count": 27,
   "metadata": {},
   "outputs": [],
   "source": [
    "more_than_one_KD_bool = kd_rm_lig['Kd(nM)'].apply(lambda x: len(str(x).split(';')) > 1)\n",
    "kd_rm_mt1_meas = kd_rm_lig[~more_than_one_KD_bool].copy()\n",
    "kd_rm_mt1_meas['Kd(nM)'] = kd_rm_mt1_meas['Kd(nM)'].apply(lambda x: float(x.strip('><')) if isinstance(x,str) else x)\n",
    "kd_mt1_meas = (kd_rm_lig[more_than_one_KD_bool].reset_index())\n",
    "\n",
    "## Getting the median \n",
    "kd_mt1_meas['Kd(nM)'] = kd_mt1_meas['Kd(nM)'].apply(lambda x: np.median([float(val.strip('><')) for val in x.split(';')]))"
   ]
  },
  {
   "cell_type": "code",
   "execution_count": 28,
   "metadata": {},
   "outputs": [],
   "source": [
    "all_kd_meas = kd_rm_mt1_meas.append(kd_mt1_meas)\n",
    "all_kd_meas = all_kd_meas.drop(all_kd_meas[all_kd_meas['Kd(nM)'] == 0].index)\n",
    "all_kd_gp = all_kd_meas.groupby('Receptor')"
   ]
  },
  {
   "cell_type": "code",
   "execution_count": 29,
   "metadata": {},
   "outputs": [
    {
     "name": "stdout",
     "output_type": "stream",
     "text": [
      "1.6882461389442456 11.0\n"
     ]
    }
   ],
   "source": [
    "print(min(-np.log10(all_kd_meas['Kd(nM)']*(1E-9))),max(-np.log10(all_kd_meas['Kd(nM)']*(1E-9))))"
   ]
  },
  {
   "cell_type": "code",
   "execution_count": 30,
   "metadata": {},
   "outputs": [
    {
     "data": {
      "text/plain": [
       "Text(0.5, 0, 'pKd')"
      ]
     },
     "execution_count": 30,
     "metadata": {},
     "output_type": "execute_result"
    },
    {
     "data": {
      "image/png": "[encoded data removed]",
      "text/plain": [
       "<Figure size 432x288 with 1 Axes>"
      ]
     },
     "metadata": {
      "needs_background": "light"
     },
     "output_type": "display_data"
    }
   ],
   "source": [
    "plt.hist(-np.log10(all_kd_meas['Kd(nM)']*(1E-9)))\n",
    "plt.xlabel('pKd')"
   ]
  },
  {
   "cell_type": "markdown",
   "metadata": {},
   "source": [
    "## What about Receptors:\n",
    "Only including receptors that have more than 1 ligand"
   ]
  },
  {
   "cell_type": "code",
   "execution_count": 27,
   "metadata": {},
   "outputs": [],
   "source": [
    "meas_r_list = []\n",
    "for meas,df in [('Ki(nM)',ki_rm_lig), ('IC50(nM)',ic50_rm_lig),('Kd(nM)',kd_rm_lig)]:\n",
    "    meas_r_list.append(df['Receptor'].nunique())\n",
    "#     print(f'Non-Nan {meas}:{meas_r_list[-1]}')"
   ]
  },
  {
   "cell_type": "code",
   "execution_count": 28,
   "metadata": {},
   "outputs": [
    {
     "data": {
      "text/plain": [
       "Text(0.5, -0.5, 'Covers 982 unique PDB IDs')"
      ]
     },
     "execution_count": 28,
     "metadata": {},
     "output_type": "execute_result"
    },
    {
     "data": {
      "image/png": "[encoded data removed]",
      "text/plain": [
       "<Figure size 432x288 with 1 Axes>"
      ]
     },
     "metadata": {},
     "output_type": "display_data"
    }
   ],
   "source": [
    "meas_recs = dict()\n",
    "for meas,df in [('Ki(nM)',ki_rm_lig), ('IC50(nM)',ic50_rm_lig),('Kd(nM)',kd_rm_lig)]:\n",
    "    meas_recs[meas]=set(df[df[meas].notna()].apply(lambda row: '{}'.format(row['Receptor']), axis=1).values.tolist())\n",
    "total_overlap = len(meas_recs['Ki(nM)'].intersection(meas_recs['IC50(nM)'],meas_recs['Kd(nM)']))\n",
    "ki_ic50_overlap = len(meas_recs['Ki(nM)'].intersection(meas_recs['IC50(nM)']))\n",
    "ki_kd_overlap = len(meas_recs['Ki(nM)'].intersection(meas_recs['Kd(nM)']))\n",
    "ic50_kd_overlap = len(meas_recs['Kd(nM)'].intersection(meas_recs['IC50(nM)']))\n",
    "\n",
    "venn3(subsets = (meas_r_list[0], meas_r_list[1], ki_ic50_overlap, meas_r_list[2], ki_kd_overlap, ic50_kd_overlap, total_overlap), set_labels = ('Ki(nM)', 'IC50(nM)','Kd(nM)'), alpha = 0.5)\n",
    "plt.annotate(f\"Covers {len(meas_recs['Ki(nM)'].union(meas_recs['IC50(nM)'],meas_recs['Kd(nM)']))} unique PDB IDs\",xy=(0.5,-0.5))"
   ]
  },
  {
   "cell_type": "markdown",
   "metadata": {},
   "source": [
    "### Number of Ligands with each type of Measurement\n",
    "Again only considering ligands of proteins that have more than 1 ligand associated"
   ]
  },
  {
   "cell_type": "code",
   "execution_count": 29,
   "metadata": {},
   "outputs": [],
   "source": [
    "meas_list = []\n",
    "for meas,df in [('Ki(nM)',ki_rm_lig), ('IC50(nM)',ic50_rm_lig),('Kd(nM)',kd_rm_lig)]:\n",
    "    meas_list.append(len(df.drop_duplicates(subset=['Receptor','Ligand ID'])))\n",
    "#     print(f'Non-Nan {meas}:{meas_list[-1]}')"
   ]
  },
  {
   "cell_type": "code",
   "execution_count": 30,
   "metadata": {},
   "outputs": [
    {
     "data": {
      "text/plain": [
       "Text(0.5, -0.5, 'Covers 8892 protein-ligand pairs')"
      ]
     },
     "execution_count": 30,
     "metadata": {},
     "output_type": "execute_result"
    },
    {
     "data": {
      "image/png": "[encoded data removed]",
      "text/plain": [
       "<Figure size 432x288 with 1 Axes>"
      ]
     },
     "metadata": {},
     "output_type": "display_data"
    }
   ],
   "source": [
    "meas_ligs = dict()\n",
    "for meas,df in [('Ki(nM)',ki_rm_lig), ('IC50(nM)',ic50_rm_lig),('Kd(nM)',kd_rm_lig)]:\n",
    "    meas_ligs[meas]=set(df.apply(lambda row: '{}_{}'.format(row['Receptor'],row['Ligand ID']), axis=1).values.tolist())\n",
    "total_overlap = len(meas_ligs['Ki(nM)'].intersection(meas_ligs['IC50(nM)'],meas_ligs['Kd(nM)']))\n",
    "ki_ic50_overlap = len(meas_ligs['Ki(nM)'].intersection(meas_ligs['IC50(nM)']))\n",
    "ki_kd_overlap = len(meas_ligs['Ki(nM)'].intersection(meas_ligs['Kd(nM)']))\n",
    "ic50_kd_overlap = len(meas_ligs['Kd(nM)'].intersection(meas_ligs['IC50(nM)']))\n",
    "\n",
    "venn3(subsets = (meas_list[0], meas_list[1], ki_ic50_overlap, meas_list[2], ki_kd_overlap, ic50_kd_overlap, total_overlap), set_labels = ('Ki(nM)', 'IC50(nM)','Kd(nM)'), alpha = 0.5)\n",
    "plt.annotate(f\"Covers {len(meas_ligs['Ki(nM)'].union(meas_ligs['IC50(nM)'],meas_ligs['Kd(nM)']))} protein-ligand pairs\",xy=(0.5,-0.5))"
   ]
  },
  {
   "cell_type": "markdown",
   "metadata": {},
   "source": [
    "# Dealing with values with more than 1 IC50 measurement\n",
    "If we just toss them all out:"
   ]
  },
  {
   "cell_type": "code",
   "execution_count": 31,
   "metadata": {},
   "outputs": [
    {
     "name": "stdout",
     "output_type": "stream",
     "text": [
      "650 unique PDBIDs with greater than 1 ligand\n",
      "5539 unique receptor-ligand pairs\n"
     ]
    }
   ],
   "source": [
    "more_than_one_IC50_bool = ic50_rm_lig['IC50(nM)'].apply(lambda x: len(str(x).split(';')) > 1)\n",
    "ic50_rm_lig['IC50(nM)'] = ic50_rm_lig['IC50(nM)'].apply(lambda x: x.strip('><') if type(x) is str else x)\n",
    "ic50_rm_mt1_meas = ic50_rm_lig[~more_than_one_IC50_bool].copy()\n",
    "ic50_rm_mt1_meas['IC50(nM)'] = ic50_rm_mt1_meas['IC50(nM)'].astype(float)\n",
    "ic50_rm_mt1_meas_gp = ic50_rm_mt1_meas.groupby('Receptor')\n",
    "ic50_rm_lig_and_mt1 = ic50_rm_mt1_meas_gp.filter(lambda x: len(x) > 1) ## remove groups with less than 2 ligands\n",
    "print('{} unique PDBIDs with greater than 1 ligand'.format(len(ic50_rm_lig_and_mt1['Receptor'].unique())))\n",
    "print('{} unique receptor-ligand pairs'.format(len(ic50_rm_lig_and_mt1.drop_duplicates(subset=['Receptor','Ligand ID']))))"
   ]
  },
  {
   "cell_type": "code",
   "execution_count": 35,
   "metadata": {},
   "outputs": [
    {
     "name": "stdout",
     "output_type": "stream",
     "text": [
      "767 ligands with multiple IC50 values\n"
     ]
    }
   ],
   "source": [
    "print(f'{more_than_one_IC50_bool.sum()} ligands with multiple IC50 values')"
   ]
  },
  {
   "cell_type": "code",
   "execution_count": 36,
   "metadata": {},
   "outputs": [
    {
     "data": {
      "text/plain": [
       "<matplotlib.legend.Legend at 0x7f9cd86acf90>"
      ]
     },
     "execution_count": 36,
     "metadata": {},
     "output_type": "execute_result"
    },
    {
     "data": {
      "image/png": "[encoded data removed]",
      "text/plain": [
       "<Figure size 432x288 with 1 Axes>"
      ]
     },
     "metadata": {
      "needs_background": "light"
     },
     "output_type": "display_data"
    }
   ],
   "source": [
    "ic50_fin_gp = ic50_rm_lig_and_mt1.groupby('Receptor')\n",
    "lig_counts = ic50_fin_gp.count()['Ligand ID']\n",
    "plt.hist(lig_counts,bins=np.arange(1,max(lig_counts),1),align='left')\n",
    "plt.axvline(x=np.mean(lig_counts),label=f'Average={np.mean(lig_counts):.3f}',color='k',linestyle='--')\n",
    "plt.xlabel('Ligands in Series')\n",
    "plt.xlim([1.5,max(lig_counts)])\n",
    "plt.ylabel('Frequency')\n",
    "plt.legend()"
   ]
  },
  {
   "cell_type": "code",
   "execution_count": 37,
   "metadata": {},
   "outputs": [
    {
     "data": {
      "text/plain": [
       "<matplotlib.legend.Legend at 0x7f9cd862d190>"
      ]
     },
     "execution_count": 37,
     "metadata": {},
     "output_type": "execute_result"
    },
    {
     "data": {
      "image/png": "[encoded data removed]",
      "text/plain": [
       "<Figure size 432x288 with 1 Axes>"
      ]
     },
     "metadata": {
      "needs_background": "light"
     },
     "output_type": "display_data"
    }
   ],
   "source": [
    "ic50_range = -np.log10(ic50_fin_gp['IC50(nM)'].max()*(1E-9)) + np.log(ic50_fin_gp['IC50(nM)'].min()*(1E-9))\n",
    "plt.hist(ic50_range,align='left')\n",
    "plt.axvline(x=np.mean(ic50_range),label=f'Average={np.mean(ic50_range):.3f}',color='k',linestyle='--')\n",
    "plt.xlabel('$pIC_{50}$ Range in Each Congeneric Series (nM)')\n",
    "plt.xlim([1.5,max(ic50_range)])\n",
    "plt.ylabel('Frequency')\n",
    "plt.legend()"
   ]
  },
  {
   "cell_type": "code",
   "execution_count": 38,
   "metadata": {},
   "outputs": [
    {
     "data": {
      "text/plain": [
       "Text(0, 0.5, 'Range of $IC_{50}$ values (nM)')"
      ]
     },
     "execution_count": 38,
     "metadata": {},
     "output_type": "execute_result"
    },
    {
     "data": {
      "image/png": "[encoded data removed]",
      "text/plain": [
       "<Figure size 1080x576 with 1 Axes>"
      ]
     },
     "metadata": {
      "needs_background": "light"
     },
     "output_type": "display_data"
    }
   ],
   "source": [
    "import matplotlib.colors as mcolors \n",
    "ic50_mt1_meas = (ic50_rm_lig[more_than_one_IC50_bool].reset_index())\n",
    "ic50_mt1_meas['split IC50(nM)'] = ic50_mt1_meas['IC50(nM)'].apply(lambda x: [float(val.strip('><')) for val in x.split(';')])\n",
    "fig = plt.figure(figsize=[15,8])\n",
    "colors = list(mcolors.BASE_COLORS.keys())\n",
    "sum_range = 0\n",
    "val_ranges = []\n",
    "for idx, row in ic50_mt1_meas.iterrows():\n",
    "    c = colors[idx % len(colors)]\n",
    "    val_range=max(row['split IC50(nM)'])-min(row['split IC50(nM)'])\n",
    "    plt.bar(idx,val_range,color=c)\n",
    "    val_ranges.append(val_range)\n",
    "    sum_range+= val_range\n",
    "plt.hlines(sum_range/idx,0,idx,linestyles='--')\n",
    "plt.annotate(f'{sum_range/idx:.2f}',(idx,sum_range/idx))\n",
    "plt.ylabel('Range of $IC_{50}$ values (nM)')"
   ]
  },
  {
   "cell_type": "code",
   "execution_count": 39,
   "metadata": {},
   "outputs": [
    {
     "data": {
      "text/plain": [
       "(array([202.,  53.,  19.,  24.,  22.,  25.,   8.,   5.,   7.,   6.,   8.,\n",
       "         18.,   3.,   4.,   3.,   2.,   1.,   6.,   6.,   5.,   4.,   3.,\n",
       "         10.,   3.,   2.,   3.,   6.,   2.,   3.,   0.,   1.,   0.,   7.,\n",
       "          1.,   0.,   0.,   0.,   0.,   0.,   0.,   0.,   1.,   4.,   1.,\n",
       "          1.,   4.,   0.,   0.,   0.,   4.,   0.,   0.,   3.,   0.,   3.,\n",
       "          5.,   1.,   1.,   7.,   1.,   0.,   1.,   0.,   0.,   2.,   0.,\n",
       "          5.,   3.,   2.,   3.,   0.,   1.,   0.,   2.,   0.,   3.,   3.,\n",
       "          3.,   0.,   0.,   2.,   0.,   0.,   0.,   0.,   0.,   1.,   1.,\n",
       "          0.,   1.,   0.,   0.,   0.,   1.,   0.,   4.,   0.,   0.,   0.,\n",
       "          3.]),\n",
       " array([  0.  ,   9.01,  18.02,  27.03,  36.04,  45.05,  54.06,  63.07,\n",
       "         72.08,  81.09,  90.1 ,  99.11, 108.12, 117.13, 126.14, 135.15,\n",
       "        144.16, 153.17, 162.18, 171.19, 180.2 , 189.21, 198.22, 207.23,\n",
       "        216.24, 225.25, 234.26, 243.27, 252.28, 261.29, 270.3 , 279.31,\n",
       "        288.32, 297.33, 306.34, 315.35, 324.36, 333.37, 342.38, 351.39,\n",
       "        360.4 , 369.41, 378.42, 387.43, 396.44, 405.45, 414.46, 423.47,\n",
       "        432.48, 441.49, 450.5 , 459.51, 468.52, 477.53, 486.54, 495.55,\n",
       "        504.56, 513.57, 522.58, 531.59, 540.6 , 549.61, 558.62, 567.63,\n",
       "        576.64, 585.65, 594.66, 603.67, 612.68, 621.69, 630.7 , 639.71,\n",
       "        648.72, 657.73, 666.74, 675.75, 684.76, 693.77, 702.78, 711.79,\n",
       "        720.8 , 729.81, 738.82, 747.83, 756.84, 765.85, 774.86, 783.87,\n",
       "        792.88, 801.89, 810.9 , 819.91, 828.92, 837.93, 846.94, 855.95,\n",
       "        864.96, 873.97, 882.98, 891.99, 901.  ]),\n",
       " <a list of 100 Patch objects>)"
      ]
     },
     "execution_count": 39,
     "metadata": {},
     "output_type": "execute_result"
    },
    {
     "data": {
      "image/png": "[encoded data removed]",
      "text/plain": [
       "<Figure size 432x288 with 1 Axes>"
      ]
     },
     "metadata": {
      "needs_background": "light"
     },
     "output_type": "display_data"
    }
   ],
   "source": [
    "plt.hist([vals for vals in val_ranges if vals < 1E3 ],bins=100)"
   ]
  },
  {
   "cell_type": "code",
   "execution_count": 40,
   "metadata": {},
   "outputs": [
    {
     "data": {
      "text/plain": [
       "767"
      ]
     },
     "execution_count": 40,
     "metadata": {},
     "output_type": "execute_result"
    }
   ],
   "source": [
    "len(val_ranges)"
   ]
  },
  {
   "cell_type": "code",
   "execution_count": 41,
   "metadata": {},
   "outputs": [
    {
     "name": "stdout",
     "output_type": "stream",
     "text": [
      "203\n",
      "380\n",
      "549\n",
      "660\n",
      "720\n",
      "742\n",
      "753\n",
      "764\n"
     ]
    }
   ],
   "source": [
    "for num in range(1,9):\n",
    "    print(f'{len([vals for vals in val_ranges if vals < 1*10**(num)])}')"
   ]
  },
  {
   "cell_type": "code",
   "execution_count": 42,
   "metadata": {},
   "outputs": [
    {
     "name": "stdout",
     "output_type": "stream",
     "text": [
      "Avg Number of IC50 vals:2.4784876140808345\n",
      "Median number:\t\t2.0\n",
      "Maximum number:\t\t11\n"
     ]
    },
    {
     "data": {
      "text/plain": [
       "Text(0, 0.5, 'Number of protein-ligand pairs')"
      ]
     },
     "execution_count": 42,
     "metadata": {},
     "output_type": "execute_result"
    },
    {
     "data": {
      "image/png": "[encoded data removed]",
      "text/plain": [
       "<Figure size 432x288 with 1 Axes>"
      ]
     },
     "metadata": {
      "needs_background": "light"
     },
     "output_type": "display_data"
    }
   ],
   "source": [
    "sum_lens = 0\n",
    "number_vals = [len(list_vals) for list_vals in ic50_mt1_meas['split IC50(nM)'].values.tolist()]\n",
    "print(f'Avg Number of IC50 vals:{np.mean(number_vals)}\\nMedian number:\\t\\t{np.median(number_vals)}\\nMaximum number:\\t\\t{max(number_vals)}')\n",
    "plt.hist(number_vals)\n",
    "plt.xlabel('Number of $IC_{50}$ measurements for a protein-ligand pair')\n",
    "plt.ylabel('Number of protein-ligand pairs')"
   ]
  },
  {
   "cell_type": "markdown",
   "metadata": {},
   "source": [
    "# Setting up the dataset"
   ]
  },
  {
   "cell_type": "code",
   "execution_count": 31,
   "metadata": {},
   "outputs": [],
   "source": [
    "meas_dfs= [(all_ic50_meas,'IC50(nM)'),(all_ki_meas,'Ki(nM)'),(all_kd_meas,'Kd(nM)')]\n",
    "receptors = set()\n",
    "for ms_df,measurement in meas_dfs:\n",
    "    receptors = receptors.union(set(ms_df['Receptor'].unique().tolist()))\n",
    "    ms_df['rec_ligscaff'] = ms_df['Structure File'].apply(lambda x: x.split('/')[-2])"
   ]
  },
  {
   "cell_type": "code",
   "execution_count": 32,
   "metadata": {},
   "outputs": [
    {
     "data": {
      "text/plain": [
       "982"
      ]
     },
     "execution_count": 32,
     "metadata": {},
     "output_type": "execute_result"
    }
   ],
   "source": [
    "len(receptors)"
   ]
  },
  {
   "cell_type": "code",
   "execution_count": 75,
   "metadata": {
    "scrolled": true
   },
   "outputs": [
    {
     "name": "stderr",
     "output_type": "stream",
     "text": [
      "RDKit WARNING: [19:18:14] BindingDB_26991: Warning - no explicit hydrogens in mol2 file but needed for formal charge estimation.\n",
      "RDKit WARNING: [19:18:14] BindingDB_50278322: Warning - no explicit hydrogens in mol2 file but needed for formal charge estimation.\n",
      "RDKit WARNING: [19:18:14] BindingDB_26991: Warning - no explicit hydrogens in mol2 file but needed for formal charge estimation.\n",
      "RDKit WARNING: [19:18:14] BindingDB_50278322: Warning - no explicit hydrogens in mol2 file but needed for formal charge estimation.\n",
      "RDKit WARNING: [19:18:14] BindingDB_26991: Warning - no explicit hydrogens in mol2 file but needed for formal charge estimation.\n",
      "RDKit WARNING: [19:18:14] BindingDB_50278322: Warning - no explicit hydrogens in mol2 file but needed for formal charge estimation.\n",
      "RDKit WARNING: [19:18:14] BindingDB_26992: Warning - no explicit hydrogens in mol2 file but needed for formal charge estimation.\n",
      "RDKit WARNING: [19:18:14] BindingDB_26991: Warning - no explicit hydrogens in mol2 file but needed for formal charge estimation.\n",
      "RDKit WARNING: [19:18:14] BindingDB_50278322: Warning - no explicit hydrogens in mol2 file but needed for formal charge estimation.\n",
      "RDKit WARNING: [19:18:14] BindingDB_26992: Warning - no explicit hydrogens in mol2 file but needed for formal charge estimation.\n",
      "RDKit WARNING: [19:18:15] BindingDB_26991: Warning - no explicit hydrogens in mol2 file but needed for formal charge estimation.\n",
      "RDKit WARNING: [19:18:15] BindingDB_50278322: Warning - no explicit hydrogens in mol2 file but needed for formal charge estimation.\n",
      "RDKit WARNING: [19:18:15] BindingDB_26991: Warning - no explicit hydrogens in mol2 file but needed for formal charge estimation.\n",
      "RDKit WARNING: [19:18:15] BindingDB_50278322: Warning - no explicit hydrogens in mol2 file but needed for formal charge estimation.\n",
      "RDKit WARNING: [19:18:15] BindingDB_26992: Warning - no explicit hydrogens in mol2 file but needed for formal charge estimation.\n",
      "RDKit WARNING: [19:18:21] BindingDB_26991: Warning - no explicit hydrogens in mol2 file but needed for formal charge estimation.\n",
      "RDKit WARNING: [19:18:21] BindingDB_50278322: Warning - no explicit hydrogens in mol2 file but needed for formal charge estimation.\n",
      "RDKit WARNING: [19:18:21] BindingDB_26992: Warning - no explicit hydrogens in mol2 file but needed for formal charge estimation.\n",
      "RDKit WARNING: [19:18:25] BindingDB_26991: Warning - no explicit hydrogens in mol2 file but needed for formal charge estimation.\n",
      "RDKit WARNING: [19:18:31] BindingDB_26991: Warning - no explicit hydrogens in mol2 file but needed for formal charge estimation.\n",
      "RDKit WARNING: [19:18:31] BindingDB_26991: Warning - no explicit hydrogens in mol2 file but needed for formal charge estimation.\n",
      "RDKit WARNING: [19:18:31] BindingDB_26992: Warning - no explicit hydrogens in mol2 file but needed for formal charge estimation.\n"
     ]
    }
   ],
   "source": [
    "## copy over the receptor file and ligand file\n",
    "bad_files = []\n",
    "for ms_df,measurement in meas_dfs:\n",
    "    ms_df['Reference'] = 0\n",
    "    ms_df['local file'] = ''\n",
    "    for recdir, group in ms_df.groupby('rec_ligscaff'):\n",
    "        max_tan = 0\n",
    "        sf = None\n",
    "        if not os.path.isdir(f\"ddg_dataset/{recdir}\"):\n",
    "            os.mkdir(f\"ddg_dataset/{recdir}\")\n",
    "        shutil.copyfile(f\"BDB_docked/{recdir}/{recdir.split('_')[0]}.mol2\",f\"ddg_dataset/{recdir}/{recdir.split('_')[0]}.mol2\")\n",
    "        refmol = Chem.MolFromMolFile(f\"BDB_docked/{recdir}/{recdir.split('_')[1]}.sdf\",sanitize=False)\n",
    "        if refmol is None:\n",
    "            print(recdir)\n",
    "            (obabel[f\"BDB_docked/{recdir}/{recdir.split('_')[1]}.sdf\",\"-O\",f\"BDB_docked/{recdir}/{recdir.split('_')[1]}_ob.sdf\"])()\n",
    "            refmol = Chem.MolFromMol2File(f\"BDB_docked/{recdir}/{recdir.split('_')[1]}_ob.sdf\",sanitize=False)\n",
    "        ref_fp = Chem.RDKFingerprint(refmol)\n",
    "        for idx, row in group.iterrows():\n",
    "            filename = row['Structure File'].split('/')[-1]\n",
    "            if os.path.isfile(f\"BDB_docked/{recdir}/{filename}\"):\n",
    "                shutil.copyfile(f\"BDB_docked/{recdir}/{filename}\",f\"ddg_dataset/{recdir}/{filename}\")\n",
    "            else:\n",
    "                print(f\"BDB_docked/{recdir}/{filename}\")\n",
    "                bad_files.append(row['Structure File'])\n",
    "            compmol = Chem.MolFromMol2File(f\"ddg_dataset/{recdir}/{filename}\",sanitize=False)\n",
    "            comp_fp = Chem.RDKFingerprint(compmol)\n",
    "            Tan = DataStructs.TanimotoSimilarity(ref_fp,comp_fp)\n",
    "            if Tan > max_tan: ## assigning the reference to the molecule with the highest Tanimoto Sim to the molecule used in the fragment docking\n",
    "                max_tan = Tan\n",
    "                sf = row['Structure File']\n",
    "#         print(max_tan,ref_idx)\n",
    "        ms_df.loc[ms_df['Structure File'] == sf,'Reference'] = 1"
   ]
  },
  {
   "cell_type": "code",
   "execution_count": 33,
   "metadata": {
    "scrolled": true
   },
   "outputs": [
    {
     "name": "stderr",
     "output_type": "stream",
     "text": [
      "RDKit WARNING: [22:12:48] BindingDB_26991: Warning - no explicit hydrogens in mol2 file but needed for formal charge estimation.\n",
      "RDKit WARNING: [22:12:48] BindingDB_50278322: Warning - no explicit hydrogens in mol2 file but needed for formal charge estimation.\n",
      "RDKit WARNING: [22:12:48] BindingDB_26991: Warning - no explicit hydrogens in mol2 file but needed for formal charge estimation.\n",
      "RDKit WARNING: [22:12:48] BindingDB_50278322: Warning - no explicit hydrogens in mol2 file but needed for formal charge estimation.\n",
      "RDKit WARNING: [22:12:48] BindingDB_26991: Warning - no explicit hydrogens in mol2 file but needed for formal charge estimation.\n",
      "RDKit WARNING: [22:12:48] BindingDB_50278322: Warning - no explicit hydrogens in mol2 file but needed for formal charge estimation.\n",
      "RDKit WARNING: [22:12:48] BindingDB_26992: Warning - no explicit hydrogens in mol2 file but needed for formal charge estimation.\n",
      "RDKit WARNING: [22:12:48] BindingDB_26991: Warning - no explicit hydrogens in mol2 file but needed for formal charge estimation.\n",
      "RDKit WARNING: [22:12:48] BindingDB_50278322: Warning - no explicit hydrogens in mol2 file but needed for formal charge estimation.\n",
      "RDKit WARNING: [22:12:48] BindingDB_26992: Warning - no explicit hydrogens in mol2 file but needed for formal charge estimation.\n",
      "RDKit WARNING: [22:12:49] BindingDB_26991: Warning - no explicit hydrogens in mol2 file but needed for formal charge estimation.\n",
      "RDKit WARNING: [22:12:49] BindingDB_50278322: Warning - no explicit hydrogens in mol2 file but needed for formal charge estimation.\n",
      "RDKit WARNING: [22:12:49] BindingDB_26991: Warning - no explicit hydrogens in mol2 file but needed for formal charge estimation.\n",
      "RDKit WARNING: [22:12:49] BindingDB_50278322: Warning - no explicit hydrogens in mol2 file but needed for formal charge estimation.\n",
      "RDKit WARNING: [22:12:49] BindingDB_26992: Warning - no explicit hydrogens in mol2 file but needed for formal charge estimation.\n",
      "RDKit WARNING: [22:12:51] BindingDB_26991: Warning - no explicit hydrogens in mol2 file but needed for formal charge estimation.\n",
      "RDKit WARNING: [22:12:51] BindingDB_50278322: Warning - no explicit hydrogens in mol2 file but needed for formal charge estimation.\n",
      "RDKit WARNING: [22:12:51] BindingDB_26992: Warning - no explicit hydrogens in mol2 file but needed for formal charge estimation.\n",
      "RDKit WARNING: [22:12:53] BindingDB_26991: Warning - no explicit hydrogens in mol2 file but needed for formal charge estimation.\n",
      "RDKit WARNING: [22:12:56] BindingDB_26991: Warning - no explicit hydrogens in mol2 file but needed for formal charge estimation.\n",
      "RDKit WARNING: [22:12:56] BindingDB_26991: Warning - no explicit hydrogens in mol2 file but needed for formal charge estimation.\n",
      "RDKit WARNING: [22:12:56] BindingDB_26992: Warning - no explicit hydrogens in mol2 file but needed for formal charge estimation.\n"
     ]
    }
   ],
   "source": [
    "## Don't need to run this if you have already run the last cell\n",
    "bad_files = []\n",
    "for ms_df,measurement in meas_dfs:\n",
    "    ms_df['Reference'] = 0\n",
    "    ms_df['local file'] = ''\n",
    "    for recdir, group in ms_df.groupby('rec_ligscaff'):\n",
    "        max_tan = 0\n",
    "        sf = None\n",
    "        refmol = Chem.MolFromMolFile(f\"BDB_docked/{recdir}/{recdir.split('_')[1]}.sdf\",sanitize=False)\n",
    "        if refmol is None:\n",
    "            print(recdir)\n",
    "            (obabel[f\"BDB_docked/{recdir}/{recdir.split('_')[1]}.sdf\",\"-O\",f\"BDB_docked/{recdir}/{recdir.split('_')[1]}_ob.sdf\"])()\n",
    "            refmol = Chem.MolFromMol2File(f\"BDB_docked/{recdir}/{recdir.split('_')[1]}_ob.sdf\",sanitize=False)\n",
    "        ref_fp = Chem.RDKFingerprint(refmol)\n",
    "        for idx, row in group.iterrows():\n",
    "            filename = row['Structure File'].split('/')[-1]\n",
    "            compmol = Chem.MolFromMol2File(f\"ddg_dataset/{recdir}/{filename}\",sanitize=False)\n",
    "            comp_fp = Chem.RDKFingerprint(compmol)\n",
    "            Tan = DataStructs.TanimotoSimilarity(ref_fp,comp_fp)\n",
    "            if Tan > max_tan: ## assigning the reference to the molecule with the highest Tanimoto Sim to the molecule used in the fragment docking\n",
    "                max_tan = Tan\n",
    "                sf = row['Structure File']\n",
    "#         print(max_tan,ref_idx)\n",
    "        ms_df.loc[ms_df['Structure File'] == sf,'Reference'] = 1"
   ]
  },
  {
   "cell_type": "markdown",
   "metadata": {},
   "source": [
    "No bad files!"
   ]
  },
  {
   "cell_type": "code",
   "execution_count": 35,
   "metadata": {},
   "outputs": [],
   "source": [
    "# randos=[0,1,2,3,4]\n",
    "randos=[3,4]\n",
    "trainfile_names = [f'all_data_train_papersplit_rand{rand}_p' for rand in randos]\n",
    "testfile_names = [f'all_data_test_papersplit_rand{rand}_p' for rand in randos]\n",
    "trainfile = pd.DataFrame(columns=['class','reg','dg_lig1','dg_lig2','rec','lig1','lig2'])\n",
    "testfile = pd.DataFrame(columns=['class','reg','dg_lig1','dg_lig2','rec','lig1','lig2'])\n",
    "for i,random in enumerate(randos):\n",
    "    for addnl in range(1,7):\n",
    "        for ms_df,measurement in meas_dfs:\n",
    "            ms_df.reset_index(drop=True,inplace=True)\n",
    "            ms_df['fname'] = ms_df['Structure File'].apply(lambda x: x.split('/')[-1])\n",
    "            for rec, group in ms_df.groupby('rec_ligscaff'):\n",
    "                traingroupinfo=[]\n",
    "                testgroupinfo=[]\n",
    "                if not group['Reference'].sum(): ## have to make sure there is one reference structure per group (arbitrarily assigning the reference to the first row if it isn't already assigned)\n",
    "                    print(rec)\n",
    "                    continue\n",
    "                if len(group)-1 < addnl:\n",
    "                    train_group = pd.concat([group[(group['Reference'] == 1)],group[(group['Reference'] == 0)].sample(n=len(group)-1,random_state=random)])\n",
    "                else:\n",
    "                    train_group = pd.concat([group[(group['Reference'] == 1)],group[group['Reference'] == 0].sample(n=addnl,random_state=random)])\n",
    "                ## Training set first\n",
    "                for row1,row2 in list(permutations(train_group.index,2)):\n",
    "                    pmeas1 = -np.log10(group.loc[row1,measurement]*(1E-9)) ##all measurements in nM\n",
    "                    pmeas2 = -np.log10(group.loc[row2,measurement]*(1E-9))\n",
    "                    dif = float(pmeas1) - float(pmeas2)\n",
    "                    if dif == np.inf or dif == -np.inf or math.isnan(dif):\n",
    "                        continue\n",
    "                    try:\n",
    "                        cls = int(float(pmeas1) > float(pmeas2))\n",
    "                    except:\n",
    "                        print(train_group)\n",
    "                        break\n",
    "                    dg_lig1 = float(pmeas1)\n",
    "                    dg_lig2 = float(pmeas2)\n",
    "                    receptor = f\"{group.loc[row1,'rec_ligscaff']}/{group.loc[row1,'Receptor']}_0.gninatypes\"\n",
    "                    lig1 = f\"{group.loc[row1,'rec_ligscaff']}/{group.loc[row1,'fname'].split('.')[0]}_0.gninatypes\"\n",
    "                    lig2 = f\"{group.loc[row2,'rec_ligscaff']}/{group.loc[row2,'fname'].split('.')[0]}_0.gninatypes\"\n",
    "                    traingroupinfo.append([cls,dif,dg_lig1,dg_lig2,receptor,lig1,lig2])\n",
    "                # Test set. Using idea that can only compare to values that are in the training set (i.e. 'Known' values)\n",
    "                for row1,row2 in list(permutations(group.index,2)):\n",
    "                    if not (bool(row1 in train_group.index) ^ bool(row2 in train_group.index)): ##supposed to be xor\n",
    "                        continue\n",
    "                    pmeas1 = -np.log10(group.loc[row1,measurement]*(1E-9)) ##all measurements in nM\n",
    "                    pmeas2 = -np.log10(group.loc[row2,measurement]*(1E-9))\n",
    "                    dif = float(pmeas1) - float(pmeas2)\n",
    "                    if dif == np.inf or dif == -np.inf or math.isnan(dif):\n",
    "                        continue\n",
    "                    dg_lig1 = float(pmeas1)\n",
    "                    dg_lig2 = float(pmeas2)\n",
    "                    cls = int(float(pmeas1) > float(pmeas2))\n",
    "                    receptor = f\"{group.loc[row1,'rec_ligscaff']}/{group.loc[row1,'Receptor']}_R_0.gninatypes\"\n",
    "                    lig1 = f\"{group.loc[row1,'rec_ligscaff']}/{group.loc[row1,'fname'].split('.')[0]}_0.gninatypes\"\n",
    "                    lig2 = f\"{group.loc[row2,'rec_ligscaff']}/{group.loc[row2,'fname'].split('.')[0]}_0.gninatypes\"\n",
    "                    testgroupinfo.append([cls,dif,dg_lig1,dg_lig2,receptor,lig1,lig2])\n",
    "                group_df = pd.DataFrame(data=traingroupinfo,columns=['class','reg','dg_lig1','dg_lig2','rec','lig1','lig2'])\n",
    "                trainfile = trainfile.append(group_df,ignore_index=True)\n",
    "                tgroup_df = pd.DataFrame(data=testgroupinfo,columns=['class','reg','dg_lig1','dg_lig2','rec','lig1','lig2'])\n",
    "                testfile = testfile.append(tgroup_df,ignore_index=True)\n",
    "        trainfile.to_csv(f'{trainfile_names[i]}_{addnl}.types',header=False,index=False,sep=' ',float_format='%.4f')\n",
    "        testfile.to_csv(f'{testfile_names[i]}_{addnl}.types',header=False,index=False,sep=' ',float_format='%.4f')"
   ]
  },
  {
   "cell_type": "code",
   "execution_count": 34,
   "metadata": {},
   "outputs": [],
   "source": [
    "## Make a master file containing all pairs\n",
    "masterfile = pd.DataFrame(columns=['class','reg','dg_lig1','dg_lig2','rec','lig1','lig2'])\n",
    "for ms_df,measurement in meas_dfs:\n",
    "    ms_df.reset_index(drop=True,inplace=True)\n",
    "    ms_df['fname'] = ms_df['Structure File'].apply(lambda x: x.split('/')[-1])\n",
    "    for rec, group in ms_df.groupby('rec_ligscaff'):\n",
    "        groupinfo=[]\n",
    "        for row1,row2 in list(permutations(group.index,2)):\n",
    "            pmeas1 = -np.log10(group.loc[row1,measurement]*(1E-9)) ##all measurements in nM\n",
    "            pmeas2 = -np.log10(group.loc[row2,measurement]*(1E-9))\n",
    "            dif = float(pmeas1) - float(pmeas2)\n",
    "            if dif == np.inf or dif == -np.inf or math.isnan(dif):\n",
    "                continue\n",
    "            try:\n",
    "                cls = int(float(pmeas1) > float(pmeas2))\n",
    "            except:\n",
    "                print(train_group)\n",
    "                break\n",
    "            dg_lig1 = float(pmeas1)\n",
    "            dg_lig2 = float(pmeas2)\n",
    "            receptor = f\"{group.loc[row1,'rec_ligscaff']}/{group.loc[row1,'Receptor']}_0.gninatypes\"\n",
    "            lig1 = f\"{group.loc[row1,'rec_ligscaff']}/{group.loc[row1,'fname'].split('.')[0]}_0.gninatypes\"\n",
    "            lig2 = f\"{group.loc[row2,'rec_ligscaff']}/{group.loc[row2,'fname'].split('.')[0]}_0.gninatypes\"\n",
    "            groupinfo.append([cls,dif,dg_lig1,dg_lig2,receptor,lig1,lig2])\n",
    "        group_df = pd.DataFrame(data=groupinfo,columns=['class','reg','dg_lig1','dg_lig2','rec','lig1','lig2'])\n",
    "        masterfile = masterfile.append(group_df,ignore_index=True)\n",
    "masterfile.to_csv(f'all_newdata.types',header=False,index=False,sep=' ',float_format='%.4f')"
   ]
  },
  {
   "cell_type": "markdown",
   "metadata": {},
   "source": [
    "## PFAM Clustering"
   ]
  },
  {
   "cell_type": "code",
   "execution_count": 43,
   "metadata": {},
   "outputs": [],
   "source": [
    "pdb_pfam = pd.read_csv('/home/anm329/DDG/DDG/pdb_pfam_mapping.txt', sep='\\t',usecols=[0,1,4,5])\n",
    "has_pfam = set(pdb_pfam.PDB_ID.unique().tolist())"
   ]
  },
  {
   "cell_type": "code",
   "execution_count": 45,
   "metadata": {},
   "outputs": [
    {
     "name": "stdout",
     "output_type": "stream",
     "text": [
      "{'2H7P', '2H7I', '2H7L', '2H7M', '2H7N'}\n"
     ]
    }
   ],
   "source": [
    "missing = receptors - has_pfam\n",
    "print(missing)"
   ]
  },
  {
   "cell_type": "code",
   "execution_count": 53,
   "metadata": {},
   "outputs": [],
   "source": [
    "pfam_receptors = set(receptors)"
   ]
  },
  {
   "cell_type": "markdown",
   "metadata": {},
   "source": [
    "Just a case of obsolete PDBIDs"
   ]
  },
  {
   "cell_type": "code",
   "execution_count": 54,
   "metadata": {},
   "outputs": [
    {
     "name": "stdout",
     "output_type": "stream",
     "text": [
      "2H7P:4TZT\n",
      "2H7I:4U0J\n",
      "2H7L:4TRJ\n",
      "2H7M:4TZK\n",
      "2H7N:4U0K\n"
     ]
    }
   ],
   "source": [
    "for ms_df, _ in meas_dfs:\n",
    "    ms_df['pfam_PDBIDs'] = ms_df['Receptor']\n",
    "    relev_pdbids = ms_df['Receptor'].unique().tolist()\n",
    "    for rec in missing:\n",
    "        if not (rec in relev_pdbids):\n",
    "            continue\n",
    "        response = requests.get('https://www.rcsb.org/structure/{}'.format(rec))\n",
    "        soupyness = BeautifulSoup(response.content, 'html.parser')\n",
    "        newlig= soupyness.find(id='note_obsoletedBy')\n",
    "        newreceptor = newlig.find(href=re.compile('/structure/')).text\n",
    "        print(f'{rec}:{newreceptor}')\n",
    "        assert newreceptor in has_pfam\n",
    "        ms_df.loc[ms_df.Receptor == rec,'pfam_PDBIDs'] = newreceptor\n",
    "        pfam_receptors.remove(rec)\n",
    "        pfam_receptors.add(newreceptor)\n",
    "        "
   ]
  },
  {
   "cell_type": "code",
   "execution_count": 57,
   "metadata": {},
   "outputs": [
    {
     "name": "stdout",
     "output_type": "stream",
     "text": [
      "1316 162\n"
     ]
    }
   ],
   "source": [
    "relevant_pfams = pdb_pfam[pdb_pfam['PDB_ID'].isin(pfam_receptors)]\n",
    "print(len(relevant_pfams),len(relevant_pfams.PFAM_Name.unique()))"
   ]
  },
  {
   "cell_type": "code",
   "execution_count": 71,
   "metadata": {},
   "outputs": [],
   "source": [
    "def getDataFrame(information, measurement):\n",
    "    ## Uses permutations and gets absolute binding affinity information\n",
    "    information_list = []\n",
    "    for rec, group in information.groupby('Receptor'):\n",
    "        for idx1, idx2 in list(permutations(group.index,2)):\n",
    "            assert group.loc[idx1,'Receptor'] == group.loc[idx2,'Receptor']\n",
    "            pmeas1 = -np.log10(group.loc[idx1,measurement]*(1E-9)) ##all measurements in nM\n",
    "            pmeas2 = -np.log10(group.loc[idx2,measurement]*(1E-9))\n",
    "            regression = float(pmeas1) - float(pmeas2)\n",
    "            if regression == np.inf or regression == -np.inf or math.isnan(regression):\n",
    "                        continue\n",
    "            try:\n",
    "                classification = int(float(pmeas1) > float(pmeas2))\n",
    "            except:\n",
    "                print(group)\n",
    "                break\n",
    "            dg_lig1 = float(pmeas1)\n",
    "            dg_lig2 = float(pmeas2)\n",
    "            receptor = f\"{group.loc[idx1,'rec_ligscaff']}/{group.loc[idx1,'Receptor']}_0.gninatypes\"\n",
    "            lig1 = f\"{group.loc[idx1,'rec_ligscaff']}/{group.loc[idx1,'fname'].split('.')[0]}_0.gninatypes\"\n",
    "            lig2 = f\"{group.loc[idx2,'rec_ligscaff']}/{group.loc[idx2,'fname'].split('.')[0]}_0.gninatypes\"\n",
    "            information_list.append([classification, regression, dg_lig1, dg_lig2, receptor,lig1,lig2])\n",
    "    return pd.DataFrame(information_list,columns=['class','reg','dg_lig1','dg_lig2','rec','lig1','lig2'])"
   ]
  },
  {
   "cell_type": "code",
   "execution_count": 77,
   "metadata": {
    "scrolled": true
   },
   "outputs": [],
   "source": [
    "uniq_pfams = pd.Series(relevant_pfams['PFAM_Name'].unique().tolist())\n",
    "value_to_PFAM = dict()\n",
    "counter = 0\n",
    "for value in range(len(uniq_pfams)):\n",
    "    training_set_df = pd.DataFrame(columns=['class','reg','dg_lig1','dg_lig2','rec','lig1','lig2'])\n",
    "    testing_set_df = pd.DataFrame(columns=['class','reg','dg_lig1','dg_lig2','rec','lig1','lig2'])\n",
    "    for ms_df, meas in meas_dfs:\n",
    "        training_pfam = uniq_pfams.drop(value)\n",
    "        training_pdbids = relevant_pfams[relevant_pfams['PFAM_Name'].isin(training_pfam)]['PDB_ID'].unique()\n",
    "        testing_set = ms_df[~ms_df['pfam_PDBIDs'].isin(training_pdbids)]\n",
    "        training_set = ms_df[ms_df['pfam_PDBIDs'].isin(training_pdbids)]\n",
    "        training_set_df = training_set_df.append(getDataFrame(training_set,meas))\n",
    "        testing_set_df = testing_set_df.append(getDataFrame(testing_set,meas))\n",
    "        assert len(set(training_set_df.rec.unique().tolist()).intersection(set(testing_set_df.rec.unique().tolist()))) == 0\n",
    "    if not len(testing_set_df):\n",
    "            continue\n",
    "    value_to_PFAM[counter] = uniq_pfams[value]\n",
    "    counter += 1\n",
    "    training_set_df.to_csv(f'PFAM_CV/train_pfam_cv_{counter}.types',sep=' ', header=False,index=False)\n",
    "    testing_set_df.to_csv(f'PFAM_CV/test_pfam_cv_{counter}.types',sep=' ', header=False,index=False)"
   ]
  },
  {
   "cell_type": "code",
   "execution_count": 79,
   "metadata": {},
   "outputs": [],
   "source": [
    "with open('pfam_values_map.txt','w') as outfile:\n",
    "    outfile.write(f'Number Test_PFAM\\n')\n",
    "    for k, value in value_to_PFAM.items():\n",
    "        outfile.write(f'{k} {value}\\n')"
   ]
  },
  {
   "cell_type": "markdown",
   "metadata": {},
   "source": [
    "### May need to de-duplicate the ligands\n",
    "Not sure why, but some of the ligands for a receptor are the same molecule with a slightly different conformation"
   ]
  },
  {
   "cell_type": "code",
   "execution_count": 40,
   "metadata": {
    "scrolled": true
   },
   "outputs": [
    {
     "name": "stderr",
     "output_type": "stream",
     "text": [
      "RDKit WARNING: [14:24:42] BindingDB_26991: Warning - no explicit hydrogens in mol2 file but needed for formal charge estimation.\n",
      "RDKit WARNING: [14:24:42] BindingDB_26992: Warning - no explicit hydrogens in mol2 file but needed for formal charge estimation.\n",
      "RDKit WARNING: [14:24:42] BindingDB_50278322: Warning - no explicit hydrogens in mol2 file but needed for formal charge estimation.\n",
      "RDKit WARNING: [14:24:43] BindingDB_50278322: Warning - no explicit hydrogens in mol2 file but needed for formal charge estimation.\n",
      "RDKit WARNING: [14:24:43] BindingDB_26991: Warning - no explicit hydrogens in mol2 file but needed for formal charge estimation.\n",
      "RDKit WARNING: [14:24:43] BindingDB_26991: Warning - no explicit hydrogens in mol2 file but needed for formal charge estimation.\n",
      "RDKit WARNING: [14:24:43] BindingDB_50278322: Warning - no explicit hydrogens in mol2 file but needed for formal charge estimation.\n",
      "RDKit WARNING: [14:24:44] BindingDB_50278322: Warning - no explicit hydrogens in mol2 file but needed for formal charge estimation.\n",
      "RDKit WARNING: [14:24:44] BindingDB_26992: Warning - no explicit hydrogens in mol2 file but needed for formal charge estimation.\n",
      "RDKit WARNING: [14:24:44] BindingDB_26991: Warning - no explicit hydrogens in mol2 file but needed for formal charge estimation.\n",
      "RDKit WARNING: [14:24:44] BindingDB_50278322: Warning - no explicit hydrogens in mol2 file but needed for formal charge estimation.\n",
      "RDKit WARNING: [14:24:44] BindingDB_26991: Warning - no explicit hydrogens in mol2 file but needed for formal charge estimation.\n",
      "RDKit WARNING: [14:24:44] BindingDB_26992: Warning - no explicit hydrogens in mol2 file but needed for formal charge estimation.\n",
      "RDKit WARNING: [14:24:44] BindingDB_50278322: Warning - no explicit hydrogens in mol2 file but needed for formal charge estimation.\n",
      "RDKit WARNING: [14:24:44] BindingDB_26992: Warning - no explicit hydrogens in mol2 file but needed for formal charge estimation.\n",
      "RDKit WARNING: [14:24:44] BindingDB_26991: Warning - no explicit hydrogens in mol2 file but needed for formal charge estimation.\n",
      "RDKit WARNING: [14:24:45] BindingDB_26991: Warning - no explicit hydrogens in mol2 file but needed for formal charge estimation.\n",
      "RDKit WARNING: [14:24:45] BindingDB_26991: Warning - no explicit hydrogens in mol2 file but needed for formal charge estimation.\n",
      "RDKit WARNING: [14:24:45] BindingDB_26992: Warning - no explicit hydrogens in mol2 file but needed for formal charge estimation.\n",
      "RDKit WARNING: [14:24:45] BindingDB_50278322: Warning - no explicit hydrogens in mol2 file but needed for formal charge estimation.\n",
      "RDKit WARNING: [14:24:45] BindingDB_26991: Warning - no explicit hydrogens in mol2 file but needed for formal charge estimation.\n",
      "RDKit WARNING: [14:24:46] BindingDB_26991: Warning - no explicit hydrogens in mol2 file but needed for formal charge estimation.\n"
     ]
    }
   ],
   "source": [
    "check_directories = []\n",
    "for directory in glob('ddg_dataset/*_*'):\n",
    "    file_list = glob(f\"{directory}/*-results_*.mol2\")\n",
    "    inchi_list = []\n",
    "    for molfile in glob(f\"{directory}/*-results_*.mol2\"):\n",
    "        inchi_list.append(Chem.MolToSmiles(Chem.MolFromMol2File(molfile,sanitize=False),canonical=True))\n",
    "    if len(set(inchi_list)) != len(file_list):\n",
    "#         print(f\"{directory.split('/')[-1]}\")\n",
    "        check_directories.append(f\"{directory.split('/')[-1]}\")"
   ]
  },
  {
   "cell_type": "code",
   "execution_count": 44,
   "metadata": {},
   "outputs": [],
   "source": [
    "inchi_dict = dict()\n",
    "for molfile in glob(f\"ddg_dataset/{check_directories[0]}/*-results_*.mol2\"):\n",
    "        inchi_dict[molfile] = Chem.MolToSmiles(Chem.MolFromMol2File(molfile,sanitize=False),canonical=True)"
   ]
  },
  {
   "cell_type": "code",
   "execution_count": 51,
   "metadata": {},
   "outputs": [
    {
     "name": "stdout",
     "output_type": "stream",
     "text": [
      "ddg_dataset/3AYK_CGS/3AYK-results_11355.mol2\n",
      "ddg_dataset/3AYK_CGS/3AYK-results_50066658.mol2\n"
     ]
    }
   ],
   "source": [
    "setOfElems = set()\n",
    "for key, elem in inchi_dict.items():\n",
    "    if elem in setOfElems:\n",
    "        print(key)\n",
    "    else:\n",
    "        setOfElems.add(elem)         "
   ]
  },
  {
   "cell_type": "code",
   "execution_count": 52,
   "metadata": {},
   "outputs": [
    {
     "name": "stdout",
     "output_type": "stream",
     "text": [
      "['ddg_dataset/3AYK_CGS/3AYK-results_50088095.mol2', 'ddg_dataset/3AYK_CGS/3AYK-results_11355.mol2']\n"
     ]
    }
   ],
   "source": [
    "print([k for k,v in inchi_dict.items() if v == inchi_dict['ddg_dataset/3AYK_CGS/3AYK-results_11355.mol2']])"
   ]
  },
  {
   "cell_type": "markdown",
   "metadata": {},
   "source": [
    "# Build several new sets\n",
    "These sets will consist of a random sample of the ligands with multiple values\n",
    "This will allow the building of an ensemble of models which can produce both a mean and variance to show the likelihood of the prediction being correct"
   ]
  },
  {
   "cell_type": "markdown",
   "metadata": {},
   "source": [
    "Only going to use IC50 values for now to check if the ensembling idea works successfully"
   ]
  },
  {
   "cell_type": "code",
   "execution_count": null,
   "metadata": {},
   "outputs": [],
   "source": [
    "## Try to create a random split\n",
    "for rec, group in ic50_rm_mt1_meas.groupby('Receptor'):\n",
    "    print(rec)\n",
    "    # check if the receptor has any ligands with more than 1 IC50 measurement\n",
    "    rec_mt1_meas = ic50_mt1_meas[ic50_mt1_meas['Receptor'] == rec]\n",
    "    if len(rec_mt1_meas):\n",
    "        print(f'{rec} has {len(rec_mt1_meas)} with more than 1 meas')"
   ]
  },
  {
   "cell_type": "code",
   "execution_count": null,
   "metadata": {},
   "outputs": [],
   "source": [
    "ic50_mt1_meas[ic50_mt1_meas['Receptor'] == '11GS']"
   ]
  },
  {
   "cell_type": "code",
   "execution_count": null,
   "metadata": {},
   "outputs": [],
   "source": [
    "for idx, lig in ic50_mt1_meas[ic50_mt1_meas['Receptor'] == '11GS'].iterrows():\n",
    "    print(len(lig['split IC50(nM)']))\n",
    "    choice = np.random.choice(range(len(lig['split IC50(nM)'])),1).item()\n",
    "    print([lig['Compound'],lig['Structure File'],lig['split IC50(nM)'][choice],lig['Receptor'],lig['Ligand ID']])\n",
    "#     print(lig['split IC50(nM)'][choice])"
   ]
  },
  {
   "cell_type": "code",
   "execution_count": null,
   "metadata": {},
   "outputs": [],
   "source": [
    "test_mt1 = ic50_mt1_meas[ic50_mt1_meas['Receptor'] == '1AO8']\n",
    "choice = np.random.choice(test_mt1['split IC50(nM)'].str.len)"
   ]
  },
  {
   "cell_type": "code",
   "execution_count": null,
   "metadata": {},
   "outputs": [],
   "source": [
    "test_mt1['split IC50(nM)'].str.len().values"
   ]
  },
  {
   "cell_type": "code",
   "execution_count": null,
   "metadata": {},
   "outputs": [],
   "source": []
  }
 ],
 "metadata": {
  "kernelspec": {
   "display_name": "Python 3",
   "language": "python",
   "name": "python3"
  },
  "language_info": {
   "codemirror_mode": {
    "name": "ipython",
    "version": 3
   },
   "file_extension": ".py",
   "mimetype": "text/x-python",
   "name": "python",
   "nbconvert_exporter": "python",
   "pygments_lexer": "ipython3",
   "version": "3.7.6"
  }
 },
 "nbformat": 4,
 "nbformat_minor": 4
}
