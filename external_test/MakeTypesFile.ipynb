{
 "cells": [
  {
   "cell_type": "code",
   "execution_count": 1,
   "metadata": {},
   "outputs": [],
   "source": [
    "import pandas as pd\n",
    "import numpy as np\n",
    "import matplotlib.pyplot as plt\n",
    "from glob import glob\n",
    "import rdkit.Chem.AllChem as Chem\n",
    "from itertools import permutations\n",
    "import math\n",
    "%matplotlib inline"
   ]
  },
  {
   "cell_type": "code",
   "execution_count": 2,
   "metadata": {
    "scrolled": true
   },
   "outputs": [
    {
     "name": "stderr",
     "output_type": "stream",
     "text": [
      "/home/anm329/anaconda3/envs/RDK/lib/python3.8/site-packages/openpyxl/worksheet/_reader.py:300: UserWarning: Unknown extension is not supported and will be removed\n",
      "  warn(msg)\n"
     ]
    }
   ],
   "source": [
    "DG_data = pd.read_excel('ja512751q_si_003.xlsx',sheet_name=1,engine='openpyxl')\n",
    "DG_data.dropna(0,how='all',inplace=True)"
   ]
  },
  {
   "cell_type": "code",
   "execution_count": 3,
   "metadata": {},
   "outputs": [
    {
     "name": "stdout",
     "output_type": "stream",
     "text": [
      "CDK2,37\n",
      "JNK1,54\n",
      "MCL1,76\n",
      "P38,119\n",
      "Thrombin,154\n",
      "Tyk2,166\n",
      "PTP1B,183\n"
     ]
    }
   ],
   "source": [
    "system_names = []\n",
    "for idx, row in DG_data.iterrows():\n",
    "    if pd.notna(row['Systems']):\n",
    "        if idx != 0:\n",
    "            print(f\"{row['Systems']},{idx}\")\n",
    "            system_names.append((prev_sys,idx-1))\n",
    "        prev_sys = row['Systems']\n",
    "system_names.append((prev_sys,idx))"
   ]
  },
  {
   "cell_type": "code",
   "execution_count": 4,
   "metadata": {},
   "outputs": [],
   "source": [
    "prev_last = 0\n",
    "for name,last_row in system_names:\n",
    "    if name == 'Tyk2':\n",
    "        name = 'TYK2'\n",
    "    DG_data.at[prev_last:last_row,'Systems'] = name\n",
    "    prev_last = last_row"
   ]
  },
  {
   "cell_type": "code",
   "execution_count": 5,
   "metadata": {},
   "outputs": [],
   "source": [
    "ligand_map = dict()\n",
    "for system,_ in system_names:\n",
    "    if system == 'Tyk2':\n",
    "        system = 'TYK2'\n",
    "    for file in glob(f'{system}/*_LIG*.sdf'):\n",
    "        mol = Chem.MolFromMolFile(file)\n",
    "        lig_name = mol.GetProp('_Name')\n",
    "        ligand_map[f\"{system} {lig_name}\"] = file"
   ]
  },
  {
   "cell_type": "code",
   "execution_count": 6,
   "metadata": {},
   "outputs": [],
   "source": [
    "DG_data['lig'] = [f\"{x} {y}\" for x, y in zip(DG_data['Systems'], DG_data['Ligand'])]\n",
    "DG_data['lig']=DG_data['lig'].map(ligand_map)"
   ]
  },
  {
   "cell_type": "markdown",
   "metadata": {},
   "source": [
    "We need to go from $\\Delta G_{Exp}$ to pIC$_{50}$ and we have $\\Delta G_{Exp}=RT\\ln(\\mathrm{IC}_{50})$\n",
    "\n",
    "Therefore:\n",
    "\n",
    "$\\mathrm{pIC}_{50} = -\\log_{10}(e^{\\Delta G_{Exp}/(RT)})$"
   ]
  },
  {
   "cell_type": "code",
   "execution_count": 7,
   "metadata": {},
   "outputs": [],
   "source": [
    "# Given in the paper\n",
    "R=1.98720425864083E-3\n",
    "T=297"
   ]
  },
  {
   "cell_type": "code",
   "execution_count": 8,
   "metadata": {},
   "outputs": [],
   "source": [
    "DG_data['pIC50'] = DG_data['Exp. dG'].apply(lambda x: -np.log10(np.exp(x/(R*T))))"
   ]
  },
  {
   "cell_type": "code",
   "execution_count": 10,
   "metadata": {},
   "outputs": [],
   "source": [
    "dg_grouped = DG_data.groupby('Systems')\n",
    "full_types_list = []\n",
    "for rec, group in dg_grouped:\n",
    "    for idx1, idx2 in list(permutations(group.index,2)):\n",
    "        regression = float(group.loc[idx1,'pIC50']) - float(group.loc[idx2,'pIC50']) \n",
    "        if regression == np.inf or regression == -np.inf or math.isnan(regression):\n",
    "            continue  \n",
    "        try:   \n",
    "            classification = int(float(group.loc[idx1,'pIC50']) > float(group.loc[idx2,'pIC50']))\n",
    "        except:\n",
    "            print(train_group)\n",
    "            break\n",
    "        dg_lig1 = float(group.loc[idx1,'pIC50'])\n",
    "        dg_lig2 = float(group.loc[idx2,'pIC50'])\n",
    "        receptor = f\"{rec}/{rec}_PROT.pdb\"   \n",
    "        lig1 = f\"{group.loc[idx1,'lig']}\"   \n",
    "        lig2 = f\"{group.loc[idx2,'lig']}\"\n",
    "        full_types_list.append([classification, regression, dg_lig1, dg_lig2, receptor,lig1,lig2]) \n",
    "full_types_df_best = pd.DataFrame(full_types_list,columns=['class','reg','dg_lig1','dg_lig2','rec','lig1','lig2'])\n",
    "#full_types_df_best.to_csv('all_bdb_types_perm_mult.types',sep=' ',header=False,index=False)\"    \n",
    "    "
   ]
  },
  {
   "cell_type": "code",
   "execution_count": 11,
   "metadata": {},
   "outputs": [],
   "source": [
    "for rec in full_types_df_best['rec'].unique():\n",
    "    rec_subdf = full_types_df_best[full_types_df_best['rec'] == rec]\n",
    "    rec_name = rec.split('/')[0]\n",
    "    rec_subdf.to_csv(f\"{rec_name}/{rec_name}_DDG.types\",sep=' ',header=False,index=False,float_format='%.4f')"
   ]
  },
  {
   "cell_type": "code",
   "execution_count": null,
   "metadata": {},
   "outputs": [],
   "source": []
  }
 ],
 "metadata": {
  "kernelspec": {
   "display_name": "RDK",
   "language": "python",
   "name": "rdk"
  },
  "language_info": {
   "codemirror_mode": {
    "name": "ipython",
    "version": 3
   },
   "file_extension": ".py",
   "mimetype": "text/x-python",
   "name": "python",
   "nbconvert_exporter": "python",
   "pygments_lexer": "ipython3",
   "version": "3.8.4"
  }
 },
 "nbformat": 4,
 "nbformat_minor": 4
}
