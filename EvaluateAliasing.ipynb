{
 "cells": [
  {
   "cell_type": "code",
   "execution_count": 1,
   "metadata": {},
   "outputs": [],
   "source": [
    "import re    \n",
    "import molgrid    \n",
    "import numpy as np    \n",
    "import torch    \n",
    "import torch.nn as nn    \n",
    "import torch.nn.functional as F    \n",
    "import torch.optim as optim    \n",
    "from torch.nn import init    \n",
    "from torch import autograd    \n",
    "import wandb    \n",
    "import argparse    \n",
    "from scipy.stats import pearsonr    \n",
    "import matplotlib.pyplot as plt    \n",
    "import matplotlib as mpl\n",
    "from glob import glob\n",
    "from argparse import Namespace"
   ]
  },
  {
   "cell_type": "code",
   "execution_count": 102,
   "metadata": {},
   "outputs": [],
   "source": [
    "batch_size=2\n",
    "dropout = 0\n",
    "# Using test because it is a smaller set\n",
    "ligtr = 'cache/lig_full_bdb.molcache2'\n",
    "rectr = 'cache/rec_full_bdb.molcache2'\n",
    "trainfile='tmp/refined.types'\n",
    "dataroot='/home/anm329/Docking/refined_set_input/'\n",
    "args = Namespace(dropout=0,hidden_size=0)"
   ]
  },
  {
   "cell_type": "code",
   "execution_count": 110,
   "metadata": {},
   "outputs": [],
   "source": [
    "train_samples = molgrid.ExampleProvider(ligmolcache=ligtr,recmolcache=rectr,\n",
    "                                        shuffle=False, duplicate_first=True,\n",
    "                                        data_root=dataroot,\n",
    "                                        default_batch_size=batch_size,iteration_scheme=molgrid.IterationScheme.SmallEpoch)\n",
    "train_samples.populate(trainfile)"
   ]
  },
  {
   "cell_type": "code",
   "execution_count": 4,
   "metadata": {},
   "outputs": [],
   "source": [
    "gmaker = molgrid.GridMaker()\n",
    "dims = gmaker.grid_dimensions(14*2)\n",
    "tensor_shape = (batch_size,) + dims\n",
    "# model = Net(actual_dims,dropout)\n",
    "# print(actual_dims,dims)"
   ]
  },
  {
   "cell_type": "code",
   "execution_count": 5,
   "metadata": {},
   "outputs": [],
   "source": [
    "input_tensor_1 = torch.zeros(dims, dtype=torch.float32)\n",
    "input_tensor_2 =  torch.zeros(tensor_shape, dtype=torch.float32)\n",
    "dg1_labels = torch.zeros(batch_size,dtype=torch.float32)"
   ]
  },
  {
   "cell_type": "code",
   "execution_count": 6,
   "metadata": {},
   "outputs": [],
   "source": [
    "import sys\n",
    "sys.path.append('/home/anm329/git/models/pytorch/')\n",
    "from dense_model import Dense as Net"
   ]
  },
  {
   "cell_type": "code",
   "execution_count": 7,
   "metadata": {
    "scrolled": true
   },
   "outputs": [
    {
     "data": {
      "text/plain": [
       "<All keys matched successfully>"
      ]
     },
     "execution_count": 7,
     "metadata": {},
     "output_type": "execute_result"
    }
   ],
   "source": [
    "model = Net(dims,args)\n",
    "pretrained_state_dict = torch.load(\"gnina_weights/dense_model.pt\")\n",
    "model_dict = model.state_dict()\n",
    "pretrained_state_dict['fc.weight'] = pretrained_state_dict.pop('affinity_output.weight')\n",
    "pretrained_state_dict['fc.bias'] = pretrained_state_dict.pop('affinity_output.bias')\n",
    "pretrained_dict = {k: v for k, v in pretrained_state_dict.items() if k in model_dict}\n",
    "model_dict.update(pretrained_dict)\n",
    "model.load_state_dict(model_dict)"
   ]
  },
  {
   "cell_type": "code",
   "execution_count": 129,
   "metadata": {},
   "outputs": [],
   "source": [
    "ex = train_samples.next()\n",
    "lig1_labels = torch.tensor(ex.labels[0]).unsqueeze(0)\n",
    "center = ex.coord_sets[1].center()\n",
    "# batch = train_samples.next_batch()\n",
    "# batch.extract_label(0,dg1_labels)\n",
    "# lig1_labels = dg1_labels"
   ]
  },
  {
   "cell_type": "code",
   "execution_count": 130,
   "metadata": {},
   "outputs": [
    {
     "name": "stderr",
     "output_type": "stream",
     "text": [
      "<ipython-input-130-86db8a653ebb>:9: UserWarning: Using a target size (torch.Size([])) that is different to the input size (torch.Size([1])). This will likely lead to incorrect results due to broadcasting. Please ensure they have the same size.\n",
      "  sq_e = nn.functional.mse_loss(pred_dg[0],lig1_labels[0],reduction='none')\n"
     ]
    }
   ],
   "source": [
    "loss_dict = dict()\n",
    "t1 = molgrid.Transform()\n",
    "for val in np.linspace(0,1,num=100):\n",
    "    t1.set_translation((val,0,0))\n",
    "    gmaker.forward(ex, t1, input_tensor_1)\n",
    "    # gmaker.forward(batch, input_tensor_2)\n",
    "    # fr_complex = input_tensor_1.unsqueeze(0)\n",
    "    pred_dg = model(input_tensor_1.unsqueeze(0))\n",
    "    sq_e = nn.functional.mse_loss(pred_dg[0],lig1_labels[0],reduction='none')\n",
    "    loss_dict[val] = sq_e.item()"
   ]
  },
  {
   "cell_type": "code",
   "execution_count": 131,
   "metadata": {},
   "outputs": [
    {
     "data": {
      "text/plain": [
       "Text(0, 0.5, 'Squared Error')"
      ]
     },
     "execution_count": 131,
     "metadata": {},
     "output_type": "execute_result"
    },
    {
     "data": {
      "image/png": "[encoded data removed]",
      "text/plain": [
       "<Figure size 432x288 with 1 Axes>"
      ]
     },
     "metadata": {
      "needs_background": "light"
     },
     "output_type": "display_data"
    }
   ],
   "source": [
    "plt.plot(loss_dict.keys(),loss_dict.values())\n",
    "plt.xlabel('translation along x')\n",
    "plt.ylabel('Squared Error')"
   ]
  },
  {
   "cell_type": "code",
   "execution_count": 94,
   "metadata": {
    "scrolled": true
   },
   "outputs": [
    {
     "name": "stderr",
     "output_type": "stream",
     "text": [
      "<ipython-input-94-8435060b0d60>:10: UserWarning: Using a target size (torch.Size([])) that is different to the input size (torch.Size([1])). This will likely lead to incorrect results due to broadcasting. Please ensure they have the same size.\n",
      "  sq_e = nn.functional.mse_loss(pred_dg[0],lig1_labels[0],reduction='none')\n"
     ]
    }
   ],
   "source": [
    "loss_dict = dict()\n",
    "pred_dict = dict()\n",
    "t1 = molgrid.Transform()\n",
    "for val in np.linspace(0,2,num=200):\n",
    "    t1.set_translation((0,val,0))\n",
    "    gmaker.forward(ex, t1, input_tensor_1)\n",
    "    # gmaker.forward(batch, input_tensor_2)\n",
    "    # fr_complex = input_tensor_1.unsqueeze(0)\n",
    "    pred_dg = model(input_tensor_1.unsqueeze(0))\n",
    "    sq_e = nn.functional.mse_loss(pred_dg[0],lig1_labels[0],reduction='none')\n",
    "    loss_dict[val] = sq_e.item()\n",
    "    pred_dict[val] = pred_dg[0].item()"
   ]
  },
  {
   "cell_type": "code",
   "execution_count": 101,
   "metadata": {},
   "outputs": [
    {
     "data": {
      "text/plain": [
       "Text(0, 0.5, 'Prediction')"
      ]
     },
     "execution_count": 101,
     "metadata": {},
     "output_type": "execute_result"
    },
    {
     "data": {
      "image/png": "[encoded data removed]",
      "text/plain": [
       "<Figure size 432x288 with 2 Axes>"
      ]
     },
     "metadata": {
      "needs_background": "light"
     },
     "output_type": "display_data"
    }
   ],
   "source": [
    "fig,ax = plt.subplots(2,1,sharex=True)\n",
    "ax[0].plot(loss_dict.keys(),loss_dict.values())\n",
    "ax[0].set_ylabel('Squared Error')\n",
    "ax[1].plot(loss_dict.keys(),pred_dict.values())\n",
    "ax[1].axhline(lig1_labels[0].item(),c='r',ls='--')\n",
    "plt.xlabel('translation along y')\n",
    "plt.ylabel('Prediction')"
   ]
  },
  {
   "cell_type": "code",
   "execution_count": 96,
   "metadata": {},
   "outputs": [
    {
     "name": "stdout",
     "output_type": "stream",
     "text": [
      "3.757629632949829\n"
     ]
    }
   ],
   "source": [
    "print(pred_dg[0].item())"
   ]
  },
  {
   "cell_type": "code",
   "execution_count": 68,
   "metadata": {},
   "outputs": [
    {
     "name": "stderr",
     "output_type": "stream",
     "text": [
      "<ipython-input-68-0b8e494c8202>:9: UserWarning: Using a target size (torch.Size([])) that is different to the input size (torch.Size([1])). This will likely lead to incorrect results due to broadcasting. Please ensure they have the same size.\n",
      "  sq_e = nn.functional.mse_loss(pred_dg[0],lig1_labels[0],reduction='none')\n"
     ]
    }
   ],
   "source": [
    "loss_dict = dict()\n",
    "t1 = molgrid.Transform()\n",
    "for val in np.linspace(0,2,num=200):\n",
    "    t1.set_translation((0,0,val))\n",
    "    gmaker.forward(ex, t1, input_tensor_1)\n",
    "    # gmaker.forward(batch, input_tensor_2)\n",
    "    # fr_complex = input_tensor_1.unsqueeze(0)\n",
    "    pred_dg = model(input_tensor_1.unsqueeze(0))\n",
    "    sq_e = nn.functional.mse_loss(pred_dg[0],lig1_labels[0],reduction='none')\n",
    "    loss_dict[val] = sq_e.item()"
   ]
  },
  {
   "cell_type": "code",
   "execution_count": 69,
   "metadata": {},
   "outputs": [
    {
     "data": {
      "text/plain": [
       "Text(0, 0.5, 'Squared Error')"
      ]
     },
     "execution_count": 69,
     "metadata": {},
     "output_type": "execute_result"
    },
    {
     "data": {
      "image/png": "[encoded data removed]",
      "text/plain": [
       "<Figure size 432x288 with 1 Axes>"
      ]
     },
     "metadata": {
      "needs_background": "light"
     },
     "output_type": "display_data"
    }
   ],
   "source": [
    "plt.plot(loss_dict.keys(),loss_dict.values())\n",
    "plt.xlabel('translation along y')\n",
    "plt.ylabel('Squared Error')"
   ]
  },
  {
   "cell_type": "code",
   "execution_count": 88,
   "metadata": {
    "scrolled": true
   },
   "outputs": [
    {
     "name": "stderr",
     "output_type": "stream",
     "text": [
      "<ipython-input-88-eb9918d633f5>:16: UserWarning: Using a target size (torch.Size([])) that is different to the input size (torch.Size([1])). This will likely lead to incorrect results due to broadcasting. Please ensure they have the same size.\n",
      "  sq_e = nn.functional.mse_loss(pred_dg[0],lig1_labels[0],reduction='none')\n"
     ]
    },
    {
     "ename": "IndexError",
     "evalue": "index 50 is out of bounds for axis 1 with size 50",
     "output_type": "error",
     "traceback": [
      "\u001b[0;31m---------------------------------------------------------------------------\u001b[0m",
      "\u001b[0;31mIndexError\u001b[0m                                Traceback (most recent call last)",
      "\u001b[0;32m<ipython-input-88-eb9918d633f5>\u001b[0m in \u001b[0;36m<module>\u001b[0;34m\u001b[0m\n\u001b[1;32m     15\u001b[0m         \u001b[0mpred_dg\u001b[0m \u001b[0;34m=\u001b[0m \u001b[0mmodel\u001b[0m\u001b[0;34m(\u001b[0m\u001b[0minput_tensor_1\u001b[0m\u001b[0;34m.\u001b[0m\u001b[0munsqueeze\u001b[0m\u001b[0;34m(\u001b[0m\u001b[0;36m0\u001b[0m\u001b[0;34m)\u001b[0m\u001b[0;34m)\u001b[0m\u001b[0;34m\u001b[0m\u001b[0;34m\u001b[0m\u001b[0m\n\u001b[1;32m     16\u001b[0m         \u001b[0msq_e\u001b[0m \u001b[0;34m=\u001b[0m \u001b[0mnn\u001b[0m\u001b[0;34m.\u001b[0m\u001b[0mfunctional\u001b[0m\u001b[0;34m.\u001b[0m\u001b[0mmse_loss\u001b[0m\u001b[0;34m(\u001b[0m\u001b[0mpred_dg\u001b[0m\u001b[0;34m[\u001b[0m\u001b[0;36m0\u001b[0m\u001b[0;34m]\u001b[0m\u001b[0;34m,\u001b[0m\u001b[0mlig1_labels\u001b[0m\u001b[0;34m[\u001b[0m\u001b[0;36m0\u001b[0m\u001b[0;34m]\u001b[0m\u001b[0;34m,\u001b[0m\u001b[0mreduction\u001b[0m\u001b[0;34m=\u001b[0m\u001b[0;34m'none'\u001b[0m\u001b[0;34m)\u001b[0m\u001b[0;34m\u001b[0m\u001b[0;34m\u001b[0m\u001b[0m\n\u001b[0;32m---> 17\u001b[0;31m         \u001b[0merr\u001b[0m\u001b[0;34m[\u001b[0m\u001b[0mitx\u001b[0m\u001b[0;34m.\u001b[0m\u001b[0mindex\u001b[0m\u001b[0;34m,\u001b[0m\u001b[0mity\u001b[0m\u001b[0;34m.\u001b[0m\u001b[0mindex\u001b[0m\u001b[0;34m]\u001b[0m \u001b[0;34m=\u001b[0m \u001b[0msq_e\u001b[0m\u001b[0;34m\u001b[0m\u001b[0;34m\u001b[0m\u001b[0m\n\u001b[0m",
      "\u001b[0;31mIndexError\u001b[0m: index 50 is out of bounds for axis 1 with size 50"
     ]
    }
   ],
   "source": [
    "loss_dict = dict()\n",
    "t1 = molgrid.Transform()\n",
    "nx = np.linspace(0,1,num=50)\n",
    "ny = np.linspace(0,1,num=50)\n",
    "xv, yv = np.meshgrid(nx,ny)\n",
    "err = np.zeros(xv.shape)\n",
    "itx = np.nditer(xv,flags=['c_index'])\n",
    "ity = np.nditer(yv,flags=['c_index'])\n",
    "for x in itx:\n",
    "    for y in ity:\n",
    "        t1.set_translation((float(x),float(y),0))\n",
    "        gmaker.forward(ex, t1, input_tensor_1)\n",
    "        # gmaker.forward(batch, input_tensor_2)\n",
    "        # fr_complex = input_tensor_1.unsqueeze(0)\n",
    "        pred_dg = model(input_tensor_1.unsqueeze(0))\n",
    "        sq_e = nn.functional.mse_loss(pred_dg[0],lig1_labels[0],reduction='none')\n",
    "        err[itx.index,ity.index] = sq_e"
   ]
  },
  {
   "cell_type": "code",
   "execution_count": 84,
   "metadata": {},
   "outputs": [
    {
     "data": {
      "text/plain": [
       "(50, 50)"
      ]
     },
     "execution_count": 84,
     "metadata": {},
     "output_type": "execute_result"
    }
   ],
   "source": [
    "yv.shape"
   ]
  },
  {
   "cell_type": "code",
   "execution_count": null,
   "metadata": {},
   "outputs": [],
   "source": [
    "plt.plot(loss_dict.keys(),loss_dict.values())\n",
    "plt.xlabel('translation along y')\n",
    "plt.ylabel('Squared Error')"
   ]
  },
  {
   "cell_type": "code",
   "execution_count": 64,
   "metadata": {},
   "outputs": [],
   "source": [
    "rotation_loss = nn.functional.mse_loss(lig1_rep1, lig1_rep2)\n",
    "rotation_loss += nn.functional.mse_loss(lig2_rep1, lig2_rep2)\n",
    "rotation_loss += nn.functional.mse_loss(lig3_rep1, lig3_rep2)\n",
    "loss_lig1 = torch.mean(ind_1 * nn.functional.mse_loss(lig1, lig1_labels, reduction='none'))\n",
    "loss_lig2 = torch.mean(ind_2 * nn.functional.mse_loss(lig2, lig2_labels, reduction='none'))\n",
    "loss_lig3 = torch.mean(ind_3 * nn.functional.mse_loss(lig3, lig3_labels, reduction='none'))\n",
    "ddg1_loss = torch.mean((ind_1 * ind_2) * nn.functional.mse_loss(ddg1, diff1_labels, reduction='none'))\n",
    "ddg2_loss = torch.mean((ind_2 * ind_3) * nn.functional.mse_loss(ddg2, diff2_labels, reduction='none'))\n",
    "ddg3_loss = torch.mean((ind_3 * ind_1) * nn.functional.mse_loss(ddg3, diff3_labels, reduction='none'))\n",
    "cycle_consistency = nn.functional.mse_loss((ddg1-ddg2-ddg3),torch.zeros((batch_size,1)))"
   ]
  },
  {
   "cell_type": "code",
   "execution_count": 65,
   "metadata": {},
   "outputs": [
    {
     "name": "stdout",
     "output_type": "stream",
     "text": [
      "tensor([[1.],\n",
      "        [1.]])\n",
      "tensor([[1.],\n",
      "        [1.]])\n",
      "tensor([[1.],\n",
      "        [1.]])\n"
     ]
    }
   ],
   "source": [
    "print(ind_1)\n",
    "print(ind_2)\n",
    "print(ind_3)"
   ]
  },
  {
   "cell_type": "code",
   "execution_count": 66,
   "metadata": {},
   "outputs": [
    {
     "data": {
      "text/plain": [
       "tensor(38.1093, grad_fn=<MeanBackward0>)"
      ]
     },
     "execution_count": 66,
     "metadata": {},
     "output_type": "execute_result"
    }
   ],
   "source": [
    "loss_lig1"
   ]
  },
  {
   "cell_type": "code",
   "execution_count": 67,
   "metadata": {},
   "outputs": [
    {
     "data": {
      "text/plain": [
       "tensor(29.4854, grad_fn=<MeanBackward0>)"
      ]
     },
     "execution_count": 67,
     "metadata": {},
     "output_type": "execute_result"
    }
   ],
   "source": [
    "loss_lig2"
   ]
  },
  {
   "cell_type": "code",
   "execution_count": 68,
   "metadata": {},
   "outputs": [
    {
     "data": {
      "text/plain": [
       "tensor(29.4850, grad_fn=<MeanBackward0>)"
      ]
     },
     "execution_count": 68,
     "metadata": {},
     "output_type": "execute_result"
    }
   ],
   "source": [
    "loss_lig3"
   ]
  },
  {
   "cell_type": "code",
   "execution_count": 69,
   "metadata": {},
   "outputs": [
    {
     "name": "stdout",
     "output_type": "stream",
     "text": [
      "tensor(0.5527, grad_fn=<MeanBackward0>)\n",
      "tensor(0.5527, grad_fn=<MeanBackward0>)\n"
     ]
    }
   ],
   "source": [
    "print(ddg1_loss)\n",
    "print(torch.mean((ind_1 * ind_2) * nn.functional.mse_loss(ddg1, diff1_labels,reduction='none')))"
   ]
  },
  {
   "cell_type": "code",
   "execution_count": 70,
   "metadata": {},
   "outputs": [
    {
     "name": "stdout",
     "output_type": "stream",
     "text": [
      "tensor(0.0005, grad_fn=<MeanBackward0>)\n"
     ]
    }
   ],
   "source": [
    "print(ddg2_loss)"
   ]
  },
  {
   "cell_type": "code",
   "execution_count": 56,
   "metadata": {},
   "outputs": [
    {
     "name": "stdout",
     "output_type": "stream",
     "text": [
      "tensor(0., grad_fn=<MeanBackward0>)\n"
     ]
    }
   ],
   "source": [
    "print(ddg3_loss)"
   ]
  },
  {
   "cell_type": "code",
   "execution_count": 57,
   "metadata": {},
   "outputs": [
    {
     "data": {
      "text/plain": [
       "tensor(4.6467e-09, grad_fn=<MseLossBackward>)"
      ]
     },
     "execution_count": 57,
     "metadata": {},
     "output_type": "execute_result"
    }
   ],
   "source": [
    "cycle_consistency"
   ]
  },
  {
   "cell_type": "code",
   "execution_count": 61,
   "metadata": {},
   "outputs": [],
   "source": [
    "output, lig1, lig2, lig1_rep1, lig2_rep1 = nobias(bw_input_tensor_1[:, 28:, :, :, :], bw_input_tensor_1[:, :28, :, :, :])\n",
    "_, _, _, lig1_rep2, lig2_rep2 = nobias(bw_input_tensor_2[:, 28:, :, :, :], bw_input_tensor_2[:, :28, :, :, :])\n",
    "bw_rotation_loss = ddgrotloss1(lig1_rep1, lig1_rep2)    \n",
    "bw_rotation_loss_1 = ddgrotloss2(lig2_rep1, lig2_rep2)\n",
    "bw_dg1_loss = DG1criterion(lig1,lig2_label)\n",
    "bw_dg2_loss = DG2criterion(lig2,lig1_label)\n",
    "bw_ddg_loss = DDGcriterion(output,-label)\n",
    "bw_consistency = nn.functional.mse_loss((lig1-lig2),output)"
   ]
  },
  {
   "cell_type": "code",
   "execution_count": 47,
   "metadata": {},
   "outputs": [
    {
     "name": "stdout",
     "output_type": "stream",
     "text": [
      "tensor(0.2443, grad_fn=<MseLossBackward>) tensor(0.2443, grad_fn=<MseLossBackward>)\n",
      "tensor(40.7172, grad_fn=<MseLossBackward>) tensor(46.2145, grad_fn=<MseLossBackward>)\n",
      "tensor(46.2145, grad_fn=<MseLossBackward>) tensor(40.7172, grad_fn=<MseLossBackward>)\n",
      "tensor(1.1511e-09, grad_fn=<MseLossBackward>) tensor(1.1511e-09, grad_fn=<MseLossBackward>)\n",
      "tensor(1.5187e-07, grad_fn=<MseLossBackward>) tensor(1.4962e-07, grad_fn=<MseLossBackward>)\n",
      "tensor(1.4962e-07, grad_fn=<MseLossBackward>) tensor(1.5187e-07, grad_fn=<MseLossBackward>)\n"
     ]
    }
   ],
   "source": [
    "print(ddg_loss,bw_ddg_loss)\n",
    "print(dg1_loss,bw_dg1_loss)\n",
    "print(dg2_loss,bw_dg2_loss)\n",
    "print(consistency,bw_consistency)\n",
    "print(rotation_loss,bw_rotation_loss)\n",
    "print(rotation_loss_1,bw_rotation_loss_1)"
   ]
  },
  {
   "cell_type": "code",
   "execution_count": 48,
   "metadata": {},
   "outputs": [
    {
     "name": "stdout",
     "output_type": "stream",
     "text": [
      "0\n"
     ]
    }
   ],
   "source": [
    "ddg_loss.backward()\n",
    "bw_ddg_loss.backward()\n",
    "# print(input_tensor_1.grad)\n",
    "# print(bw_input_tensor_1.grad)\n",
    "non_same = torch.nonzero(~torch.isclose(first_ligand.grad[:,:28,:,:],bw_input_tensor_1.grad[:,28:,:,:],rtol=0,atol=1E-5),as_tuple=True)\n",
    "print(len(non_same[0]))"
   ]
  },
  {
   "cell_type": "code",
   "execution_count": 52,
   "metadata": {},
   "outputs": [
    {
     "name": "stdout",
     "output_type": "stream",
     "text": [
      "0\n"
     ]
    }
   ],
   "source": [
    "dg1_loss.backward()\n",
    "bw_dg1_loss.backward()\n",
    "# print(input_tensor_1.grad)\n",
    "# print(bw_input_tensor_1.grad)\n",
    "non_same = torch.nonzero(~torch.isclose(input_tensor_1.grad[:,:28,:,:],bw_input_tensor_1.grad[:,28:,:,:],rtol=0,atol=1E-5),as_tuple=True)\n",
    "print(len(non_same[0]))"
   ]
  },
  {
   "cell_type": "code",
   "execution_count": 53,
   "metadata": {},
   "outputs": [
    {
     "name": "stdout",
     "output_type": "stream",
     "text": [
      "0\n"
     ]
    }
   ],
   "source": [
    "dg2_loss.backward()\n",
    "bw_dg2_loss.backward()\n",
    "# print(input_tensor_1.grad)\n",
    "# print(bw_input_tensor_1.grad)\n",
    "non_same = torch.nonzero(~torch.isclose(input_tensor_1.grad[:,:28,:,:],bw_input_tensor_1.grad[:,28:,:,:],rtol=0,atol=1E-5),as_tuple=True)\n",
    "print(len(non_same[0]))"
   ]
  },
  {
   "cell_type": "code",
   "execution_count": 56,
   "metadata": {},
   "outputs": [
    {
     "name": "stdout",
     "output_type": "stream",
     "text": [
      "0\n"
     ]
    }
   ],
   "source": [
    "consistency.backward()\n",
    "bw_consistency.backward()\n",
    "# print(input_tensor_1.grad)\n",
    "# print(bw_input_tensor_1.grad)\n",
    "non_same = torch.nonzero(~torch.isclose(input_tensor_1.grad[:,:28,:,:],bw_input_tensor_1.grad[:,28:,:,:],rtol=0,atol=1E-5),as_tuple=True)\n",
    "print(len(non_same[0]))"
   ]
  },
  {
   "cell_type": "code",
   "execution_count": 59,
   "metadata": {},
   "outputs": [
    {
     "name": "stdout",
     "output_type": "stream",
     "text": [
      "0\n"
     ]
    }
   ],
   "source": [
    "rotation_loss.backward()\n",
    "bw_rotation_loss.backward()\n",
    "# print(input_tensor_1.grad)\n",
    "# print(bw_input_tensor_1.grad)\n",
    "non_same = torch.nonzero(~torch.isclose(input_tensor_1.grad[:,:28,:,:],bw_input_tensor_1.grad[:,28:,:,:],rtol=0,atol=1E-5),as_tuple=True)\n",
    "print(len(non_same[0]))"
   ]
  },
  {
   "cell_type": "code",
   "execution_count": 62,
   "metadata": {},
   "outputs": [
    {
     "name": "stdout",
     "output_type": "stream",
     "text": [
      "0\n"
     ]
    }
   ],
   "source": [
    "rotation_loss_1.backward()\n",
    "bw_rotation_loss_1.backward()\n",
    "# print(input_tensor_1.grad)\n",
    "# print(bw_input_tensor_1.grad)\n",
    "non_same = torch.nonzero(~torch.isclose(input_tensor_1.grad[:,:28,:,:],bw_input_tensor_1.grad[:,28:,:,:],rtol=0,atol=1E-5),as_tuple=True)\n",
    "print(len(non_same[0]))"
   ]
  },
  {
   "cell_type": "code",
   "execution_count": null,
   "metadata": {},
   "outputs": [],
   "source": [
    "pub_api = wandb.apis.public.Api()\n",
    "weight_decay=0\n",
    "ddg_weight=10\n",
    "consistency_weight=1\n",
    "absolute_weight=1\n",
    "rotation_weight=1\n",
    "use_weights=None\n",
    "spec_name=''\n",
    "rot_warmup=0\n",
    "state=\"finished\"\n",
    "runs = pub_api.runs(path='andmcnutt/DDG_model_Regression',\n",
    "                   filters={\"$and\":[{\"config.use_model\":'multtask_latent_nob_def2018'},\n",
    "                                    {'tags':f'addnl_ligs_1'},\n",
    "                                    {\"config.rot_warmup\":rot_warmup},{\"config.weight_decay\":weight_decay},\n",
    "                                    {\"config.solver\":\"adam\"},{\"config.ddg_loss_weight\":ddg_weight},\n",
    "                                    {\"config.consistency_loss_weight\":consistency_weight},\n",
    "                                    {\"config.absolute_loss_weight\":absolute_weight},\n",
    "                                    {\"config.rotation_loss_weight\":rotation_weight},\n",
    "                                    {\"config.use_weights\":use_weights},{\"tags\":'combo'},\n",
    "                                    {\"state\":state}]})\n",
    "print(len(runs))"
   ]
  },
  {
   "cell_type": "code",
   "execution_count": null,
   "metadata": {},
   "outputs": [],
   "source": []
  }
 ],
 "metadata": {
  "kernelspec": {
   "display_name": "Python 3",
   "language": "python",
   "name": "python3"
  },
  "language_info": {
   "codemirror_mode": {
    "name": "ipython",
    "version": 3
   },
   "file_extension": ".py",
   "mimetype": "text/x-python",
   "name": "python",
   "nbconvert_exporter": "python",
   "pygments_lexer": "ipython3",
   "version": "3.8.5"
  }
 },
 "nbformat": 4,
 "nbformat_minor": 4
}
