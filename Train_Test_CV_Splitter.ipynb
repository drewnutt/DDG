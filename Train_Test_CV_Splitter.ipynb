{
 "cells": [
  {
   "cell_type": "code",
   "execution_count": 155,
   "metadata": {},
   "outputs": [],
   "source": [
    "from bs4 import BeautifulSoup\n",
    "import numpy as np\n",
    "import requests\n",
    "import re\n",
    "import itertools\n",
    "import random\n",
    "import pandas as pd"
   ]
  },
  {
   "cell_type": "code",
   "execution_count": 156,
   "metadata": {},
   "outputs": [],
   "source": [
    "np.random.seed(42)\n",
    "url=\"https://www.bindingdb.org/validation_sets/index-1.jsp\"\n",
    "r = requests.get(url)\n",
    "soup = BeautifulSoup(r.content,'html.parser')\n",
    "properstruct = re.compile('http://www.rcsb.org/pdb/explore/explore.do')"
   ]
  },
  {
   "cell_type": "code",
   "execution_count": 157,
   "metadata": {},
   "outputs": [],
   "source": [
    "rows = soup.find_all('tr')\n",
    "imp_rows = [i for i in rows if len(i.find_all('a')) > 0]"
   ]
  },
  {
   "cell_type": "code",
   "execution_count": 158,
   "metadata": {},
   "outputs": [],
   "source": [
    "rec_to_pdb = dict()\n",
    "list_of_pdbs=[]"
   ]
  },
  {
   "cell_type": "code",
   "execution_count": 162,
   "metadata": {},
   "outputs": [],
   "source": [
    "system = \"\"\n",
    "list_rec = []\n",
    "for idx, i in enumerate(imp_rows):\n",
    "    name = i.span\n",
    "    if name is not None:\n",
    "        if len(list_rec):\n",
    "            rec_to_pdb[system]=list_rec\n",
    "            list_rec = []\n",
    "        system = name.text\n",
    "        continue\n",
    "    #non-system names should make it here\n",
    "    if 'bold' in  i.attrs['class']:\n",
    "        pdbid = [j.text for j in i.find_all('a',href=properstruct)]\n",
    "        list_rec+= pdbid\n",
    "        list_of_pdbs+= pdbid\n",
    "if len(list_rec):\n",
    "    rec_to_pdb[system]=list_rec"
   ]
  },
  {
   "cell_type": "code",
   "execution_count": 174,
   "metadata": {},
   "outputs": [],
   "source": [
    "groups = [*rec_to_pdb]\n",
    "train = round(0.8*len(groups))\n",
    "val=round(1.0/3*len(groups))\n",
    "np.random.shuffle(groups)"
   ]
  },
  {
   "cell_type": "code",
   "execution_count": 178,
   "metadata": {},
   "outputs": [],
   "source": [
    "train_data = pd.read_csv('training_input.txt', delimiter=' ', header =None)\n",
    "train_data.columns = ['label','reglabel','og', 'lig1','lig2']\n",
    "train_data['recs'] = train_data['og'].astype(str).str[:4]\n",
    "train_data.head()\n",
    "#train_data['rec'] = pd.Series(train_data.apply(lambda x: re.match(x,rec_of_row)[0],axis=1), index=train_data.index)\n",
    "pdb_to_ind = dict()\n",
    "for pdb in list_of_pdbs:\n",
    "    pdb_to_ind[pdb]=train_data.index[train_data['recs'] == pdb].tolist()\n",
    "del train_data['recs']"
   ]
  },
  {
   "cell_type": "code",
   "execution_count": 179,
   "metadata": {},
   "outputs": [
    {
     "name": "stdout",
     "output_type": "stream",
     "text": [
      "111 14 14\n",
      "0.7860762574962934\n",
      "0.08949080528447188\n",
      "0.12443293721923476\n"
     ]
    }
   ],
   "source": [
    "perm1_train=groups[:train]\n",
    "remainder=groups[train:]\n",
    "perm1_val = remainder[:len(remainder)//2]\n",
    "perm1_test= remainder[len(remainder)//2:]\n",
    "print(len(perm1_train),len(perm1_val),len(perm1_test))\n",
    "def make_csvs(train_data, groups, name, rec_to_pdb, pdb_to_ind):\n",
    "    csv_out=pd.DataFrame()\n",
    "    for val in groups:\n",
    "        rec =rec_to_pdb[val]\n",
    "        for r in rec:\n",
    "            all_rec = train_data.loc[pdb_to_ind[r]]\n",
    "            csv_out = csv_out.append(all_rec)\n",
    "    csv_out.to_csv(name+'.txt',sep=' ',header=False,index=False)\n",
    "    return csv_out.shape[0]\n",
    "\n",
    "\n",
    "double_check = 0\n",
    "for grouping,name in zip([perm1_train,perm1_val,perm1_test],['train','val','test']):\n",
    "    val = make_csvs(train_data, grouping,name,rec_to_pdb, pdb_to_ind)\n",
    "    print(float(val)/train_data.shape[0])\n",
    "    double_check += val"
   ]
  },
  {
   "cell_type": "code",
   "execution_count": 177,
   "metadata": {},
   "outputs": [
    {
     "name": "stdout",
     "output_type": "stream",
     "text": [
      "90378\n",
      "90378\n"
     ]
    }
   ],
   "source": [
    "print(double_check)\n",
    "print(train_data.shape[0])"
   ]
  },
  {
   "cell_type": "code",
   "execution_count": 92,
   "metadata": {},
   "outputs": [
    {
     "data": {
      "text/plain": [
       "139"
      ]
     },
     "execution_count": 92,
     "metadata": {},
     "output_type": "execute_result"
    }
   ],
   "source": [
    "97+42"
   ]
  },
  {
   "cell_type": "code",
   "execution_count": 121,
   "metadata": {},
   "outputs": [
    {
     "data": {
      "text/plain": [
       "['text']"
      ]
     },
     "execution_count": 121,
     "metadata": {},
     "output_type": "execute_result"
    }
   ],
   "source": [
    "'text'.split()"
   ]
  },
  {
   "cell_type": "code",
   "execution_count": null,
   "metadata": {},
   "outputs": [],
   "source": []
  }
 ],
 "metadata": {
  "kernelspec": {
   "display_name": "Python 3",
   "language": "python",
   "name": "python3"
  },
  "language_info": {
   "codemirror_mode": {
    "name": "ipython",
    "version": 3
   },
   "file_extension": ".py",
   "mimetype": "text/x-python",
   "name": "python",
   "nbconvert_exporter": "python",
   "pygments_lexer": "ipython3",
   "version": "3.7.4"
  }
 },
 "nbformat": 4,
 "nbformat_minor": 2
}
